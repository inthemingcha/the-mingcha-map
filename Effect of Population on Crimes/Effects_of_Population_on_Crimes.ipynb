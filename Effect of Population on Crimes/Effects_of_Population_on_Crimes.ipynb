{
  "nbformat": 4,
  "nbformat_minor": 0,
  "metadata": {
    "colab": {
      "name": "Effects of Population on Crimes.ipynb",
      "provenance": [],
      "collapsed_sections": []
    },
    "kernelspec": {
      "name": "python3",
      "display_name": "Python 3"
    },
    "language_info": {
      "name": "python"
    }
  },
  "cells": [
    {
      "cell_type": "markdown",
      "metadata": {
        "id": "l72xMnRWtkXy"
      },
      "source": [
        "# **Effects of Population on Crimes**"
      ]
    },
    {
      "cell_type": "markdown",
      "metadata": {
        "id": "am6ktINc7P8P"
      },
      "source": [
        "작성자: 김민채"
      ]
    },
    {
      "cell_type": "markdown",
      "metadata": {
        "id": "osCYJVXp0DCc"
      },
      "source": [
        "## **프로젝트 목표**\n",
        "2009년부터 2018년까지 10년 간 집계된 미국의 **도시 인구 수**와 **범죄**의 회귀분석 프로젝트<br>\n",
        "### What impact does Population have on crimes?<br>\n",
        "범죄 발생에 인구 수는 영향력을 미칠까?<br>\n",
        "<br>\n",
        "###정부로부터 통고가 날아왔다.<br>\n",
        "**\".. 더 이상 형사 범죄에 전보다 많은 예산을 집행할 수 없습니다.<br>\n",
        "이렇게나 많은 요원들과 부서가 존재함에도 어째서 범죄 발생 현황은 크게 나아지질 않는 것인지<br>\n",
        "본 부서의 범죄 예방 및 검거 능력에 많은 의구심이 듭니다.<br>\n",
        "올해는 작년에 준하여 필요 최소한의 예산만이 집행됩니다.<br>\n",
        "주어진 자원 안에서 본 부서의 존재 이유를 크게 느낄 수 있는 한 해가 되기를 기대합니다.\"**<br>  \n",
        "<br>\n",
        "### 줄어든 예산 속에서 형사 범죄 예방 및 필요 요원 배치를 위해 오직 인구 수만으로 범죄를 예측하라!\n",
        "<br>"
      ]
    },
    {
      "cell_type": "markdown",
      "metadata": {
        "id": "sUEsi5croQ4Q"
      },
      "source": [
        "## **프로젝트 가설**\n",
        "**주제**:<br>\n",
        "도시 인구 수를 통한 범죄 발생 예측 시스템 도출<br>\n",
        "<br> \n",
        "\n",
        "**귀무가설**:<br>\n",
        "인구 수와 형법 범죄 발생 건 수는 인과관계가 없다.<br>\n",
        "<br>\n",
        "\n",
        "\n",
        "**가설 검증 방향**:<br>\n",
        "1. 미국의 주(State) 별 인구 10만 명당 범죄 발생률 계산\n",
        "- 인구 10만 명당 범죄 발생률 평균을 구해 범죄 발생 예측 정책 필요성 피력\n",
        " - 각 주의 형법 범죄율은 인구 10만 명당 형법 범죄 발생건수를 나타낸다.\n",
        " - 형법 범죄율 계산 방식 = (형법 범죄 발생건수 ÷ 총인구) × 100,000<br>\n",
        " <br> \n",
        "2. 인구 수와 범죄 발생 간 상관관계 파악\n",
        "- scatter plot(산점도) 및 피어슨 상관계수 적용\n",
        " - violent crime의 경우\n",
        " - property crime의 경우<br>\n",
        " <br>\n",
        "\n",
        "3. 인구 수에 따른 범죄 발생률 인과관계 여부 분석\n",
        "- 회귀분석(regression)\n",
        " - statsmodel의 ols 적용\n",
        "  - 변수의 정규성: KDE(Kernel Density Estimation)\n",
        "  - 변수의 선형 상관성: regplot  \n",
        "  - 변수의 독립성: DW 검정(Durbin-Watson)\n",
        "- 인구 수에 가장 큰 영향을 받는 형법 범죄는 무엇일까?<br>\n",
        "<br>\n",
        "4. 2019년 인구 수를 통한 형법 범죄 발생 건수 예측\n",
        "- sklearn의 LinearRegression 적용<br>\n",
        "- df_test\n",
        " <br>\n",
        "5. 정리<br>\n",
        "\n",
        "\n",
        "\n",
        "\n"
      ]
    },
    {
      "cell_type": "markdown",
      "metadata": {
        "id": "h0bESRGbpQSL"
      },
      "source": [
        "## **환경설정**"
      ]
    },
    {
      "cell_type": "code",
      "metadata": {
        "id": "M5rQzsVygSCw",
        "colab": {
          "base_uri": "https://localhost:8080/"
        },
        "outputId": "4f1dbfc1-ad3e-4617-98c4-83008122214e"
      },
      "source": [
        "### load necessary libraries\n",
        "import pandas as pd\n",
        "import numpy as np\n",
        "import matplotlib.pyplot as plt\n",
        "import seaborn as sns\n",
        "import scipy as sp\n",
        "import scipy.stats\n",
        "import statsmodels.api as sm\n",
        "from statsmodels.formula.api import ols\n",
        "from sklearn.linear_model import LinearRegression\n",
        "from sklearn.metrics import r2_score"
      ],
      "execution_count": null,
      "outputs": [
        {
          "output_type": "stream",
          "text": [
            "/usr/local/lib/python3.7/dist-packages/statsmodels/tools/_testing.py:19: FutureWarning: pandas.util.testing is deprecated. Use the functions in the public API at pandas.testing instead.\n",
            "  import pandas.util.testing as tm\n"
          ],
          "name": "stderr"
        }
      ]
    },
    {
      "cell_type": "code",
      "metadata": {
        "id": "Ti0G3_5pxMhd"
      },
      "source": [
        "### auto resize\n",
        "%matplotlib inline"
      ],
      "execution_count": null,
      "outputs": []
    },
    {
      "cell_type": "code",
      "metadata": {
        "id": "aBOT74BQdwMr"
      },
      "source": [
        "### pandas display option float format\n",
        "pd.options.display.float_format = '{:.2f}'.format"
      ],
      "execution_count": null,
      "outputs": []
    },
    {
      "cell_type": "code",
      "metadata": {
        "id": "wVTOoiBdxHC8"
      },
      "source": [
        "# ### install pandas profiling for description of df\n",
        "# !pip install pandas-profiling==2.7.1\n",
        "# from pandas_profiling import ProfileReport"
      ],
      "execution_count": null,
      "outputs": []
    },
    {
      "cell_type": "code",
      "metadata": {
        "colab": {
          "resources": {
            "http://localhost:8080/nbextensions/google.colab/files.js": {
              "data": "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",
              "ok": true,
              "headers": [
                [
                  "content-type",
                  "application/javascript"
                ]
              ],
              "status": 200,
              "status_text": ""
            }
          },
          "base_uri": "https://localhost:8080/",
          "height": 73
        },
        "id": "ObXUjzpGfy15",
        "outputId": "763da342-b369-4767-aee2-d1fff313ac52"
      },
      "source": [
        "### upload csv file method1\n",
        "from google.colab import files\n",
        "uploaded = files.upload()"
      ],
      "execution_count": null,
      "outputs": [
        {
          "output_type": "display_data",
          "data": {
            "text/html": [
              "\n",
              "     <input type=\"file\" id=\"files-e00cb903-3845-4f75-b00e-0d25abb9ca40\" name=\"files[]\" multiple disabled\n",
              "        style=\"border:none\" />\n",
              "     <output id=\"result-e00cb903-3845-4f75-b00e-0d25abb9ca40\">\n",
              "      Upload widget is only available when the cell has been executed in the\n",
              "      current browser session. Please rerun this cell to enable.\n",
              "      </output>\n",
              "      <script src=\"/nbextensions/google.colab/files.js\"></script> "
            ],
            "text/plain": [
              "<IPython.core.display.HTML object>"
            ]
          },
          "metadata": {
            "tags": []
          }
        },
        {
          "output_type": "stream",
          "text": [
            "Saving estimated_crimes_1979_2019.csv to estimated_crimes_1979_2019.csv\n"
          ],
          "name": "stdout"
        }
      ]
    },
    {
      "cell_type": "markdown",
      "metadata": {
        "id": "VDjPsZjzpk4S"
      },
      "source": [
        "## **데이터셋**<br>\n",
        "**estimated_crimes_1979_2019.csv**<br>\n",
        "This dataset contains estimated data at the state and national level and was derived from the Summary Reporting System (SRS).<br>\n",
        "These data reflect the estimates the FBI has traditionally included in its annual publications.<br>\n",
        "the FBI's estimated crime totals for the nation and all 50 states, 1979 to current year available.<br>\n",
        "[Federal Bureau of Investigation\n",
        "Crime Data Explorer](https://s3-us-gov-west-1.amazonaws.com/cg-d4b776d0-d898-4153-90c8-8336f86bdfec/estimated_crimes_1979_2019.csv)<br>\n",
        "<br>\n",
        "## **특성**                    \n",
        "- year : 년도\n",
        "- state_abbr : 미국 주 명 약자 \n",
        "- state_name : 미국 주 명                                     \n",
        "- Population : 미국 주 인구 수                \n",
        "- violent_crime_total : 강력범죄 총계      \n",
        "- homicide : 살인죄\n",
        "- rape_legacy : 2013년 법 개정 전 강간죄\n",
        "- rape_revised : 2013년 법 개정 후 강간죄\t\n",
        "- robbery : 협박 혹은 폭력을 사용한 강도죄\n",
        "- aggravated_assault : 가중 폭행죄                                       \n",
        "- property_crime : 재산범죄 총계        \n",
        "- burglary : 주거 침입 절도죄\n",
        "- larceny : 절도죄               \n",
        "- motor_vehicle_theft : 차량 절도죄        \n",
        "- caveats : 주의사항 "
      ]
    },
    {
      "cell_type": "code",
      "metadata": {
        "id": "KQFf6Sy3YU9p"
      },
      "source": [
        "### load csv file\n",
        "\n",
        "df = pd.read_csv('estimated_crimes_1979_2019.csv')"
      ],
      "execution_count": null,
      "outputs": []
    },
    {
      "cell_type": "code",
      "metadata": {
        "colab": {
          "base_uri": "https://localhost:8080/",
          "height": 224
        },
        "id": "0UHfbfvkhXRW",
        "outputId": "2f4b888a-73fb-4db5-cb1d-9dc07e792f1b"
      },
      "source": [
        "df.head()"
      ],
      "execution_count": null,
      "outputs": [
        {
          "output_type": "execute_result",
          "data": {
            "text/html": [
              "<div>\n",
              "<style scoped>\n",
              "    .dataframe tbody tr th:only-of-type {\n",
              "        vertical-align: middle;\n",
              "    }\n",
              "\n",
              "    .dataframe tbody tr th {\n",
              "        vertical-align: top;\n",
              "    }\n",
              "\n",
              "    .dataframe thead th {\n",
              "        text-align: right;\n",
              "    }\n",
              "</style>\n",
              "<table border=\"1\" class=\"dataframe\">\n",
              "  <thead>\n",
              "    <tr style=\"text-align: right;\">\n",
              "      <th></th>\n",
              "      <th>year</th>\n",
              "      <th>state_abbr</th>\n",
              "      <th>state_name</th>\n",
              "      <th>population</th>\n",
              "      <th>violent_crime</th>\n",
              "      <th>homicide</th>\n",
              "      <th>rape_legacy</th>\n",
              "      <th>rape_revised</th>\n",
              "      <th>robbery</th>\n",
              "      <th>aggravated_assault</th>\n",
              "      <th>property_crime</th>\n",
              "      <th>burglary</th>\n",
              "      <th>larceny</th>\n",
              "      <th>motor_vehicle_theft</th>\n",
              "      <th>caveats</th>\n",
              "    </tr>\n",
              "  </thead>\n",
              "  <tbody>\n",
              "    <tr>\n",
              "      <th>0</th>\n",
              "      <td>1979</td>\n",
              "      <td>NaN</td>\n",
              "      <td>NaN</td>\n",
              "      <td>220099000</td>\n",
              "      <td>1208030</td>\n",
              "      <td>21460</td>\n",
              "      <td>76390.00</td>\n",
              "      <td>nan</td>\n",
              "      <td>480700</td>\n",
              "      <td>629480</td>\n",
              "      <td>11041500</td>\n",
              "      <td>3327700</td>\n",
              "      <td>6601000</td>\n",
              "      <td>1112800</td>\n",
              "      <td>NaN</td>\n",
              "    </tr>\n",
              "    <tr>\n",
              "      <th>1</th>\n",
              "      <td>1979</td>\n",
              "      <td>AK</td>\n",
              "      <td>Alaska</td>\n",
              "      <td>406000</td>\n",
              "      <td>1994</td>\n",
              "      <td>54</td>\n",
              "      <td>292.00</td>\n",
              "      <td>nan</td>\n",
              "      <td>445</td>\n",
              "      <td>1203</td>\n",
              "      <td>23193</td>\n",
              "      <td>5616</td>\n",
              "      <td>15076</td>\n",
              "      <td>2501</td>\n",
              "      <td>NaN</td>\n",
              "    </tr>\n",
              "    <tr>\n",
              "      <th>2</th>\n",
              "      <td>1979</td>\n",
              "      <td>AL</td>\n",
              "      <td>Alabama</td>\n",
              "      <td>3769000</td>\n",
              "      <td>15578</td>\n",
              "      <td>496</td>\n",
              "      <td>1037.00</td>\n",
              "      <td>nan</td>\n",
              "      <td>4127</td>\n",
              "      <td>9918</td>\n",
              "      <td>144372</td>\n",
              "      <td>48517</td>\n",
              "      <td>83791</td>\n",
              "      <td>12064</td>\n",
              "      <td>NaN</td>\n",
              "    </tr>\n",
              "    <tr>\n",
              "      <th>3</th>\n",
              "      <td>1979</td>\n",
              "      <td>AR</td>\n",
              "      <td>Arkansas</td>\n",
              "      <td>2180000</td>\n",
              "      <td>7984</td>\n",
              "      <td>198</td>\n",
              "      <td>595.00</td>\n",
              "      <td>nan</td>\n",
              "      <td>1626</td>\n",
              "      <td>5565</td>\n",
              "      <td>70949</td>\n",
              "      <td>21457</td>\n",
              "      <td>45267</td>\n",
              "      <td>4225</td>\n",
              "      <td>NaN</td>\n",
              "    </tr>\n",
              "    <tr>\n",
              "      <th>4</th>\n",
              "      <td>1979</td>\n",
              "      <td>AZ</td>\n",
              "      <td>Arizona</td>\n",
              "      <td>2450000</td>\n",
              "      <td>14528</td>\n",
              "      <td>219</td>\n",
              "      <td>1120.00</td>\n",
              "      <td>nan</td>\n",
              "      <td>4305</td>\n",
              "      <td>8884</td>\n",
              "      <td>177977</td>\n",
              "      <td>48916</td>\n",
              "      <td>116976</td>\n",
              "      <td>12085</td>\n",
              "      <td>NaN</td>\n",
              "    </tr>\n",
              "  </tbody>\n",
              "</table>\n",
              "</div>"
            ],
            "text/plain": [
              "   year state_abbr state_name  ...  larceny  motor_vehicle_theft  caveats\n",
              "0  1979        NaN        NaN  ...  6601000              1112800      NaN\n",
              "1  1979         AK     Alaska  ...    15076                 2501      NaN\n",
              "2  1979         AL    Alabama  ...    83791                12064      NaN\n",
              "3  1979         AR   Arkansas  ...    45267                 4225      NaN\n",
              "4  1979         AZ    Arizona  ...   116976                12085      NaN\n",
              "\n",
              "[5 rows x 15 columns]"
            ]
          },
          "metadata": {
            "tags": []
          },
          "execution_count": 7
        }
      ]
    },
    {
      "cell_type": "code",
      "metadata": {
        "colab": {
          "base_uri": "https://localhost:8080/"
        },
        "id": "bfewO3x_hctk",
        "outputId": "f5b87ce0-9da6-420b-ff9d-8f2a57a33701"
      },
      "source": [
        "df.shape"
      ],
      "execution_count": null,
      "outputs": [
        {
          "output_type": "execute_result",
          "data": {
            "text/plain": [
              "(2116, 15)"
            ]
          },
          "metadata": {
            "tags": []
          },
          "execution_count": 8
        }
      ]
    },
    {
      "cell_type": "code",
      "metadata": {
        "id": "7MRO8xKnFDm0"
      },
      "source": [
        "# ### df description through by pandas_profile\n",
        "\n",
        "# profile = ProfileReport(df)\n",
        "# profile.to_file('estimated_crimes_1979_2019_report.html')"
      ],
      "execution_count": null,
      "outputs": []
    },
    {
      "cell_type": "code",
      "metadata": {
        "colab": {
          "base_uri": "https://localhost:8080/"
        },
        "id": "fdTlBf2-heX0",
        "outputId": "04336d68-cd63-4f65-bf1e-28211ca75484"
      },
      "source": [
        "df.isnull().sum()"
      ],
      "execution_count": null,
      "outputs": [
        {
          "output_type": "execute_result",
          "data": {
            "text/plain": [
              "year                      0\n",
              "state_abbr               41\n",
              "state_name               41\n",
              "population                0\n",
              "violent_crime             0\n",
              "homicide                  0\n",
              "rape_legacy             156\n",
              "rape_revised           1752\n",
              "robbery                   0\n",
              "aggravated_assault        0\n",
              "property_crime            0\n",
              "burglary                  0\n",
              "larceny                   0\n",
              "motor_vehicle_theft       0\n",
              "caveats                2045\n",
              "dtype: int64"
            ]
          },
          "metadata": {
            "tags": []
          },
          "execution_count": 10
        }
      ]
    },
    {
      "cell_type": "code",
      "metadata": {
        "id": "nc_F2LgJ-ndU"
      },
      "source": [
        "df = df[df['state_name'].notnull()]"
      ],
      "execution_count": null,
      "outputs": []
    },
    {
      "cell_type": "code",
      "metadata": {
        "id": "ZtuIioQp_OS3"
      },
      "source": [
        "df = df.fillna(0)"
      ],
      "execution_count": null,
      "outputs": []
    },
    {
      "cell_type": "code",
      "metadata": {
        "colab": {
          "base_uri": "https://localhost:8080/"
        },
        "id": "sZUkwvjE_Ulj",
        "outputId": "3c9704a9-8c65-46f6-8886-65de25a7db2c"
      },
      "source": [
        "df.isnull().sum()"
      ],
      "execution_count": null,
      "outputs": [
        {
          "output_type": "execute_result",
          "data": {
            "text/plain": [
              "year                   0\n",
              "state_abbr             0\n",
              "state_name             0\n",
              "population             0\n",
              "violent_crime          0\n",
              "homicide               0\n",
              "rape_legacy            0\n",
              "rape_revised           0\n",
              "robbery                0\n",
              "aggravated_assault     0\n",
              "property_crime         0\n",
              "burglary               0\n",
              "larceny                0\n",
              "motor_vehicle_theft    0\n",
              "caveats                0\n",
              "dtype: int64"
            ]
          },
          "metadata": {
            "tags": []
          },
          "execution_count": 13
        }
      ]
    },
    {
      "cell_type": "code",
      "metadata": {
        "id": "dj_ANxwvLtQp"
      },
      "source": [
        "### add rape_legacy to rape_revised\n",
        "\n",
        "df['rape'] = df['rape_legacy'] + df['rape_revised']"
      ],
      "execution_count": null,
      "outputs": []
    },
    {
      "cell_type": "code",
      "metadata": {
        "id": "Zq8-VSaf-qmv"
      },
      "source": [
        "df_train = df.loc[(2008 < df['year']) &(df['year'] < 2019)]"
      ],
      "execution_count": null,
      "outputs": []
    },
    {
      "cell_type": "code",
      "metadata": {
        "id": "5u03CpNjNsM_"
      },
      "source": [
        "df_test = df.loc[df['year'] == 2019]"
      ],
      "execution_count": null,
      "outputs": []
    },
    {
      "cell_type": "markdown",
      "metadata": {
        "id": "V7NeLBRxOmfC"
      },
      "source": [
        "기존 데이터는 2019년도 데이터셋과 2009년부터 2018년 간의 데이터셋으로 크게 이원화 되었다.<br>\n",
        "2009년부터 2018년까지의 데이터를 통해 발생한 범죄와 측정된 인구 수의 회귀분석을 거치고<br>\n",
        "인과관계가 밝혀질 시 2019년의 인구 수로 범죄 발생 건수를 예측하기 위해서이다."
      ]
    },
    {
      "cell_type": "code",
      "metadata": {
        "id": "0O0o5JCw0FtZ"
      },
      "source": [
        "### remove unnecessary features:\n",
        "\n",
        "df = df.drop(['year', 'state_abbr', 'violent_crime', 'rape_legacy', 'rape_revised', 'property_crime', 'caveats'], axis = 1)"
      ],
      "execution_count": null,
      "outputs": []
    },
    {
      "cell_type": "markdown",
      "metadata": {
        "id": "DSoHv5mubQTV"
      },
      "source": [
        "데이터셋에서 삭제된 특성은 'year', 'state_abbr', 'violent_crime', 'rape_legacy', 'rape_revised', 'property_crime', 'caveats'이다.<br>\n",
        "'state_name'을 통해 해당 주의 명칭을 확인할 수 있어 명칭 약어를 삭제했다.<br>\n",
        "이와 더불어 'year', 'violent_crime', 'rape_legacy', 'rape_revised' 및 'property_crime'을 함께 삭제했다.<br>\n",
        "본 프로젝트는 년도 변화, 포괄적인 범죄 총계의 영향 혹은 강간죄 개정 전후의 차이를 분석하기 보다<br>\n",
        "인구 수에 따른 각 범죄 발생의 인과관계를 밝혀보는 것에 있기 때문이다.<br>"
      ]
    },
    {
      "cell_type": "code",
      "metadata": {
        "id": "P04RFN4xU7dO"
      },
      "source": [
        "df_train = df_train.groupby(by = ['state_name']).mean()\n",
        "df_train = df_train.reset_index()"
      ],
      "execution_count": null,
      "outputs": []
    },
    {
      "cell_type": "markdown",
      "metadata": {
        "id": "WUj6NTw0h6_b"
      },
      "source": [
        "df_train 데이터는 총 10년 간 발발한 범죄 통계를 각 주에 따라 재집계한 것이다.<br>\n",
        "따라서 해당 값의 평균을 구해 10년 간 발생한 형법 범죄율을 살펴보고자 한다.\n"
      ]
    },
    {
      "cell_type": "code",
      "metadata": {
        "id": "8KXUd0ZdToq_"
      },
      "source": [
        "df_test = df_test.groupby(by = ['state_name']).sum()\n",
        "df_test = df_test.reset_index()"
      ],
      "execution_count": null,
      "outputs": []
    },
    {
      "cell_type": "markdown",
      "metadata": {
        "id": "uBs4zyEjTwn4"
      },
      "source": [
        "한편 df_test 데이터는 2019년 1년 간 발생한 범죄 통계를 나타내고 있을 뿐이므로 각 주에 따라 합산하여 처리하였다.<br>\n"
      ]
    },
    {
      "cell_type": "code",
      "metadata": {
        "id": "nt1m7rWPMNRC"
      },
      "source": [
        "### rearrange columns\n",
        "\n",
        "df_train = df_train[['state_name',\t'population',\t'homicide',\t'rape',\t'robbery',\t'aggravated_assault',\t\n",
        "                      'burglary',\t'larceny',\t'motor_vehicle_theft']]\n",
        "\n",
        "\n",
        "df_test = df_test[['state_name',\t'population',\t'homicide',\t'rape',\t'robbery',\t'aggravated_assault',\t\n",
        "                    'burglary',\t'larceny',\t'motor_vehicle_theft']]"
      ],
      "execution_count": null,
      "outputs": []
    },
    {
      "cell_type": "code",
      "metadata": {
        "colab": {
          "base_uri": "https://localhost:8080/",
          "height": 204
        },
        "id": "9yWfG-rhlUaF",
        "outputId": "02c292b0-26da-46aa-8d1b-e02ad59a2126"
      },
      "source": [
        "df_train.head()"
      ],
      "execution_count": null,
      "outputs": [
        {
          "output_type": "execute_result",
          "data": {
            "text/html": [
              "<div>\n",
              "<style scoped>\n",
              "    .dataframe tbody tr th:only-of-type {\n",
              "        vertical-align: middle;\n",
              "    }\n",
              "\n",
              "    .dataframe tbody tr th {\n",
              "        vertical-align: top;\n",
              "    }\n",
              "\n",
              "    .dataframe thead th {\n",
              "        text-align: right;\n",
              "    }\n",
              "</style>\n",
              "<table border=\"1\" class=\"dataframe\">\n",
              "  <thead>\n",
              "    <tr style=\"text-align: right;\">\n",
              "      <th></th>\n",
              "      <th>state_name</th>\n",
              "      <th>population</th>\n",
              "      <th>homicide</th>\n",
              "      <th>rape</th>\n",
              "      <th>robbery</th>\n",
              "      <th>aggravated_assault</th>\n",
              "      <th>burglary</th>\n",
              "      <th>larceny</th>\n",
              "      <th>motor_vehicle_theft</th>\n",
              "    </tr>\n",
              "  </thead>\n",
              "  <tbody>\n",
              "    <tr>\n",
              "      <th>0</th>\n",
              "      <td>Alabama</td>\n",
              "      <td>4827295.40</td>\n",
              "      <td>341.70</td>\n",
              "      <td>2327.30</td>\n",
              "      <td>4798.10</td>\n",
              "      <td>15388.00</td>\n",
              "      <td>40174.20</td>\n",
              "      <td>106237.00</td>\n",
              "      <td>11123.50</td>\n",
              "    </tr>\n",
              "    <tr>\n",
              "      <th>1</th>\n",
              "      <td>Alaska</td>\n",
              "      <td>729524.70</td>\n",
              "      <td>40.80</td>\n",
              "      <td>1061.20</td>\n",
              "      <td>716.50</td>\n",
              "      <td>3585.90</td>\n",
              "      <td>3429.00</td>\n",
              "      <td>16041.00</td>\n",
              "      <td>2300.30</td>\n",
              "    </tr>\n",
              "    <tr>\n",
              "      <th>2</th>\n",
              "      <td>Arizona</td>\n",
              "      <td>6732428.70</td>\n",
              "      <td>370.90</td>\n",
              "      <td>3876.60</td>\n",
              "      <td>6991.50</td>\n",
              "      <td>19076.90</td>\n",
              "      <td>45028.50</td>\n",
              "      <td>152908.60</td>\n",
              "      <td>19467.90</td>\n",
              "    </tr>\n",
              "    <tr>\n",
              "      <th>3</th>\n",
              "      <td>Arkansas</td>\n",
              "      <td>2960386.20</td>\n",
              "      <td>185.70</td>\n",
              "      <td>2262.20</td>\n",
              "      <td>2174.30</td>\n",
              "      <td>11105.40</td>\n",
              "      <td>27764.40</td>\n",
              "      <td>67803.80</td>\n",
              "      <td>6204.30</td>\n",
              "    </tr>\n",
              "    <tr>\n",
              "      <th>4</th>\n",
              "      <td>California</td>\n",
              "      <td>38435871.00</td>\n",
              "      <td>1826.30</td>\n",
              "      <td>14651.70</td>\n",
              "      <td>55394.60</td>\n",
              "      <td>97693.60</td>\n",
              "      <td>209665.60</td>\n",
              "      <td>621951.00</td>\n",
              "      <td>162028.40</td>\n",
              "    </tr>\n",
              "  </tbody>\n",
              "</table>\n",
              "</div>"
            ],
            "text/plain": [
              "   state_name  population  homicide  ...  burglary   larceny  motor_vehicle_theft\n",
              "0     Alabama  4827295.40    341.70  ...  40174.20 106237.00             11123.50\n",
              "1      Alaska   729524.70     40.80  ...   3429.00  16041.00              2300.30\n",
              "2     Arizona  6732428.70    370.90  ...  45028.50 152908.60             19467.90\n",
              "3    Arkansas  2960386.20    185.70  ...  27764.40  67803.80              6204.30\n",
              "4  California 38435871.00   1826.30  ... 209665.60 621951.00            162028.40\n",
              "\n",
              "[5 rows x 9 columns]"
            ]
          },
          "metadata": {
            "tags": []
          },
          "execution_count": 21
        }
      ]
    },
    {
      "cell_type": "code",
      "metadata": {
        "colab": {
          "base_uri": "https://localhost:8080/"
        },
        "id": "Olq1tH4aVbRp",
        "outputId": "a0073f8f-8c0b-4aac-a344-8311e22e2604"
      },
      "source": [
        "df_train.shape"
      ],
      "execution_count": null,
      "outputs": [
        {
          "output_type": "execute_result",
          "data": {
            "text/plain": [
              "(51, 9)"
            ]
          },
          "metadata": {
            "tags": []
          },
          "execution_count": 22
        }
      ]
    },
    {
      "cell_type": "code",
      "metadata": {
        "colab": {
          "base_uri": "https://localhost:8080/",
          "height": 204
        },
        "id": "16MTe2KgUb1m",
        "outputId": "424bda57-d415-48db-9dd4-d2daa5c15f57"
      },
      "source": [
        "df_test.head()"
      ],
      "execution_count": null,
      "outputs": [
        {
          "output_type": "execute_result",
          "data": {
            "text/html": [
              "<div>\n",
              "<style scoped>\n",
              "    .dataframe tbody tr th:only-of-type {\n",
              "        vertical-align: middle;\n",
              "    }\n",
              "\n",
              "    .dataframe tbody tr th {\n",
              "        vertical-align: top;\n",
              "    }\n",
              "\n",
              "    .dataframe thead th {\n",
              "        text-align: right;\n",
              "    }\n",
              "</style>\n",
              "<table border=\"1\" class=\"dataframe\">\n",
              "  <thead>\n",
              "    <tr style=\"text-align: right;\">\n",
              "      <th></th>\n",
              "      <th>state_name</th>\n",
              "      <th>population</th>\n",
              "      <th>homicide</th>\n",
              "      <th>rape</th>\n",
              "      <th>robbery</th>\n",
              "      <th>aggravated_assault</th>\n",
              "      <th>burglary</th>\n",
              "      <th>larceny</th>\n",
              "      <th>motor_vehicle_theft</th>\n",
              "    </tr>\n",
              "  </thead>\n",
              "  <tbody>\n",
              "    <tr>\n",
              "      <th>0</th>\n",
              "      <td>Alabama</td>\n",
              "      <td>4903185</td>\n",
              "      <td>358</td>\n",
              "      <td>2068.00</td>\n",
              "      <td>3941</td>\n",
              "      <td>18679</td>\n",
              "      <td>26079</td>\n",
              "      <td>92477</td>\n",
              "      <td>12577</td>\n",
              "    </tr>\n",
              "    <tr>\n",
              "      <th>1</th>\n",
              "      <td>Alaska</td>\n",
              "      <td>731545</td>\n",
              "      <td>69</td>\n",
              "      <td>1088.00</td>\n",
              "      <td>826</td>\n",
              "      <td>4360</td>\n",
              "      <td>3563</td>\n",
              "      <td>15114</td>\n",
              "      <td>2617</td>\n",
              "    </tr>\n",
              "    <tr>\n",
              "      <th>2</th>\n",
              "      <td>Arizona</td>\n",
              "      <td>7278717</td>\n",
              "      <td>365</td>\n",
              "      <td>3662.00</td>\n",
              "      <td>6410</td>\n",
              "      <td>22704</td>\n",
              "      <td>28699</td>\n",
              "      <td>130788</td>\n",
              "      <td>18151</td>\n",
              "    </tr>\n",
              "    <tr>\n",
              "      <th>3</th>\n",
              "      <td>Arkansas</td>\n",
              "      <td>3017804</td>\n",
              "      <td>242</td>\n",
              "      <td>2331.00</td>\n",
              "      <td>1557</td>\n",
              "      <td>13513</td>\n",
              "      <td>18095</td>\n",
              "      <td>60735</td>\n",
              "      <td>7420</td>\n",
              "    </tr>\n",
              "    <tr>\n",
              "      <th>4</th>\n",
              "      <td>California</td>\n",
              "      <td>39512223</td>\n",
              "      <td>1690</td>\n",
              "      <td>14799.00</td>\n",
              "      <td>52301</td>\n",
              "      <td>105541</td>\n",
              "      <td>152555</td>\n",
              "      <td>626802</td>\n",
              "      <td>141757</td>\n",
              "    </tr>\n",
              "  </tbody>\n",
              "</table>\n",
              "</div>"
            ],
            "text/plain": [
              "   state_name  population  homicide  ...  burglary  larceny  motor_vehicle_theft\n",
              "0     Alabama     4903185       358  ...     26079    92477                12577\n",
              "1      Alaska      731545        69  ...      3563    15114                 2617\n",
              "2     Arizona     7278717       365  ...     28699   130788                18151\n",
              "3    Arkansas     3017804       242  ...     18095    60735                 7420\n",
              "4  California    39512223      1690  ...    152555   626802               141757\n",
              "\n",
              "[5 rows x 9 columns]"
            ]
          },
          "metadata": {
            "tags": []
          },
          "execution_count": 23
        }
      ]
    },
    {
      "cell_type": "code",
      "metadata": {
        "id": "addKxvXQAhRU",
        "colab": {
          "base_uri": "https://localhost:8080/"
        },
        "outputId": "6e0bed1e-1d46-4632-c065-9e0235d36b53"
      },
      "source": [
        "df_test.shape"
      ],
      "execution_count": null,
      "outputs": [
        {
          "output_type": "execute_result",
          "data": {
            "text/plain": [
              "(51, 9)"
            ]
          },
          "metadata": {
            "tags": []
          },
          "execution_count": 24
        }
      ]
    },
    {
      "cell_type": "markdown",
      "metadata": {
        "id": "4vKKLtD4fXXS"
      },
      "source": [
        "### **범죄 유형에 따른 데이터셋 추출(violent_crime / property_crime)**"
      ]
    },
    {
      "cell_type": "markdown",
      "metadata": {
        "id": "GpjcrfxDyYXY"
      },
      "source": [
        "#### **violent_crime** "
      ]
    },
    {
      "cell_type": "code",
      "metadata": {
        "id": "eAW6t6KJ_XeB"
      },
      "source": [
        "### rearrange df_train on violent crime\n",
        "\n",
        "violent_crime = df_train[['state_name',\t'population',\t'homicide',\t'rape',\t'robbery',\t'aggravated_assault']]"
      ],
      "execution_count": null,
      "outputs": []
    },
    {
      "cell_type": "code",
      "metadata": {
        "colab": {
          "base_uri": "https://localhost:8080/",
          "height": 204
        },
        "id": "Oc_qz3whmK3z",
        "outputId": "60684d93-3055-4dea-e5db-cad1803d0d29"
      },
      "source": [
        "violent_crime.head()"
      ],
      "execution_count": null,
      "outputs": [
        {
          "output_type": "execute_result",
          "data": {
            "text/html": [
              "<div>\n",
              "<style scoped>\n",
              "    .dataframe tbody tr th:only-of-type {\n",
              "        vertical-align: middle;\n",
              "    }\n",
              "\n",
              "    .dataframe tbody tr th {\n",
              "        vertical-align: top;\n",
              "    }\n",
              "\n",
              "    .dataframe thead th {\n",
              "        text-align: right;\n",
              "    }\n",
              "</style>\n",
              "<table border=\"1\" class=\"dataframe\">\n",
              "  <thead>\n",
              "    <tr style=\"text-align: right;\">\n",
              "      <th></th>\n",
              "      <th>state_name</th>\n",
              "      <th>population</th>\n",
              "      <th>homicide</th>\n",
              "      <th>rape</th>\n",
              "      <th>robbery</th>\n",
              "      <th>aggravated_assault</th>\n",
              "    </tr>\n",
              "  </thead>\n",
              "  <tbody>\n",
              "    <tr>\n",
              "      <th>0</th>\n",
              "      <td>Alabama</td>\n",
              "      <td>4827295.40</td>\n",
              "      <td>341.70</td>\n",
              "      <td>2327.30</td>\n",
              "      <td>4798.10</td>\n",
              "      <td>15388.00</td>\n",
              "    </tr>\n",
              "    <tr>\n",
              "      <th>1</th>\n",
              "      <td>Alaska</td>\n",
              "      <td>729524.70</td>\n",
              "      <td>40.80</td>\n",
              "      <td>1061.20</td>\n",
              "      <td>716.50</td>\n",
              "      <td>3585.90</td>\n",
              "    </tr>\n",
              "    <tr>\n",
              "      <th>2</th>\n",
              "      <td>Arizona</td>\n",
              "      <td>6732428.70</td>\n",
              "      <td>370.90</td>\n",
              "      <td>3876.60</td>\n",
              "      <td>6991.50</td>\n",
              "      <td>19076.90</td>\n",
              "    </tr>\n",
              "    <tr>\n",
              "      <th>3</th>\n",
              "      <td>Arkansas</td>\n",
              "      <td>2960386.20</td>\n",
              "      <td>185.70</td>\n",
              "      <td>2262.20</td>\n",
              "      <td>2174.30</td>\n",
              "      <td>11105.40</td>\n",
              "    </tr>\n",
              "    <tr>\n",
              "      <th>4</th>\n",
              "      <td>California</td>\n",
              "      <td>38435871.00</td>\n",
              "      <td>1826.30</td>\n",
              "      <td>14651.70</td>\n",
              "      <td>55394.60</td>\n",
              "      <td>97693.60</td>\n",
              "    </tr>\n",
              "  </tbody>\n",
              "</table>\n",
              "</div>"
            ],
            "text/plain": [
              "   state_name  population  homicide     rape  robbery  aggravated_assault\n",
              "0     Alabama  4827295.40    341.70  2327.30  4798.10            15388.00\n",
              "1      Alaska   729524.70     40.80  1061.20   716.50             3585.90\n",
              "2     Arizona  6732428.70    370.90  3876.60  6991.50            19076.90\n",
              "3    Arkansas  2960386.20    185.70  2262.20  2174.30            11105.40\n",
              "4  California 38435871.00   1826.30 14651.70 55394.60            97693.60"
            ]
          },
          "metadata": {
            "tags": []
          },
          "execution_count": 26
        }
      ]
    },
    {
      "cell_type": "code",
      "metadata": {
        "colab": {
          "base_uri": "https://localhost:8080/"
        },
        "id": "AT7c8u9pCqds",
        "outputId": "0b0a2a03-88dd-4dbf-d8ce-d5016bbc518a"
      },
      "source": [
        "violent_crime.shape"
      ],
      "execution_count": null,
      "outputs": [
        {
          "output_type": "execute_result",
          "data": {
            "text/plain": [
              "(51, 6)"
            ]
          },
          "metadata": {
            "tags": []
          },
          "execution_count": 27
        }
      ]
    },
    {
      "cell_type": "markdown",
      "metadata": {
        "id": "gGdSNsEwyn9U"
      },
      "source": [
        "#### **property_crime**"
      ]
    },
    {
      "cell_type": "code",
      "metadata": {
        "id": "D1G7sfQpw6ip"
      },
      "source": [
        "### rearrange df_train on property crime\n",
        "\n",
        "property_crime = df_train[['state_name',\t'population', 'burglary',\t'larceny',\t'motor_vehicle_theft']]"
      ],
      "execution_count": null,
      "outputs": []
    },
    {
      "cell_type": "code",
      "metadata": {
        "colab": {
          "base_uri": "https://localhost:8080/",
          "height": 204
        },
        "id": "Pu7wiQYVoNnv",
        "outputId": "b266ddc2-9c50-4d09-d6b7-b03ad31269b6"
      },
      "source": [
        "property_crime.head()"
      ],
      "execution_count": null,
      "outputs": [
        {
          "output_type": "execute_result",
          "data": {
            "text/html": [
              "<div>\n",
              "<style scoped>\n",
              "    .dataframe tbody tr th:only-of-type {\n",
              "        vertical-align: middle;\n",
              "    }\n",
              "\n",
              "    .dataframe tbody tr th {\n",
              "        vertical-align: top;\n",
              "    }\n",
              "\n",
              "    .dataframe thead th {\n",
              "        text-align: right;\n",
              "    }\n",
              "</style>\n",
              "<table border=\"1\" class=\"dataframe\">\n",
              "  <thead>\n",
              "    <tr style=\"text-align: right;\">\n",
              "      <th></th>\n",
              "      <th>state_name</th>\n",
              "      <th>population</th>\n",
              "      <th>burglary</th>\n",
              "      <th>larceny</th>\n",
              "      <th>motor_vehicle_theft</th>\n",
              "    </tr>\n",
              "  </thead>\n",
              "  <tbody>\n",
              "    <tr>\n",
              "      <th>0</th>\n",
              "      <td>Alabama</td>\n",
              "      <td>4827295.40</td>\n",
              "      <td>40174.20</td>\n",
              "      <td>106237.00</td>\n",
              "      <td>11123.50</td>\n",
              "    </tr>\n",
              "    <tr>\n",
              "      <th>1</th>\n",
              "      <td>Alaska</td>\n",
              "      <td>729524.70</td>\n",
              "      <td>3429.00</td>\n",
              "      <td>16041.00</td>\n",
              "      <td>2300.30</td>\n",
              "    </tr>\n",
              "    <tr>\n",
              "      <th>2</th>\n",
              "      <td>Arizona</td>\n",
              "      <td>6732428.70</td>\n",
              "      <td>45028.50</td>\n",
              "      <td>152908.60</td>\n",
              "      <td>19467.90</td>\n",
              "    </tr>\n",
              "    <tr>\n",
              "      <th>3</th>\n",
              "      <td>Arkansas</td>\n",
              "      <td>2960386.20</td>\n",
              "      <td>27764.40</td>\n",
              "      <td>67803.80</td>\n",
              "      <td>6204.30</td>\n",
              "    </tr>\n",
              "    <tr>\n",
              "      <th>4</th>\n",
              "      <td>California</td>\n",
              "      <td>38435871.00</td>\n",
              "      <td>209665.60</td>\n",
              "      <td>621951.00</td>\n",
              "      <td>162028.40</td>\n",
              "    </tr>\n",
              "  </tbody>\n",
              "</table>\n",
              "</div>"
            ],
            "text/plain": [
              "   state_name  population  burglary   larceny  motor_vehicle_theft\n",
              "0     Alabama  4827295.40  40174.20 106237.00             11123.50\n",
              "1      Alaska   729524.70   3429.00  16041.00              2300.30\n",
              "2     Arizona  6732428.70  45028.50 152908.60             19467.90\n",
              "3    Arkansas  2960386.20  27764.40  67803.80              6204.30\n",
              "4  California 38435871.00 209665.60 621951.00            162028.40"
            ]
          },
          "metadata": {
            "tags": []
          },
          "execution_count": 29
        }
      ]
    },
    {
      "cell_type": "code",
      "metadata": {
        "colab": {
          "base_uri": "https://localhost:8080/"
        },
        "id": "Nw2VpYwhxEgr",
        "outputId": "aa094c07-9b34-4632-a28e-e9860854b116"
      },
      "source": [
        "property_crime.shape"
      ],
      "execution_count": null,
      "outputs": [
        {
          "output_type": "execute_result",
          "data": {
            "text/plain": [
              "(51, 5)"
            ]
          },
          "metadata": {
            "tags": []
          },
          "execution_count": 30
        }
      ]
    },
    {
      "cell_type": "markdown",
      "metadata": {
        "id": "DH9xsD3tPIEK"
      },
      "source": [
        "## **가설검증**"
      ]
    },
    {
      "cell_type": "markdown",
      "metadata": {
        "id": "edEQydN4yKKx"
      },
      "source": [
        "### **1. 미국의 주(State) 별 범죄율 계산**\n",
        " - 각 주의 형법 범죄율은 인구 10만명당 형법 범죄 발생건수를 나타낸다.\n",
        " - 형법 범죄율 계산 방식 = (형법 범죄 발생건수 ÷ 총인구) × 100,000\n",
        " - 형법 범죄율의 값이 클수록 해당 범죄 발생이 높다는 것을 의미한다.\n",
        " - 살인의 경우 범죄 발생률이 5보다 적다면 치안 면에서 안전하다는 것을 가리킨다."
      ]
    },
    {
      "cell_type": "markdown",
      "metadata": {
        "id": "aUJOVTxfDQ1Q"
      },
      "source": [
        "앞서 인구 10만 명이 넘어서는 데이터에서는 각 범죄 별 발생 건수를 보아도 인구 대비 해당 범죄 발생의 심각성이 도드라질 수 없었다.<br>\n",
        "상대적으로 많은 인구 수 대비 범죄의 수는 비교적 적을 수밖에 없기 때문이다.<br>\n",
        "따라서 인구 10만 명을 기준으로 범죄 발생률을 계산하여 살펴보고자 한다."
      ]
    },
    {
      "cell_type": "markdown",
      "metadata": {
        "id": "CRs38H2R3LK0"
      },
      "source": [
        "#### **violent_crime**"
      ]
    },
    {
      "cell_type": "code",
      "metadata": {
        "id": "djMaooHmyL5r"
      },
      "source": [
        "violent_proba = violent_crime.copy()\n",
        "\n",
        "violent_proba['homicide_rate'] = (violent_proba['homicide'] / violent_proba['population']) * 100000\n",
        "violent_proba['rape_rate'] = (violent_proba['rape'] / violent_proba['population']) * 100000\n",
        "violent_proba['robbery_rate'] = (violent_proba['robbery'] / violent_proba['population']) * 100000\n",
        "violent_proba['aggravated_assault_rate'] = (violent_proba['aggravated_assault'] / violent_proba['population']) * 100000"
      ],
      "execution_count": null,
      "outputs": []
    },
    {
      "cell_type": "code",
      "metadata": {
        "id": "IkV7kRFoWCET"
      },
      "source": [
        "violent_proba = violent_proba[['state_name', 'homicide_rate', 'rape_rate', 'robbery_rate', 'aggravated_assault_rate']]"
      ],
      "execution_count": null,
      "outputs": []
    },
    {
      "cell_type": "code",
      "metadata": {
        "colab": {
          "base_uri": "https://localhost:8080/",
          "height": 1000
        },
        "id": "4TuMlmfz-n7I",
        "outputId": "d21d5445-68bf-4758-c470-2a59a0ce126c"
      },
      "source": [
        "violent_proba"
      ],
      "execution_count": null,
      "outputs": [
        {
          "output_type": "execute_result",
          "data": {
            "text/html": [
              "<div>\n",
              "<style scoped>\n",
              "    .dataframe tbody tr th:only-of-type {\n",
              "        vertical-align: middle;\n",
              "    }\n",
              "\n",
              "    .dataframe tbody tr th {\n",
              "        vertical-align: top;\n",
              "    }\n",
              "\n",
              "    .dataframe thead th {\n",
              "        text-align: right;\n",
              "    }\n",
              "</style>\n",
              "<table border=\"1\" class=\"dataframe\">\n",
              "  <thead>\n",
              "    <tr style=\"text-align: right;\">\n",
              "      <th></th>\n",
              "      <th>state_name</th>\n",
              "      <th>homicide_rate</th>\n",
              "      <th>rape_rate</th>\n",
              "      <th>robbery_rate</th>\n",
              "      <th>aggravated_assault_rate</th>\n",
              "    </tr>\n",
              "  </thead>\n",
              "  <tbody>\n",
              "    <tr>\n",
              "      <th>0</th>\n",
              "      <td>Alabama</td>\n",
              "      <td>7.08</td>\n",
              "      <td>48.21</td>\n",
              "      <td>99.40</td>\n",
              "      <td>318.77</td>\n",
              "    </tr>\n",
              "    <tr>\n",
              "      <th>1</th>\n",
              "      <td>Alaska</td>\n",
              "      <td>5.59</td>\n",
              "      <td>145.46</td>\n",
              "      <td>98.21</td>\n",
              "      <td>491.54</td>\n",
              "    </tr>\n",
              "    <tr>\n",
              "      <th>2</th>\n",
              "      <td>Arizona</td>\n",
              "      <td>5.51</td>\n",
              "      <td>57.58</td>\n",
              "      <td>103.85</td>\n",
              "      <td>283.36</td>\n",
              "    </tr>\n",
              "    <tr>\n",
              "      <th>3</th>\n",
              "      <td>Arkansas</td>\n",
              "      <td>6.27</td>\n",
              "      <td>76.42</td>\n",
              "      <td>73.45</td>\n",
              "      <td>375.13</td>\n",
              "    </tr>\n",
              "    <tr>\n",
              "      <th>4</th>\n",
              "      <td>California</td>\n",
              "      <td>4.75</td>\n",
              "      <td>38.12</td>\n",
              "      <td>144.12</td>\n",
              "      <td>254.17</td>\n",
              "    </tr>\n",
              "    <tr>\n",
              "      <th>5</th>\n",
              "      <td>Colorado</td>\n",
              "      <td>3.22</td>\n",
              "      <td>74.69</td>\n",
              "      <td>63.59</td>\n",
              "      <td>210.61</td>\n",
              "    </tr>\n",
              "    <tr>\n",
              "      <th>6</th>\n",
              "      <td>Connecticut</td>\n",
              "      <td>2.94</td>\n",
              "      <td>28.68</td>\n",
              "      <td>90.34</td>\n",
              "      <td>137.74</td>\n",
              "    </tr>\n",
              "    <tr>\n",
              "      <th>7</th>\n",
              "      <td>Delaware</td>\n",
              "      <td>5.42</td>\n",
              "      <td>47.96</td>\n",
              "      <td>146.61</td>\n",
              "      <td>336.26</td>\n",
              "    </tr>\n",
              "    <tr>\n",
              "      <th>8</th>\n",
              "      <td>District of Columbia</td>\n",
              "      <td>19.25</td>\n",
              "      <td>75.87</td>\n",
              "      <td>563.45</td>\n",
              "      <td>571.64</td>\n",
              "    </tr>\n",
              "    <tr>\n",
              "      <th>9</th>\n",
              "      <td>Florida</td>\n",
              "      <td>5.17</td>\n",
              "      <td>44.13</td>\n",
              "      <td>114.98</td>\n",
              "      <td>320.46</td>\n",
              "    </tr>\n",
              "    <tr>\n",
              "      <th>10</th>\n",
              "      <td>Georgia</td>\n",
              "      <td>6.01</td>\n",
              "      <td>35.49</td>\n",
              "      <td>119.31</td>\n",
              "      <td>229.04</td>\n",
              "    </tr>\n",
              "    <tr>\n",
              "      <th>11</th>\n",
              "      <td>Hawaii</td>\n",
              "      <td>1.96</td>\n",
              "      <td>46.08</td>\n",
              "      <td>73.05</td>\n",
              "      <td>141.66</td>\n",
              "    </tr>\n",
              "    <tr>\n",
              "      <th>12</th>\n",
              "      <td>Idaho</td>\n",
              "      <td>2.01</td>\n",
              "      <td>51.91</td>\n",
              "      <td>13.10</td>\n",
              "      <td>168.63</td>\n",
              "    </tr>\n",
              "    <tr>\n",
              "      <th>13</th>\n",
              "      <td>Illinois</td>\n",
              "      <td>6.34</td>\n",
              "      <td>46.01</td>\n",
              "      <td>140.83</td>\n",
              "      <td>240.84</td>\n",
              "    </tr>\n",
              "    <tr>\n",
              "      <th>14</th>\n",
              "      <td>Indiana</td>\n",
              "      <td>5.35</td>\n",
              "      <td>42.55</td>\n",
              "      <td>104.41</td>\n",
              "      <td>219.38</td>\n",
              "    </tr>\n",
              "    <tr>\n",
              "      <th>15</th>\n",
              "      <td>Iowa</td>\n",
              "      <td>1.89</td>\n",
              "      <td>46.07</td>\n",
              "      <td>33.74</td>\n",
              "      <td>203.66</td>\n",
              "    </tr>\n",
              "    <tr>\n",
              "      <th>16</th>\n",
              "      <td>Kansas</td>\n",
              "      <td>3.95</td>\n",
              "      <td>63.35</td>\n",
              "      <td>54.03</td>\n",
              "      <td>276.60</td>\n",
              "    </tr>\n",
              "    <tr>\n",
              "      <th>17</th>\n",
              "      <td>Kentucky</td>\n",
              "      <td>4.68</td>\n",
              "      <td>46.65</td>\n",
              "      <td>75.81</td>\n",
              "      <td>112.67</td>\n",
              "    </tr>\n",
              "    <tr>\n",
              "      <th>18</th>\n",
              "      <td>Louisiana</td>\n",
              "      <td>11.15</td>\n",
              "      <td>44.29</td>\n",
              "      <td>118.08</td>\n",
              "      <td>385.67</td>\n",
              "    </tr>\n",
              "    <tr>\n",
              "      <th>19</th>\n",
              "      <td>Maine</td>\n",
              "      <td>1.78</td>\n",
              "      <td>42.50</td>\n",
              "      <td>24.79</td>\n",
              "      <td>64.51</td>\n",
              "    </tr>\n",
              "    <tr>\n",
              "      <th>20</th>\n",
              "      <td>Maryland</td>\n",
              "      <td>7.61</td>\n",
              "      <td>34.17</td>\n",
              "      <td>177.39</td>\n",
              "      <td>283.91</td>\n",
              "    </tr>\n",
              "    <tr>\n",
              "      <th>21</th>\n",
              "      <td>Massachusetts</td>\n",
              "      <td>2.29</td>\n",
              "      <td>39.72</td>\n",
              "      <td>89.35</td>\n",
              "      <td>280.92</td>\n",
              "    </tr>\n",
              "    <tr>\n",
              "      <th>22</th>\n",
              "      <td>Michigan</td>\n",
              "      <td>6.06</td>\n",
              "      <td>79.99</td>\n",
              "      <td>90.55</td>\n",
              "      <td>298.13</td>\n",
              "    </tr>\n",
              "    <tr>\n",
              "      <th>23</th>\n",
              "      <td>Minnesota</td>\n",
              "      <td>1.84</td>\n",
              "      <td>50.06</td>\n",
              "      <td>64.94</td>\n",
              "      <td>129.81</td>\n",
              "    </tr>\n",
              "    <tr>\n",
              "      <th>24</th>\n",
              "      <td>Mississippi</td>\n",
              "      <td>7.42</td>\n",
              "      <td>42.46</td>\n",
              "      <td>81.41</td>\n",
              "      <td>151.46</td>\n",
              "    </tr>\n",
              "    <tr>\n",
              "      <th>25</th>\n",
              "      <td>Missouri</td>\n",
              "      <td>7.56</td>\n",
              "      <td>47.43</td>\n",
              "      <td>101.26</td>\n",
              "      <td>333.54</td>\n",
              "    </tr>\n",
              "    <tr>\n",
              "      <th>26</th>\n",
              "      <td>Montana</td>\n",
              "      <td>3.23</td>\n",
              "      <td>63.38</td>\n",
              "      <td>21.15</td>\n",
              "      <td>250.68</td>\n",
              "    </tr>\n",
              "    <tr>\n",
              "      <th>27</th>\n",
              "      <td>Nebraska</td>\n",
              "      <td>2.78</td>\n",
              "      <td>62.10</td>\n",
              "      <td>54.14</td>\n",
              "      <td>174.94</td>\n",
              "    </tr>\n",
              "    <tr>\n",
              "      <th>28</th>\n",
              "      <td>Nevada</td>\n",
              "      <td>6.31</td>\n",
              "      <td>66.87</td>\n",
              "      <td>187.51</td>\n",
              "      <td>382.04</td>\n",
              "    </tr>\n",
              "    <tr>\n",
              "      <th>29</th>\n",
              "      <td>New Hampshire</td>\n",
              "      <td>1.20</td>\n",
              "      <td>56.93</td>\n",
              "      <td>35.81</td>\n",
              "      <td>117.25</td>\n",
              "    </tr>\n",
              "    <tr>\n",
              "      <th>30</th>\n",
              "      <td>New Jersey</td>\n",
              "      <td>4.02</td>\n",
              "      <td>18.26</td>\n",
              "      <td>115.56</td>\n",
              "      <td>137.05</td>\n",
              "    </tr>\n",
              "    <tr>\n",
              "      <th>31</th>\n",
              "      <td>New Mexico</td>\n",
              "      <td>6.69</td>\n",
              "      <td>82.66</td>\n",
              "      <td>109.01</td>\n",
              "      <td>478.87</td>\n",
              "    </tr>\n",
              "    <tr>\n",
              "      <th>32</th>\n",
              "      <td>New York</td>\n",
              "      <td>3.42</td>\n",
              "      <td>31.47</td>\n",
              "      <td>127.23</td>\n",
              "      <td>228.74</td>\n",
              "    </tr>\n",
              "    <tr>\n",
              "      <th>33</th>\n",
              "      <td>North Carolina</td>\n",
              "      <td>5.35</td>\n",
              "      <td>31.04</td>\n",
              "      <td>94.55</td>\n",
              "      <td>234.65</td>\n",
              "    </tr>\n",
              "    <tr>\n",
              "      <th>34</th>\n",
              "      <td>North Dakota</td>\n",
              "      <td>2.43</td>\n",
              "      <td>62.54</td>\n",
              "      <td>19.90</td>\n",
              "      <td>192.05</td>\n",
              "    </tr>\n",
              "    <tr>\n",
              "      <th>35</th>\n",
              "      <td>Ohio</td>\n",
              "      <td>4.72</td>\n",
              "      <td>54.79</td>\n",
              "      <td>119.77</td>\n",
              "      <td>136.79</td>\n",
              "    </tr>\n",
              "    <tr>\n",
              "      <th>36</th>\n",
              "      <td>Oklahoma</td>\n",
              "      <td>5.68</td>\n",
              "      <td>64.84</td>\n",
              "      <td>81.44</td>\n",
              "      <td>322.66</td>\n",
              "    </tr>\n",
              "    <tr>\n",
              "      <th>37</th>\n",
              "      <td>Oregon</td>\n",
              "      <td>2.37</td>\n",
              "      <td>50.61</td>\n",
              "      <td>59.59</td>\n",
              "      <td>161.08</td>\n",
              "    </tr>\n",
              "    <tr>\n",
              "      <th>38</th>\n",
              "      <td>Pennsylvania</td>\n",
              "      <td>5.29</td>\n",
              "      <td>39.80</td>\n",
              "      <td>110.50</td>\n",
              "      <td>190.27</td>\n",
              "    </tr>\n",
              "    <tr>\n",
              "      <th>39</th>\n",
              "      <td>Rhode Island</td>\n",
              "      <td>2.48</td>\n",
              "      <td>48.84</td>\n",
              "      <td>59.32</td>\n",
              "      <td>143.69</td>\n",
              "    </tr>\n",
              "    <tr>\n",
              "      <th>40</th>\n",
              "      <td>South Carolina</td>\n",
              "      <td>7.07</td>\n",
              "      <td>58.02</td>\n",
              "      <td>90.11</td>\n",
              "      <td>402.60</td>\n",
              "    </tr>\n",
              "    <tr>\n",
              "      <th>41</th>\n",
              "      <td>South Dakota</td>\n",
              "      <td>2.80</td>\n",
              "      <td>79.64</td>\n",
              "      <td>22.76</td>\n",
              "      <td>249.89</td>\n",
              "    </tr>\n",
              "    <tr>\n",
              "      <th>42</th>\n",
              "      <td>Tennessee</td>\n",
              "      <td>6.54</td>\n",
              "      <td>50.45</td>\n",
              "      <td>121.43</td>\n",
              "      <td>460.03</td>\n",
              "    </tr>\n",
              "    <tr>\n",
              "      <th>43</th>\n",
              "      <td>Texas</td>\n",
              "      <td>4.75</td>\n",
              "      <td>53.64</td>\n",
              "      <td>119.02</td>\n",
              "      <td>262.17</td>\n",
              "    </tr>\n",
              "    <tr>\n",
              "      <th>44</th>\n",
              "      <td>Utah</td>\n",
              "      <td>1.97</td>\n",
              "      <td>61.90</td>\n",
              "      <td>43.96</td>\n",
              "      <td>132.44</td>\n",
              "    </tr>\n",
              "    <tr>\n",
              "      <th>45</th>\n",
              "      <td>Vermont</td>\n",
              "      <td>1.70</td>\n",
              "      <td>33.99</td>\n",
              "      <td>14.44</td>\n",
              "      <td>96.19</td>\n",
              "    </tr>\n",
              "    <tr>\n",
              "      <th>46</th>\n",
              "      <td>Virginia</td>\n",
              "      <td>4.60</td>\n",
              "      <td>35.62</td>\n",
              "      <td>58.46</td>\n",
              "      <td>116.08</td>\n",
              "    </tr>\n",
              "    <tr>\n",
              "      <th>47</th>\n",
              "      <td>Washington</td>\n",
              "      <td>2.76</td>\n",
              "      <td>51.47</td>\n",
              "      <td>81.61</td>\n",
              "      <td>178.60</td>\n",
              "    </tr>\n",
              "    <tr>\n",
              "      <th>48</th>\n",
              "      <td>West Virginia</td>\n",
              "      <td>4.29</td>\n",
              "      <td>41.25</td>\n",
              "      <td>38.87</td>\n",
              "      <td>246.71</td>\n",
              "    </tr>\n",
              "    <tr>\n",
              "      <th>49</th>\n",
              "      <td>Wisconsin</td>\n",
              "      <td>3.08</td>\n",
              "      <td>38.11</td>\n",
              "      <td>80.89</td>\n",
              "      <td>171.89</td>\n",
              "    </tr>\n",
              "    <tr>\n",
              "      <th>50</th>\n",
              "      <td>Wyoming</td>\n",
              "      <td>2.57</td>\n",
              "      <td>42.62</td>\n",
              "      <td>12.26</td>\n",
              "      <td>167.72</td>\n",
              "    </tr>\n",
              "  </tbody>\n",
              "</table>\n",
              "</div>"
            ],
            "text/plain": [
              "              state_name  homicide_rate  ...  robbery_rate  aggravated_assault_rate\n",
              "0                Alabama           7.08  ...         99.40                   318.77\n",
              "1                 Alaska           5.59  ...         98.21                   491.54\n",
              "2                Arizona           5.51  ...        103.85                   283.36\n",
              "3               Arkansas           6.27  ...         73.45                   375.13\n",
              "4             California           4.75  ...        144.12                   254.17\n",
              "5               Colorado           3.22  ...         63.59                   210.61\n",
              "6            Connecticut           2.94  ...         90.34                   137.74\n",
              "7               Delaware           5.42  ...        146.61                   336.26\n",
              "8   District of Columbia          19.25  ...        563.45                   571.64\n",
              "9                Florida           5.17  ...        114.98                   320.46\n",
              "10               Georgia           6.01  ...        119.31                   229.04\n",
              "11                Hawaii           1.96  ...         73.05                   141.66\n",
              "12                 Idaho           2.01  ...         13.10                   168.63\n",
              "13              Illinois           6.34  ...        140.83                   240.84\n",
              "14               Indiana           5.35  ...        104.41                   219.38\n",
              "15                  Iowa           1.89  ...         33.74                   203.66\n",
              "16                Kansas           3.95  ...         54.03                   276.60\n",
              "17              Kentucky           4.68  ...         75.81                   112.67\n",
              "18             Louisiana          11.15  ...        118.08                   385.67\n",
              "19                 Maine           1.78  ...         24.79                    64.51\n",
              "20              Maryland           7.61  ...        177.39                   283.91\n",
              "21         Massachusetts           2.29  ...         89.35                   280.92\n",
              "22              Michigan           6.06  ...         90.55                   298.13\n",
              "23             Minnesota           1.84  ...         64.94                   129.81\n",
              "24           Mississippi           7.42  ...         81.41                   151.46\n",
              "25              Missouri           7.56  ...        101.26                   333.54\n",
              "26               Montana           3.23  ...         21.15                   250.68\n",
              "27              Nebraska           2.78  ...         54.14                   174.94\n",
              "28                Nevada           6.31  ...        187.51                   382.04\n",
              "29         New Hampshire           1.20  ...         35.81                   117.25\n",
              "30            New Jersey           4.02  ...        115.56                   137.05\n",
              "31            New Mexico           6.69  ...        109.01                   478.87\n",
              "32              New York           3.42  ...        127.23                   228.74\n",
              "33        North Carolina           5.35  ...         94.55                   234.65\n",
              "34          North Dakota           2.43  ...         19.90                   192.05\n",
              "35                  Ohio           4.72  ...        119.77                   136.79\n",
              "36              Oklahoma           5.68  ...         81.44                   322.66\n",
              "37                Oregon           2.37  ...         59.59                   161.08\n",
              "38          Pennsylvania           5.29  ...        110.50                   190.27\n",
              "39          Rhode Island           2.48  ...         59.32                   143.69\n",
              "40        South Carolina           7.07  ...         90.11                   402.60\n",
              "41          South Dakota           2.80  ...         22.76                   249.89\n",
              "42             Tennessee           6.54  ...        121.43                   460.03\n",
              "43                 Texas           4.75  ...        119.02                   262.17\n",
              "44                  Utah           1.97  ...         43.96                   132.44\n",
              "45               Vermont           1.70  ...         14.44                    96.19\n",
              "46              Virginia           4.60  ...         58.46                   116.08\n",
              "47            Washington           2.76  ...         81.61                   178.60\n",
              "48         West Virginia           4.29  ...         38.87                   246.71\n",
              "49             Wisconsin           3.08  ...         80.89                   171.89\n",
              "50               Wyoming           2.57  ...         12.26                   167.72\n",
              "\n",
              "[51 rows x 5 columns]"
            ]
          },
          "metadata": {
            "tags": []
          },
          "execution_count": 33
        }
      ]
    },
    {
      "cell_type": "code",
      "metadata": {
        "colab": {
          "base_uri": "https://localhost:8080/"
        },
        "id": "TPUVp2_oPlbg",
        "outputId": "0b99a0f9-2084-4cd7-d84d-c7f4e6e44223"
      },
      "source": [
        "violent_proba.shape"
      ],
      "execution_count": null,
      "outputs": [
        {
          "output_type": "execute_result",
          "data": {
            "text/plain": [
              "(51, 5)"
            ]
          },
          "metadata": {
            "tags": []
          },
          "execution_count": 34
        }
      ]
    },
    {
      "cell_type": "code",
      "metadata": {
        "colab": {
          "base_uri": "https://localhost:8080/",
          "height": 297
        },
        "id": "HmRCRrKK-poI",
        "outputId": "8c05cfba-dd71-4988-fc20-7fce020d2f43"
      },
      "source": [
        "violent_proba.describe()"
      ],
      "execution_count": null,
      "outputs": [
        {
          "output_type": "execute_result",
          "data": {
            "text/html": [
              "<div>\n",
              "<style scoped>\n",
              "    .dataframe tbody tr th:only-of-type {\n",
              "        vertical-align: middle;\n",
              "    }\n",
              "\n",
              "    .dataframe tbody tr th {\n",
              "        vertical-align: top;\n",
              "    }\n",
              "\n",
              "    .dataframe thead th {\n",
              "        text-align: right;\n",
              "    }\n",
              "</style>\n",
              "<table border=\"1\" class=\"dataframe\">\n",
              "  <thead>\n",
              "    <tr style=\"text-align: right;\">\n",
              "      <th></th>\n",
              "      <th>homicide_rate</th>\n",
              "      <th>rape_rate</th>\n",
              "      <th>robbery_rate</th>\n",
              "      <th>aggravated_assault_rate</th>\n",
              "    </tr>\n",
              "  </thead>\n",
              "  <tbody>\n",
              "    <tr>\n",
              "      <th>count</th>\n",
              "      <td>51.00</td>\n",
              "      <td>51.00</td>\n",
              "      <td>51.00</td>\n",
              "      <td>51.00</td>\n",
              "    </tr>\n",
              "    <tr>\n",
              "      <th>mean</th>\n",
              "      <td>4.73</td>\n",
              "      <td>52.48</td>\n",
              "      <td>92.93</td>\n",
              "      <td>244.22</td>\n",
              "    </tr>\n",
              "    <tr>\n",
              "      <th>std</th>\n",
              "      <td>2.93</td>\n",
              "      <td>19.58</td>\n",
              "      <td>79.10</td>\n",
              "      <td>112.23</td>\n",
              "    </tr>\n",
              "    <tr>\n",
              "      <th>min</th>\n",
              "      <td>1.20</td>\n",
              "      <td>18.26</td>\n",
              "      <td>12.26</td>\n",
              "      <td>64.51</td>\n",
              "    </tr>\n",
              "    <tr>\n",
              "      <th>25%</th>\n",
              "      <td>2.67</td>\n",
              "      <td>41.85</td>\n",
              "      <td>56.30</td>\n",
              "      <td>156.27</td>\n",
              "    </tr>\n",
              "    <tr>\n",
              "      <th>50%</th>\n",
              "      <td>4.68</td>\n",
              "      <td>48.21</td>\n",
              "      <td>89.35</td>\n",
              "      <td>229.04</td>\n",
              "    </tr>\n",
              "    <tr>\n",
              "      <th>75%</th>\n",
              "      <td>6.03</td>\n",
              "      <td>62.00</td>\n",
              "      <td>115.27</td>\n",
              "      <td>308.45</td>\n",
              "    </tr>\n",
              "    <tr>\n",
              "      <th>max</th>\n",
              "      <td>19.25</td>\n",
              "      <td>145.46</td>\n",
              "      <td>563.45</td>\n",
              "      <td>571.64</td>\n",
              "    </tr>\n",
              "  </tbody>\n",
              "</table>\n",
              "</div>"
            ],
            "text/plain": [
              "       homicide_rate  rape_rate  robbery_rate  aggravated_assault_rate\n",
              "count          51.00      51.00         51.00                    51.00\n",
              "mean            4.73      52.48         92.93                   244.22\n",
              "std             2.93      19.58         79.10                   112.23\n",
              "min             1.20      18.26         12.26                    64.51\n",
              "25%             2.67      41.85         56.30                   156.27\n",
              "50%             4.68      48.21         89.35                   229.04\n",
              "75%             6.03      62.00        115.27                   308.45\n",
              "max            19.25     145.46        563.45                   571.64"
            ]
          },
          "metadata": {
            "tags": []
          },
          "execution_count": 35
        }
      ]
    },
    {
      "cell_type": "markdown",
      "metadata": {
        "id": "LSuO2eLOb_Hi"
      },
      "source": [
        "강력범죄 중 살인죄의 경우 인구 10만 명당 약 5.0건의 범죄 발생률이 나타났다.<br>\n",
        "한편 강간죄는 인구 10만 명당 52건의 범죄가 발생하고 강도죄의 경우 인구 10만 명당 93건의 범죄가 발발하는 편이었다.<br>\n",
        "살인죄에 비해 발생비율이 10배 이상 높았다.<br>\n",
        "그 중 가장 많은 범죄율을 기록한 건 가중 폭행죄였다.<br>\n",
        "다른 강력범죄보다 적게는 약 3배부터 많게는 49배나 많은 수치였다.<br>\n",
        "대한민국의 경우 살인죄는 약 2.0건, 강간죄는 12건, 강도죄는 약 5건, 폭행죄는 127건인 것으로 보아 미국은 범죄 발생률이 최소 두 배 이상 높은 편이었다. \n",
        "\n",
        "\n"
      ]
    },
    {
      "cell_type": "markdown",
      "metadata": {
        "id": "IscGW3053R3g"
      },
      "source": [
        "#### **property_crime**"
      ]
    },
    {
      "cell_type": "code",
      "metadata": {
        "id": "_TBTSxcw-URS"
      },
      "source": [
        "property_proba = property_crime.copy()\n",
        "\n",
        "property_proba['burglary_rate'] = (property_proba['burglary'] / property_proba['population']) * 100000\n",
        "property_proba['larceny_rate'] = (property_proba['larceny'] / property_proba['population']) * 100000\n",
        "property_proba['motor_vehicle_theft_rate'] = (property_proba['motor_vehicle_theft'] / property_proba['population']) * 100000"
      ],
      "execution_count": null,
      "outputs": []
    },
    {
      "cell_type": "code",
      "metadata": {
        "id": "M7IOA8qUWmk5"
      },
      "source": [
        "property_proba = property_proba[['state_name',\t'burglary_rate', 'larceny_rate', 'motor_vehicle_theft_rate']]"
      ],
      "execution_count": null,
      "outputs": []
    },
    {
      "cell_type": "code",
      "metadata": {
        "colab": {
          "base_uri": "https://localhost:8080/",
          "height": 1000
        },
        "id": "PwN1Xjbf-vvl",
        "outputId": "7050459d-5db6-4db2-c2ae-b4a2383cc218"
      },
      "source": [
        "property_proba"
      ],
      "execution_count": null,
      "outputs": [
        {
          "output_type": "execute_result",
          "data": {
            "text/html": [
              "<div>\n",
              "<style scoped>\n",
              "    .dataframe tbody tr th:only-of-type {\n",
              "        vertical-align: middle;\n",
              "    }\n",
              "\n",
              "    .dataframe tbody tr th {\n",
              "        vertical-align: top;\n",
              "    }\n",
              "\n",
              "    .dataframe thead th {\n",
              "        text-align: right;\n",
              "    }\n",
              "</style>\n",
              "<table border=\"1\" class=\"dataframe\">\n",
              "  <thead>\n",
              "    <tr style=\"text-align: right;\">\n",
              "      <th></th>\n",
              "      <th>state_name</th>\n",
              "      <th>burglary_rate</th>\n",
              "      <th>larceny_rate</th>\n",
              "      <th>motor_vehicle_theft_rate</th>\n",
              "    </tr>\n",
              "  </thead>\n",
              "  <tbody>\n",
              "    <tr>\n",
              "      <th>0</th>\n",
              "      <td>Alabama</td>\n",
              "      <td>832.23</td>\n",
              "      <td>2200.76</td>\n",
              "      <td>230.43</td>\n",
              "    </tr>\n",
              "    <tr>\n",
              "      <th>1</th>\n",
              "      <td>Alaska</td>\n",
              "      <td>470.03</td>\n",
              "      <td>2198.83</td>\n",
              "      <td>315.31</td>\n",
              "    </tr>\n",
              "    <tr>\n",
              "      <th>2</th>\n",
              "      <td>Arizona</td>\n",
              "      <td>668.83</td>\n",
              "      <td>2271.22</td>\n",
              "      <td>289.17</td>\n",
              "    </tr>\n",
              "    <tr>\n",
              "      <th>3</th>\n",
              "      <td>Arkansas</td>\n",
              "      <td>937.86</td>\n",
              "      <td>2290.37</td>\n",
              "      <td>209.58</td>\n",
              "    </tr>\n",
              "    <tr>\n",
              "      <th>4</th>\n",
              "      <td>California</td>\n",
              "      <td>545.49</td>\n",
              "      <td>1618.15</td>\n",
              "      <td>421.56</td>\n",
              "    </tr>\n",
              "    <tr>\n",
              "      <th>5</th>\n",
              "      <td>Colorado</td>\n",
              "      <td>459.71</td>\n",
              "      <td>1919.65</td>\n",
              "      <td>284.47</td>\n",
              "    </tr>\n",
              "    <tr>\n",
              "      <th>6</th>\n",
              "      <td>Connecticut</td>\n",
              "      <td>343.18</td>\n",
              "      <td>1449.83</td>\n",
              "      <td>189.28</td>\n",
              "    </tr>\n",
              "    <tr>\n",
              "      <th>7</th>\n",
              "      <td>Delaware</td>\n",
              "      <td>629.69</td>\n",
              "      <td>2193.57</td>\n",
              "      <td>161.45</td>\n",
              "    </tr>\n",
              "    <tr>\n",
              "      <th>8</th>\n",
              "      <td>District of Columbia</td>\n",
              "      <td>475.75</td>\n",
              "      <td>3668.81</td>\n",
              "      <td>569.14</td>\n",
              "    </tr>\n",
              "    <tr>\n",
              "      <th>9</th>\n",
              "      <td>Florida</td>\n",
              "      <td>657.93</td>\n",
              "      <td>2167.43</td>\n",
              "      <td>205.46</td>\n",
              "    </tr>\n",
              "    <tr>\n",
              "      <th>10</th>\n",
              "      <td>Georgia</td>\n",
              "      <td>766.97</td>\n",
              "      <td>2216.37</td>\n",
              "      <td>279.48</td>\n",
              "    </tr>\n",
              "    <tr>\n",
              "      <th>11</th>\n",
              "      <td>Hawaii</td>\n",
              "      <td>523.35</td>\n",
              "      <td>2273.13</td>\n",
              "      <td>361.76</td>\n",
              "    </tr>\n",
              "    <tr>\n",
              "      <th>12</th>\n",
              "      <td>Idaho</td>\n",
              "      <td>390.17</td>\n",
              "      <td>1346.57</td>\n",
              "      <td>102.68</td>\n",
              "    </tr>\n",
              "    <tr>\n",
              "      <th>13</th>\n",
              "      <td>Illinois</td>\n",
              "      <td>460.70</td>\n",
              "      <td>1671.82</td>\n",
              "      <td>177.79</td>\n",
              "    </tr>\n",
              "    <tr>\n",
              "      <th>14</th>\n",
              "      <td>Indiana</td>\n",
              "      <td>607.00</td>\n",
              "      <td>1933.44</td>\n",
              "      <td>215.60</td>\n",
              "    </tr>\n",
              "    <tr>\n",
              "      <th>15</th>\n",
              "      <td>Iowa</td>\n",
              "      <td>502.99</td>\n",
              "      <td>1511.70</td>\n",
              "      <td>142.57</td>\n",
              "    </tr>\n",
              "    <tr>\n",
              "      <th>16</th>\n",
              "      <td>Kansas</td>\n",
              "      <td>575.17</td>\n",
              "      <td>2112.48</td>\n",
              "      <td>238.31</td>\n",
              "    </tr>\n",
              "    <tr>\n",
              "      <th>17</th>\n",
              "      <td>Kentucky</td>\n",
              "      <td>577.70</td>\n",
              "      <td>1603.93</td>\n",
              "      <td>174.67</td>\n",
              "    </tr>\n",
              "    <tr>\n",
              "      <th>18</th>\n",
              "      <td>Louisiana</td>\n",
              "      <td>857.48</td>\n",
              "      <td>2431.82</td>\n",
              "      <td>216.34</td>\n",
              "    </tr>\n",
              "    <tr>\n",
              "      <th>19</th>\n",
              "      <td>Maine</td>\n",
              "      <td>418.89</td>\n",
              "      <td>1569.56</td>\n",
              "      <td>67.33</td>\n",
              "    </tr>\n",
              "    <tr>\n",
              "      <th>20</th>\n",
              "      <td>Maryland</td>\n",
              "      <td>501.69</td>\n",
              "      <td>1837.34</td>\n",
              "      <td>250.29</td>\n",
              "    </tr>\n",
              "    <tr>\n",
              "      <th>21</th>\n",
              "      <td>Massachusetts</td>\n",
              "      <td>403.40</td>\n",
              "      <td>1349.40</td>\n",
              "      <td>135.34</td>\n",
              "    </tr>\n",
              "    <tr>\n",
              "      <th>22</th>\n",
              "      <td>Michigan</td>\n",
              "      <td>538.20</td>\n",
              "      <td>1465.39</td>\n",
              "      <td>229.94</td>\n",
              "    </tr>\n",
              "    <tr>\n",
              "      <th>23</th>\n",
              "      <td>Minnesota</td>\n",
              "      <td>399.99</td>\n",
              "      <td>1796.35</td>\n",
              "      <td>159.85</td>\n",
              "    </tr>\n",
              "    <tr>\n",
              "      <th>24</th>\n",
              "      <td>Mississippi</td>\n",
              "      <td>868.78</td>\n",
              "      <td>1793.80</td>\n",
              "      <td>157.51</td>\n",
              "    </tr>\n",
              "    <tr>\n",
              "      <th>25</th>\n",
              "      <td>Missouri</td>\n",
              "      <td>615.37</td>\n",
              "      <td>2152.37</td>\n",
              "      <td>285.90</td>\n",
              "    </tr>\n",
              "    <tr>\n",
              "      <th>26</th>\n",
              "      <td>Montana</td>\n",
              "      <td>365.11</td>\n",
              "      <td>1995.66</td>\n",
              "      <td>204.60</td>\n",
              "    </tr>\n",
              "    <tr>\n",
              "      <th>27</th>\n",
              "      <td>Nebraska</td>\n",
              "      <td>406.59</td>\n",
              "      <td>1857.90</td>\n",
              "      <td>231.23</td>\n",
              "    </tr>\n",
              "    <tr>\n",
              "      <th>28</th>\n",
              "      <td>Nevada</td>\n",
              "      <td>745.55</td>\n",
              "      <td>1557.23</td>\n",
              "      <td>394.69</td>\n",
              "    </tr>\n",
              "    <tr>\n",
              "      <th>29</th>\n",
              "      <td>New Hampshire</td>\n",
              "      <td>323.30</td>\n",
              "      <td>1550.48</td>\n",
              "      <td>72.75</td>\n",
              "    </tr>\n",
              "    <tr>\n",
              "      <th>30</th>\n",
              "      <td>New Jersey</td>\n",
              "      <td>366.38</td>\n",
              "      <td>1289.77</td>\n",
              "      <td>154.05</td>\n",
              "    </tr>\n",
              "    <tr>\n",
              "      <th>31</th>\n",
              "      <td>New Mexico</td>\n",
              "      <td>936.57</td>\n",
              "      <td>2346.37</td>\n",
              "      <td>370.92</td>\n",
              "    </tr>\n",
              "    <tr>\n",
              "      <th>32</th>\n",
              "      <td>New York</td>\n",
              "      <td>262.77</td>\n",
              "      <td>1385.33</td>\n",
              "      <td>84.87</td>\n",
              "    </tr>\n",
              "    <tr>\n",
              "      <th>33</th>\n",
              "      <td>North Carolina</td>\n",
              "      <td>863.36</td>\n",
              "      <td>1998.34</td>\n",
              "      <td>162.25</td>\n",
              "    </tr>\n",
              "    <tr>\n",
              "      <th>34</th>\n",
              "      <td>North Dakota</td>\n",
              "      <td>378.99</td>\n",
              "      <td>1523.63</td>\n",
              "      <td>196.95</td>\n",
              "    </tr>\n",
              "    <tr>\n",
              "      <th>35</th>\n",
              "      <td>Ohio</td>\n",
              "      <td>728.10</td>\n",
              "      <td>1953.58</td>\n",
              "      <td>172.49</td>\n",
              "    </tr>\n",
              "    <tr>\n",
              "      <th>36</th>\n",
              "      <td>Oklahoma</td>\n",
              "      <td>847.26</td>\n",
              "      <td>2037.44</td>\n",
              "      <td>296.93</td>\n",
              "    </tr>\n",
              "    <tr>\n",
              "      <th>37</th>\n",
              "      <td>Oregon</td>\n",
              "      <td>481.31</td>\n",
              "      <td>2279.52</td>\n",
              "      <td>292.55</td>\n",
              "    </tr>\n",
              "    <tr>\n",
              "      <th>38</th>\n",
              "      <td>Pennsylvania</td>\n",
              "      <td>357.77</td>\n",
              "      <td>1472.00</td>\n",
              "      <td>113.38</td>\n",
              "    </tr>\n",
              "    <tr>\n",
              "      <th>39</th>\n",
              "      <td>Rhode Island</td>\n",
              "      <td>462.08</td>\n",
              "      <td>1567.87</td>\n",
              "      <td>183.98</td>\n",
              "    </tr>\n",
              "    <tr>\n",
              "      <th>40</th>\n",
              "      <td>South Carolina</td>\n",
              "      <td>813.15</td>\n",
              "      <td>2448.04</td>\n",
              "      <td>282.08</td>\n",
              "    </tr>\n",
              "    <tr>\n",
              "      <th>41</th>\n",
              "      <td>South Dakota</td>\n",
              "      <td>349.16</td>\n",
              "      <td>1412.46</td>\n",
              "      <td>133.00</td>\n",
              "    </tr>\n",
              "    <tr>\n",
              "      <th>42</th>\n",
              "      <td>Tennessee</td>\n",
              "      <td>769.07</td>\n",
              "      <td>2228.25</td>\n",
              "      <td>228.26</td>\n",
              "    </tr>\n",
              "    <tr>\n",
              "      <th>43</th>\n",
              "      <td>Texas</td>\n",
              "      <td>673.56</td>\n",
              "      <td>2190.98</td>\n",
              "      <td>255.02</td>\n",
              "    </tr>\n",
              "    <tr>\n",
              "      <th>44</th>\n",
              "      <td>Utah</td>\n",
              "      <td>440.63</td>\n",
              "      <td>2255.40</td>\n",
              "      <td>256.47</td>\n",
              "    </tr>\n",
              "    <tr>\n",
              "      <th>45</th>\n",
              "      <td>Vermont</td>\n",
              "      <td>442.07</td>\n",
              "      <td>1421.20</td>\n",
              "      <td>53.36</td>\n",
              "    </tr>\n",
              "    <tr>\n",
              "      <th>46</th>\n",
              "      <td>Virginia</td>\n",
              "      <td>301.51</td>\n",
              "      <td>1625.02</td>\n",
              "      <td>116.96</td>\n",
              "    </tr>\n",
              "    <tr>\n",
              "      <th>47</th>\n",
              "      <td>Washington</td>\n",
              "      <td>743.45</td>\n",
              "      <td>2374.85</td>\n",
              "      <td>391.89</td>\n",
              "    </tr>\n",
              "    <tr>\n",
              "      <th>48</th>\n",
              "      <td>West Virginia</td>\n",
              "      <td>521.45</td>\n",
              "      <td>1449.27</td>\n",
              "      <td>127.64</td>\n",
              "    </tr>\n",
              "    <tr>\n",
              "      <th>49</th>\n",
              "      <td>Wisconsin</td>\n",
              "      <td>392.05</td>\n",
              "      <td>1609.98</td>\n",
              "      <td>156.70</td>\n",
              "    </tr>\n",
              "    <tr>\n",
              "      <th>50</th>\n",
              "      <td>Wyoming</td>\n",
              "      <td>323.59</td>\n",
              "      <td>1683.50</td>\n",
              "      <td>114.31</td>\n",
              "    </tr>\n",
              "  </tbody>\n",
              "</table>\n",
              "</div>"
            ],
            "text/plain": [
              "              state_name  burglary_rate  larceny_rate  motor_vehicle_theft_rate\n",
              "0                Alabama         832.23       2200.76                    230.43\n",
              "1                 Alaska         470.03       2198.83                    315.31\n",
              "2                Arizona         668.83       2271.22                    289.17\n",
              "3               Arkansas         937.86       2290.37                    209.58\n",
              "4             California         545.49       1618.15                    421.56\n",
              "5               Colorado         459.71       1919.65                    284.47\n",
              "6            Connecticut         343.18       1449.83                    189.28\n",
              "7               Delaware         629.69       2193.57                    161.45\n",
              "8   District of Columbia         475.75       3668.81                    569.14\n",
              "9                Florida         657.93       2167.43                    205.46\n",
              "10               Georgia         766.97       2216.37                    279.48\n",
              "11                Hawaii         523.35       2273.13                    361.76\n",
              "12                 Idaho         390.17       1346.57                    102.68\n",
              "13              Illinois         460.70       1671.82                    177.79\n",
              "14               Indiana         607.00       1933.44                    215.60\n",
              "15                  Iowa         502.99       1511.70                    142.57\n",
              "16                Kansas         575.17       2112.48                    238.31\n",
              "17              Kentucky         577.70       1603.93                    174.67\n",
              "18             Louisiana         857.48       2431.82                    216.34\n",
              "19                 Maine         418.89       1569.56                     67.33\n",
              "20              Maryland         501.69       1837.34                    250.29\n",
              "21         Massachusetts         403.40       1349.40                    135.34\n",
              "22              Michigan         538.20       1465.39                    229.94\n",
              "23             Minnesota         399.99       1796.35                    159.85\n",
              "24           Mississippi         868.78       1793.80                    157.51\n",
              "25              Missouri         615.37       2152.37                    285.90\n",
              "26               Montana         365.11       1995.66                    204.60\n",
              "27              Nebraska         406.59       1857.90                    231.23\n",
              "28                Nevada         745.55       1557.23                    394.69\n",
              "29         New Hampshire         323.30       1550.48                     72.75\n",
              "30            New Jersey         366.38       1289.77                    154.05\n",
              "31            New Mexico         936.57       2346.37                    370.92\n",
              "32              New York         262.77       1385.33                     84.87\n",
              "33        North Carolina         863.36       1998.34                    162.25\n",
              "34          North Dakota         378.99       1523.63                    196.95\n",
              "35                  Ohio         728.10       1953.58                    172.49\n",
              "36              Oklahoma         847.26       2037.44                    296.93\n",
              "37                Oregon         481.31       2279.52                    292.55\n",
              "38          Pennsylvania         357.77       1472.00                    113.38\n",
              "39          Rhode Island         462.08       1567.87                    183.98\n",
              "40        South Carolina         813.15       2448.04                    282.08\n",
              "41          South Dakota         349.16       1412.46                    133.00\n",
              "42             Tennessee         769.07       2228.25                    228.26\n",
              "43                 Texas         673.56       2190.98                    255.02\n",
              "44                  Utah         440.63       2255.40                    256.47\n",
              "45               Vermont         442.07       1421.20                     53.36\n",
              "46              Virginia         301.51       1625.02                    116.96\n",
              "47            Washington         743.45       2374.85                    391.89\n",
              "48         West Virginia         521.45       1449.27                    127.64\n",
              "49             Wisconsin         392.05       1609.98                    156.70\n",
              "50               Wyoming         323.59       1683.50                    114.31"
            ]
          },
          "metadata": {
            "tags": []
          },
          "execution_count": 38
        }
      ]
    },
    {
      "cell_type": "code",
      "metadata": {
        "colab": {
          "base_uri": "https://localhost:8080/"
        },
        "id": "klnL13QOQDow",
        "outputId": "2529beda-53b2-4fcb-d080-ba39d10145a6"
      },
      "source": [
        "property_proba.shape"
      ],
      "execution_count": null,
      "outputs": [
        {
          "output_type": "execute_result",
          "data": {
            "text/plain": [
              "(51, 4)"
            ]
          },
          "metadata": {
            "tags": []
          },
          "execution_count": 39
        }
      ]
    },
    {
      "cell_type": "code",
      "metadata": {
        "colab": {
          "base_uri": "https://localhost:8080/",
          "height": 297
        },
        "id": "8smnjd_R-yNb",
        "outputId": "2dfbdf75-a1ae-42a6-8aed-4ed2bd9cf8e3"
      },
      "source": [
        "property_proba.describe()"
      ],
      "execution_count": null,
      "outputs": [
        {
          "output_type": "execute_result",
          "data": {
            "text/html": [
              "<div>\n",
              "<style scoped>\n",
              "    .dataframe tbody tr th:only-of-type {\n",
              "        vertical-align: middle;\n",
              "    }\n",
              "\n",
              "    .dataframe tbody tr th {\n",
              "        vertical-align: top;\n",
              "    }\n",
              "\n",
              "    .dataframe thead th {\n",
              "        text-align: right;\n",
              "    }\n",
              "</style>\n",
              "<table border=\"1\" class=\"dataframe\">\n",
              "  <thead>\n",
              "    <tr style=\"text-align: right;\">\n",
              "      <th></th>\n",
              "      <th>burglary_rate</th>\n",
              "      <th>larceny_rate</th>\n",
              "      <th>motor_vehicle_theft_rate</th>\n",
              "    </tr>\n",
              "  </thead>\n",
              "  <tbody>\n",
              "    <tr>\n",
              "      <th>count</th>\n",
              "      <td>51.00</td>\n",
              "      <td>51.00</td>\n",
              "      <td>51.00</td>\n",
              "    </tr>\n",
              "    <tr>\n",
              "      <th>mean</th>\n",
              "      <td>555.36</td>\n",
              "      <td>1893.30</td>\n",
              "      <td>218.01</td>\n",
              "    </tr>\n",
              "    <tr>\n",
              "      <th>std</th>\n",
              "      <td>187.38</td>\n",
              "      <td>431.55</td>\n",
              "      <td>100.97</td>\n",
              "    </tr>\n",
              "    <tr>\n",
              "      <th>min</th>\n",
              "      <td>262.77</td>\n",
              "      <td>1289.77</td>\n",
              "      <td>53.36</td>\n",
              "    </tr>\n",
              "    <tr>\n",
              "      <th>25%</th>\n",
              "      <td>401.70</td>\n",
              "      <td>1553.86</td>\n",
              "      <td>155.38</td>\n",
              "    </tr>\n",
              "    <tr>\n",
              "      <th>50%</th>\n",
              "      <td>502.99</td>\n",
              "      <td>1857.90</td>\n",
              "      <td>205.46</td>\n",
              "    </tr>\n",
              "    <tr>\n",
              "      <th>75%</th>\n",
              "      <td>700.83</td>\n",
              "      <td>2199.79</td>\n",
              "      <td>280.78</td>\n",
              "    </tr>\n",
              "    <tr>\n",
              "      <th>max</th>\n",
              "      <td>937.86</td>\n",
              "      <td>3668.81</td>\n",
              "      <td>569.14</td>\n",
              "    </tr>\n",
              "  </tbody>\n",
              "</table>\n",
              "</div>"
            ],
            "text/plain": [
              "       burglary_rate  larceny_rate  motor_vehicle_theft_rate\n",
              "count          51.00         51.00                     51.00\n",
              "mean          555.36       1893.30                    218.01\n",
              "std           187.38        431.55                    100.97\n",
              "min           262.77       1289.77                     53.36\n",
              "25%           401.70       1553.86                    155.38\n",
              "50%           502.99       1857.90                    205.46\n",
              "75%           700.83       2199.79                    280.78\n",
              "max           937.86       3668.81                    569.14"
            ]
          },
          "metadata": {
            "tags": []
          },
          "execution_count": 40
        }
      ]
    },
    {
      "cell_type": "markdown",
      "metadata": {
        "id": "dX2BPSPRDkZo"
      },
      "source": [
        "재산범죄 중 주거 침입 절도죄의 경우 인구 10만 명당 약 555건의 범죄 발생률을 보였다.<br>\n",
        "그에 비해 절도죄는 인구 10만 명당 1893건의 범죄가 발생하고 차량 절도죄의 경우 인구 10만 명당 218건의 범죄가 발발하는 편이었다.<br>\n",
        "상대적으로 주거에 침입하거나 차량을 절도하는 것에 쉬운 절도죄의 범죄율이 가장 높았다.<br>\n",
        "대한민국의 경우 주거 침입 절도죄는 약 72건, 절도죄는 592건, 차량 절도죄는 12건인 것에 비해 굉장히 높은 수치였다.<br>\n",
        "\n",
        "\n"
      ]
    },
    {
      "cell_type": "markdown",
      "metadata": {
        "id": "6yqi0Kqdywx6"
      },
      "source": [
        "### **2. 인구 수와 범죄 발생 간 상관관계 파악**\n",
        "- scatter plot(산점도) 및 피어슨 상관계수 검증\n",
        " - violent crime의 경우\n",
        " - property crime의 경우\n",
        " "
      ]
    },
    {
      "cell_type": "markdown",
      "metadata": {
        "id": "WnuggOGlVtUM"
      },
      "source": [
        "#### **violent_crime**"
      ]
    },
    {
      "cell_type": "markdown",
      "metadata": {
        "id": "cI0aZXgRYQsX"
      },
      "source": [
        "인구 수가 많아질수록 강력범죄는 증가하는 경향을 보일까?<br>\n",
        "이를 알아보기 위해 두 변수의 산점도를 그려보았다."
      ]
    },
    {
      "cell_type": "code",
      "metadata": {
        "colab": {
          "base_uri": "https://localhost:8080/",
          "height": 294
        },
        "id": "nAbKFP8MzYyH",
        "outputId": "337d45ed-4fda-41a0-ef46-f78afe691b73"
      },
      "source": [
        "### scatter plot\n",
        "\n",
        "plt.scatter(x = violent_crime['population'], y = violent_crime['homicide'])\n",
        "plt.title('scatter plot of homicide on State Population', fontsize = 12, fontweight = 'bold')\n",
        "plt.show()"
      ],
      "execution_count": null,
      "outputs": [
        {
          "output_type": "display_data",
          "data": {
            "image/png": "[encoded data removed]",
            "text/plain": [
              "<Figure size 432x288 with 1 Axes>"
            ]
          },
          "metadata": {
            "tags": [],
            "needs_background": "light"
          }
        }
      ]
    },
    {
      "cell_type": "code",
      "metadata": {
        "colab": {
          "base_uri": "https://localhost:8080/",
          "height": 294
        },
        "id": "kEdkv2yD9ZQP",
        "outputId": "9b6b277a-75ef-40b3-a152-ea27bb8578dd"
      },
      "source": [
        "### scatter plot\n",
        "\n",
        "plt.scatter(x = violent_crime['population'], y = violent_crime['rape'])\n",
        "plt.title('scatter plot of rape on State Population', fontsize = 12, fontweight = 'bold')\n",
        "plt.show()"
      ],
      "execution_count": null,
      "outputs": [
        {
          "output_type": "display_data",
          "data": {
            "image/png": "[encoded data removed]",
            "text/plain": [
              "<Figure size 432x288 with 1 Axes>"
            ]
          },
          "metadata": {
            "tags": [],
            "needs_background": "light"
          }
        }
      ]
    },
    {
      "cell_type": "code",
      "metadata": {
        "colab": {
          "base_uri": "https://localhost:8080/",
          "height": 294
        },
        "id": "PeF6WpIM9dGj",
        "outputId": "fad8a1aa-978f-4e85-c1ff-f0ec4fb89a64"
      },
      "source": [
        "### scatter plot\n",
        "\n",
        "plt.scatter(x = violent_crime['population'], y = violent_crime['robbery'])\n",
        "plt.title('scatter plot of robbery on State Population', fontsize = 12, fontweight = 'bold')\n",
        "plt.show()"
      ],
      "execution_count": null,
      "outputs": [
        {
          "output_type": "display_data",
          "data": {
            "image/png": "[encoded data removed]",
            "text/plain": [
              "<Figure size 432x288 with 1 Axes>"
            ]
          },
          "metadata": {
            "tags": [],
            "needs_background": "light"
          }
        }
      ]
    },
    {
      "cell_type": "code",
      "metadata": {
        "colab": {
          "base_uri": "https://localhost:8080/",
          "height": 294
        },
        "id": "a5uWFotj9i92",
        "outputId": "38208b54-7787-421b-bd9a-f36b3e43ca92"
      },
      "source": [
        "### scatter plot\n",
        "\n",
        "plt.scatter(x = violent_crime['population'], y = violent_crime['aggravated_assault'])\n",
        "plt.title('scatter plot of aggravated assault on State Population', fontsize = 12, fontweight = 'bold')\n",
        "plt.show()"
      ],
      "execution_count": null,
      "outputs": [
        {
          "output_type": "display_data",
          "data": {
            "image/png": "[encoded data removed]",
            "text/plain": [
              "<Figure size 432x288 with 1 Axes>"
            ]
          },
          "metadata": {
            "tags": [],
            "needs_background": "light"
          }
        }
      ]
    },
    {
      "cell_type": "code",
      "metadata": {
        "colab": {
          "base_uri": "https://localhost:8080/",
          "height": 294
        },
        "id": "cHLLO9le9pyp",
        "outputId": "9fb92632-cb1c-4f6b-8a45-ec21bb4a2ece"
      },
      "source": [
        "### scatter plot\n",
        "\n",
        "plt.scatter(x = violent_crime['population'], y = violent_crime['aggravated_assault'])\n",
        "plt.title('scatter plot of aggravated assault on State Population', fontsize = 12, fontweight = 'bold')\n",
        "plt.show()"
      ],
      "execution_count": null,
      "outputs": [
        {
          "output_type": "display_data",
          "data": {
            "image/png": "[encoded data removed]",
            "text/plain": [
              "<Figure size 432x288 with 1 Axes>"
            ]
          },
          "metadata": {
            "tags": [],
            "needs_background": "light"
          }
        }
      ]
    },
    {
      "cell_type": "markdown",
      "metadata": {
        "id": "dSy-HzI46kIb"
      },
      "source": [
        "상관관계의 정도를 파악하기 위해 scipy.stats의 pearson correlation coefficient를 계산하겠다."
      ]
    },
    {
      "cell_type": "code",
      "metadata": {
        "colab": {
          "base_uri": "https://localhost:8080/"
        },
        "id": "oV0dH__XDKB4",
        "outputId": "71b00407-a9c1-41b3-d8bf-5876ee160667"
      },
      "source": [
        "### pearson correlation coefficient and the p-value for testing non-correlation\n",
        "### H0 = 인구 수와 살인죄 발생은 상관관계가 없다.\n",
        "### H1 = 인구 수와 살인죄 발생은 상관관계가 있다.\n",
        "### 임계치 0.05를 기준으로 p-value를 살펴봄\n",
        "\n",
        "scipy.stats.pearsonr(violent_crime['population'], violent_crime['homicide'])"
      ],
      "execution_count": null,
      "outputs": [
        {
          "output_type": "execute_result",
          "data": {
            "text/plain": [
              "(0.9594109313767651, 1.364542032668328e-28)"
            ]
          },
          "metadata": {
            "tags": []
          },
          "execution_count": 46
        }
      ]
    },
    {
      "cell_type": "markdown",
      "metadata": {
        "id": "ZCxq4ddV4bMM"
      },
      "source": [
        "pearson을 통해 상관계수 및 p값을 계산해본 결과<br>\n",
        "상관계수는 0.95, p값은 0.05보다 현저히 작은 것을 확인할 수 있다.<br>\n",
        "따라서 인구 수와 살인죄는 통계적으로 유의미하게 매우 강한 상관관계를 보였다."
      ]
    },
    {
      "cell_type": "code",
      "metadata": {
        "colab": {
          "base_uri": "https://localhost:8080/"
        },
        "id": "5frAC-D2DXxv",
        "outputId": "078a569a-7fca-48f0-f1e9-e1af318802a4"
      },
      "source": [
        "### pearson correlation coefficient and the p-value for testing non-correlation\n",
        "### H0 = 인구 수와 강간죄 발생은 상관관계가 없다.\n",
        "### H1 = 인구 수와 강간죄 발생은 상관관계가 있다.\n",
        "### 임계치 0.05를 기준으로 p-value를 살펴봄\n",
        "\n",
        "scipy.stats.pearsonr(violent_crime['population'], violent_crime['rape'])"
      ],
      "execution_count": null,
      "outputs": [
        {
          "output_type": "execute_result",
          "data": {
            "text/plain": [
              "(0.9483939875984352, 4.314486505531023e-26)"
            ]
          },
          "metadata": {
            "tags": []
          },
          "execution_count": 47
        }
      ]
    },
    {
      "cell_type": "code",
      "metadata": {
        "colab": {
          "base_uri": "https://localhost:8080/"
        },
        "id": "R3wRn53EDfTB",
        "outputId": "f08a7ee5-b41a-419e-dd99-11de2216ae55"
      },
      "source": [
        "### pearson correlation coefficient and the p-value for testing non-correlation\n",
        "### H0 = 인구 수와 강도죄 발생은 상관관계가 없다.\n",
        "### H1 = 인구 수와 강도죄 발생은 상관관계가 있다.\n",
        "### 임계치 0.05를 기준으로 p-value를 살펴봄\n",
        "\n",
        "scipy.stats.pearsonr(violent_crime['population'], violent_crime['robbery'])"
      ],
      "execution_count": null,
      "outputs": [
        {
          "output_type": "execute_result",
          "data": {
            "text/plain": [
              "(0.9821402930978238, 3.257275177120936e-37)"
            ]
          },
          "metadata": {
            "tags": []
          },
          "execution_count": 48
        }
      ]
    },
    {
      "cell_type": "code",
      "metadata": {
        "colab": {
          "base_uri": "https://localhost:8080/"
        },
        "id": "nt4xvfN-Di2a",
        "outputId": "4a13dbff-11f8-42c4-9b9b-3e9e5917ff6b"
      },
      "source": [
        "### pearson correlation coefficient and the p-value for testing non-correlation\n",
        "### H0 = 인구 수와 가중 폭행죄 발생은 상관관계가 없다.\n",
        "### H1 = 인구 수와 가중 폭행죄 발생은 상관관계가 있다.\n",
        "### 임계치 0.05를 기준으로 p-value를 살펴봄\n",
        "\n",
        "scipy.stats.pearsonr(violent_crime['population'], violent_crime['aggravated_assault'])"
      ],
      "execution_count": null,
      "outputs": [
        {
          "output_type": "execute_result",
          "data": {
            "text/plain": [
              "(0.9619430534261982, 2.8989502334438946e-29)"
            ]
          },
          "metadata": {
            "tags": []
          },
          "execution_count": 49
        }
      ]
    },
    {
      "cell_type": "markdown",
      "metadata": {
        "id": "wHTkf2eV5Fbt"
      },
      "source": [
        "다음은 직관적으로 강력범죄의 각 유형과 인구 수의 상관관계를 시각화하여 살펴보고자 한다."
      ]
    },
    {
      "cell_type": "code",
      "metadata": {
        "colab": {
          "base_uri": "https://localhost:8080/",
          "height": 204
        },
        "id": "b0g0xztnCt0M",
        "outputId": "7f2ea6a9-f0f5-4b80-aa7b-4c15624efaa0"
      },
      "source": [
        "violent_corr = violent_crime.corr()\n",
        "violent_corr"
      ],
      "execution_count": null,
      "outputs": [
        {
          "output_type": "execute_result",
          "data": {
            "text/html": [
              "<div>\n",
              "<style scoped>\n",
              "    .dataframe tbody tr th:only-of-type {\n",
              "        vertical-align: middle;\n",
              "    }\n",
              "\n",
              "    .dataframe tbody tr th {\n",
              "        vertical-align: top;\n",
              "    }\n",
              "\n",
              "    .dataframe thead th {\n",
              "        text-align: right;\n",
              "    }\n",
              "</style>\n",
              "<table border=\"1\" class=\"dataframe\">\n",
              "  <thead>\n",
              "    <tr style=\"text-align: right;\">\n",
              "      <th></th>\n",
              "      <th>population</th>\n",
              "      <th>homicide</th>\n",
              "      <th>rape</th>\n",
              "      <th>robbery</th>\n",
              "      <th>aggravated_assault</th>\n",
              "    </tr>\n",
              "  </thead>\n",
              "  <tbody>\n",
              "    <tr>\n",
              "      <th>population</th>\n",
              "      <td>1.00</td>\n",
              "      <td>0.96</td>\n",
              "      <td>0.95</td>\n",
              "      <td>0.98</td>\n",
              "      <td>0.96</td>\n",
              "    </tr>\n",
              "    <tr>\n",
              "      <th>homicide</th>\n",
              "      <td>0.96</td>\n",
              "      <td>1.00</td>\n",
              "      <td>0.93</td>\n",
              "      <td>0.96</td>\n",
              "      <td>0.96</td>\n",
              "    </tr>\n",
              "    <tr>\n",
              "      <th>rape</th>\n",
              "      <td>0.95</td>\n",
              "      <td>0.93</td>\n",
              "      <td>1.00</td>\n",
              "      <td>0.91</td>\n",
              "      <td>0.94</td>\n",
              "    </tr>\n",
              "    <tr>\n",
              "      <th>robbery</th>\n",
              "      <td>0.98</td>\n",
              "      <td>0.96</td>\n",
              "      <td>0.91</td>\n",
              "      <td>1.00</td>\n",
              "      <td>0.96</td>\n",
              "    </tr>\n",
              "    <tr>\n",
              "      <th>aggravated_assault</th>\n",
              "      <td>0.96</td>\n",
              "      <td>0.96</td>\n",
              "      <td>0.94</td>\n",
              "      <td>0.96</td>\n",
              "      <td>1.00</td>\n",
              "    </tr>\n",
              "  </tbody>\n",
              "</table>\n",
              "</div>"
            ],
            "text/plain": [
              "                    population  homicide  rape  robbery  aggravated_assault\n",
              "population                1.00      0.96  0.95     0.98                0.96\n",
              "homicide                  0.96      1.00  0.93     0.96                0.96\n",
              "rape                      0.95      0.93  1.00     0.91                0.94\n",
              "robbery                   0.98      0.96  0.91     1.00                0.96\n",
              "aggravated_assault        0.96      0.96  0.94     0.96                1.00"
            ]
          },
          "metadata": {
            "tags": []
          },
          "execution_count": 50
        }
      ]
    },
    {
      "cell_type": "code",
      "metadata": {
        "colab": {
          "base_uri": "https://localhost:8080/",
          "height": 677
        },
        "id": "R3B6AF0TGpd9",
        "outputId": "b1a9fac7-0094-4786-aa27-6b7e6e3de18f"
      },
      "source": [
        "### correlation diagram on violent crime\n",
        "\n",
        "plt.figure(figsize = (10, 10))\n",
        "violent_corr = sns.heatmap(violent_corr, annot = True, cmap='YlGnBu')\n",
        "plt.xticks(rotation=45)\n",
        "plt.title('correlation of violent crime on State Population', fontsize = 15, fontweight = 'bold')\n",
        "plt.show()"
      ],
      "execution_count": null,
      "outputs": [
        {
          "output_type": "display_data",
          "data": {
            "image/png": "[encoded data removed]",
            "text/plain": [
              "<Figure size 720x720 with 2 Axes>"
            ]
          },
          "metadata": {
            "tags": [],
            "needs_background": "light"
          }
        }
      ]
    },
    {
      "cell_type": "markdown",
      "metadata": {
        "id": "3tvPjBKgVzvd"
      },
      "source": [
        "#### **property_crime**"
      ]
    },
    {
      "cell_type": "markdown",
      "metadata": {
        "id": "umPw_dj151aI"
      },
      "source": [
        "인구 수가 많아질수록 재산범죄도 증가하는 경향을 보일까?<br>\n",
        "이를 알아보기 위해 두 변수의 산점도를 그려보았다."
      ]
    },
    {
      "cell_type": "code",
      "metadata": {
        "colab": {
          "base_uri": "https://localhost:8080/",
          "height": 294
        },
        "id": "pjRUHIxf0hjc",
        "outputId": "9100d34d-06dc-41d4-b92a-69fa9ccc27b3"
      },
      "source": [
        "### scatter plot\n",
        "\n",
        "plt.scatter(x = property_crime['population'], y = property_crime['burglary'])\n",
        "plt.title('scatter plot of burglary on State Population', fontsize = 12, fontweight = 'bold')\n",
        "plt.show()"
      ],
      "execution_count": null,
      "outputs": [
        {
          "output_type": "display_data",
          "data": {
            "image/png": "[encoded data removed]",
            "text/plain": [
              "<Figure size 432x288 with 1 Axes>"
            ]
          },
          "metadata": {
            "tags": [],
            "needs_background": "light"
          }
        }
      ]
    },
    {
      "cell_type": "code",
      "metadata": {
        "colab": {
          "base_uri": "https://localhost:8080/",
          "height": 294
        },
        "id": "2-JOFCXk93TJ",
        "outputId": "b5dbdf7e-3f11-4522-fc28-cc93adbed91a"
      },
      "source": [
        "### scatter plot\n",
        "\n",
        "plt.scatter(x = property_crime['population'], y = property_crime['larceny'])\n",
        "plt.title('scatter plot of larceny on State Population', fontsize = 12, fontweight = 'bold')\n",
        "plt.show()"
      ],
      "execution_count": null,
      "outputs": [
        {
          "output_type": "display_data",
          "data": {
            "image/png": "[encoded data removed]",
            "text/plain": [
              "<Figure size 432x288 with 1 Axes>"
            ]
          },
          "metadata": {
            "tags": [],
            "needs_background": "light"
          }
        }
      ]
    },
    {
      "cell_type": "code",
      "metadata": {
        "colab": {
          "base_uri": "https://localhost:8080/",
          "height": 362
        },
        "id": "AqXOvuwA94nf",
        "outputId": "1a1e8fce-19df-40e7-e619-900999f78ca3"
      },
      "source": [
        "### scatter plot\n",
        "\n",
        "plt.scatter(x = property_crime['population'], y = property_crime['motor_vehicle_theft'])\n",
        "plt.title('scatter plot of \tmotor vehicle theft on State Population', fontsize = 12, fontweight = 'bold')\n",
        "plt.show()"
      ],
      "execution_count": null,
      "outputs": [
        {
          "output_type": "stream",
          "text": [
            "/usr/local/lib/python3.7/dist-packages/matplotlib/backends/backend_agg.py:214: RuntimeWarning: Glyph 9 missing from current font.\n",
            "  font.set_text(s, 0.0, flags=flags)\n",
            "/usr/local/lib/python3.7/dist-packages/matplotlib/backends/backend_agg.py:183: RuntimeWarning: Glyph 9 missing from current font.\n",
            "  font.set_text(s, 0, flags=flags)\n"
          ],
          "name": "stderr"
        },
        {
          "output_type": "display_data",
          "data": {
            "image/png": "[encoded data removed]",
            "text/plain": [
              "<Figure size 432x288 with 1 Axes>"
            ]
          },
          "metadata": {
            "tags": [],
            "needs_background": "light"
          }
        }
      ]
    },
    {
      "cell_type": "markdown",
      "metadata": {
        "id": "7ocOPtsA6BH2"
      },
      "source": [
        "상관관계의 정도를 파악하기 위해 scipy.stats의 pearson correlation coefficient를 계산하겠다."
      ]
    },
    {
      "cell_type": "code",
      "metadata": {
        "colab": {
          "base_uri": "https://localhost:8080/"
        },
        "id": "eMy1mrgiDxzh",
        "outputId": "a369b6c8-6902-4f88-f206-12311ee361e8"
      },
      "source": [
        "### pearson correlation coefficient and the p-value for testing non-correlation\n",
        "### H0 = 인구 수와 주거 침입 절도죄 발생은 상관관계가 없다.\n",
        "### H1 = 인구 수와 주거 침입 절도죄 발생은 상관관계가 있다.\n",
        "### 임계치 0.05를 기준으로 p-value를 살펴봄\n",
        "\n",
        "scipy.stats.pearsonr(property_crime['population'], property_crime['burglary'])"
      ],
      "execution_count": null,
      "outputs": [
        {
          "output_type": "execute_result",
          "data": {
            "text/plain": [
              "(0.941588472598317, 8.29369802742667e-25)"
            ]
          },
          "metadata": {
            "tags": []
          },
          "execution_count": 55
        }
      ]
    },
    {
      "cell_type": "markdown",
      "metadata": {
        "id": "C2dxIaBn5hJs"
      },
      "source": [
        "pearson을 통해 상관계수 및 p값을 계산해본 결과<br>\n",
        "상관계수는 0.94, p값은 0.05보다 현저히 작은 것을 확인할 수 있다.<br>\n",
        "따라서 인구 수와 주거 침입 절도죄는 통계적으로 유의미하게 매우 강한 상관관계를 보였다."
      ]
    },
    {
      "cell_type": "code",
      "metadata": {
        "colab": {
          "base_uri": "https://localhost:8080/"
        },
        "id": "5OYEdESKED72",
        "outputId": "4d69f799-42ea-4f78-bb71-958d5b9e4b83"
      },
      "source": [
        "### pearson correlation coefficient and the p-value for testing non-correlation\n",
        "### H0 = 인구 수와 절도죄 발생은 상관관계가 없다.\n",
        "### H1 = 인구 수와 절도죄 발생은 상관관계가 있다.\n",
        "### 임계치 0.05를 기준으로 p-value를 살펴봄\n",
        "\n",
        "scipy.stats.pearsonr(property_crime['population'], property_crime['larceny'])"
      ],
      "execution_count": null,
      "outputs": [
        {
          "output_type": "execute_result",
          "data": {
            "text/plain": [
              "(0.9731589985928981, 6.353413735386285e-33)"
            ]
          },
          "metadata": {
            "tags": []
          },
          "execution_count": 56
        }
      ]
    },
    {
      "cell_type": "code",
      "metadata": {
        "colab": {
          "base_uri": "https://localhost:8080/"
        },
        "id": "uid8fHRIET0d",
        "outputId": "23a184bc-9caa-4713-fcc3-d4fbc5307e44"
      },
      "source": [
        "### pearson correlation coefficient and the p-value for testing non-correlation\n",
        "### H0 = 인구 수와 차량 절도죄 발생은 상관관계가 없다.\n",
        "### H1 = 인구 수와 차량 절도죄 발생은 상관관계가 있다.\n",
        "### 임계치 0.05를 기준으로 p-value를 살펴봄\n",
        "\n",
        "scipy.stats.pearsonr(property_crime['population'], property_crime['motor_vehicle_theft'])"
      ],
      "execution_count": null,
      "outputs": [
        {
          "output_type": "execute_result",
          "data": {
            "text/plain": [
              "(0.8951611177255255, 8.049454301253043e-19)"
            ]
          },
          "metadata": {
            "tags": []
          },
          "execution_count": 57
        }
      ]
    },
    {
      "cell_type": "markdown",
      "metadata": {
        "id": "rOYUhuFF5jm3"
      },
      "source": [
        "다음은 직관적으로 강력범죄의 각 유형과 인구 수의 상관관계를 시각화하여 살펴보고자 한다."
      ]
    },
    {
      "cell_type": "code",
      "metadata": {
        "colab": {
          "base_uri": "https://localhost:8080/",
          "height": 173
        },
        "id": "l24wP9ngF1qk",
        "outputId": "34f9c4bc-45f9-4ff1-d48a-9044a692a79e"
      },
      "source": [
        "property_corr = property_crime.corr()\n",
        "property_corr"
      ],
      "execution_count": null,
      "outputs": [
        {
          "output_type": "execute_result",
          "data": {
            "text/html": [
              "<div>\n",
              "<style scoped>\n",
              "    .dataframe tbody tr th:only-of-type {\n",
              "        vertical-align: middle;\n",
              "    }\n",
              "\n",
              "    .dataframe tbody tr th {\n",
              "        vertical-align: top;\n",
              "    }\n",
              "\n",
              "    .dataframe thead th {\n",
              "        text-align: right;\n",
              "    }\n",
              "</style>\n",
              "<table border=\"1\" class=\"dataframe\">\n",
              "  <thead>\n",
              "    <tr style=\"text-align: right;\">\n",
              "      <th></th>\n",
              "      <th>population</th>\n",
              "      <th>burglary</th>\n",
              "      <th>larceny</th>\n",
              "      <th>motor_vehicle_theft</th>\n",
              "    </tr>\n",
              "  </thead>\n",
              "  <tbody>\n",
              "    <tr>\n",
              "      <th>population</th>\n",
              "      <td>1.00</td>\n",
              "      <td>0.94</td>\n",
              "      <td>0.97</td>\n",
              "      <td>0.90</td>\n",
              "    </tr>\n",
              "    <tr>\n",
              "      <th>burglary</th>\n",
              "      <td>0.94</td>\n",
              "      <td>1.00</td>\n",
              "      <td>0.98</td>\n",
              "      <td>0.89</td>\n",
              "    </tr>\n",
              "    <tr>\n",
              "      <th>larceny</th>\n",
              "      <td>0.97</td>\n",
              "      <td>0.98</td>\n",
              "      <td>1.00</td>\n",
              "      <td>0.87</td>\n",
              "    </tr>\n",
              "    <tr>\n",
              "      <th>motor_vehicle_theft</th>\n",
              "      <td>0.90</td>\n",
              "      <td>0.89</td>\n",
              "      <td>0.87</td>\n",
              "      <td>1.00</td>\n",
              "    </tr>\n",
              "  </tbody>\n",
              "</table>\n",
              "</div>"
            ],
            "text/plain": [
              "                     population  burglary  larceny  motor_vehicle_theft\n",
              "population                 1.00      0.94     0.97                 0.90\n",
              "burglary                   0.94      1.00     0.98                 0.89\n",
              "larceny                    0.97      0.98     1.00                 0.87\n",
              "motor_vehicle_theft        0.90      0.89     0.87                 1.00"
            ]
          },
          "metadata": {
            "tags": []
          },
          "execution_count": 58
        }
      ]
    },
    {
      "cell_type": "code",
      "metadata": {
        "colab": {
          "base_uri": "https://localhost:8080/",
          "height": 677
        },
        "id": "gaCuENlbGqQk",
        "outputId": "d60f492d-8368-4156-ba79-67f03e9241fa"
      },
      "source": [
        "### correlation diagram on property crime\n",
        "\n",
        "plt.figure(figsize = (10, 10))\n",
        "property_corr = sns.heatmap(property_corr, annot = True, cmap='YlGnBu')\n",
        "plt.xticks(rotation=45)\n",
        "plt.yticks(rotation=45)\n",
        "plt.title('correlation of property crime on State Population', fontsize = 15, fontweight = 'bold')\n",
        "plt.show()"
      ],
      "execution_count": null,
      "outputs": [
        {
          "output_type": "display_data",
          "data": {
            "image/png": "[encoded data removed]",
            "text/plain": [
              "<Figure size 720x720 with 2 Axes>"
            ]
          },
          "metadata": {
            "tags": [],
            "needs_background": "light"
          }
        }
      ]
    },
    {
      "cell_type": "markdown",
      "metadata": {
        "id": "l1oojZdjF6C7"
      },
      "source": [
        "인구 수와 범죄 발생은 강한 양의 상관관계가 존재했다.<br>\n",
        "다시 말해 인구 수가 많아질수록 범죄의 발생 역시 증가하는 추세를 보였다는 것이다.<br>\n",
        "그러나 인구 수와 범죄 발생 간 어느 변수가 다른 변수의 원인이 되는 것인지는 또 다른 문제다.<br>\n",
        "과연 인구 수는 범죄 발생에 있어 상관관계를 넘어 인과관계를 가질까?"
      ]
    },
    {
      "cell_type": "markdown",
      "metadata": {
        "id": "dOIxcfAmRmPn"
      },
      "source": [
        "### **3. 인구 수에 따른 범죄 발생률 인과관계 여부 분석**\n",
        "- 회귀분석(regression)<br>\n",
        " - statsmodel의 ols 적용\n",
        " - 변수의 정규성: KDE(Kernel Density Estimation)\n",
        " - 변수의 선형 상관성: regplot  \n",
        " - 변수의 독립성: DW 검정(Durbin-Watson)\n",
        " \n",
        "- 인구 수에 가장 큰 영향을 받는 형법 범죄는 무엇일까? \n"
      ]
    },
    {
      "cell_type": "markdown",
      "metadata": {
        "id": "N_bdc2g0jlNm"
      },
      "source": [
        "#### **violent_crime**"
      ]
    },
    {
      "cell_type": "markdown",
      "metadata": {
        "id": "5n_OaJn8vVG4"
      },
      "source": [
        "강력범죄의 회귀분석에 앞서 10년 간 집계된 살인죄, 강간죄, 강도죄 및 가중 폭행죄의 데이터 분포를 확인하고자 한다.<br>\n"
      ]
    },
    {
      "cell_type": "code",
      "metadata": {
        "colab": {
          "base_uri": "https://localhost:8080/",
          "height": 392
        },
        "id": "kYwDmPIN_Otn",
        "outputId": "ddfe185b-6fd2-4e10-ceca-54142af63f2d"
      },
      "source": [
        "### KDE of Violent Crime All Categories\n",
        "\n",
        "plt.figure(figsize=(8,6))\n",
        "sns.kdeplot(data = violent_crime[['homicide',\t'rape',\t'robbery',\t'aggravated_assault']], shade = True)\n",
        "\n",
        "plt.title('KDE of Violent Crime All Categories', fontsize = 15, fontweight = 'bold')\n",
        "plt.show()"
      ],
      "execution_count": null,
      "outputs": [
        {
          "output_type": "display_data",
          "data": {
            "image/png": "[encoded data removed]",
            "text/plain": [
              "<Figure size 576x432 with 1 Axes>"
            ]
          },
          "metadata": {
            "tags": [],
            "needs_background": "light"
          }
        }
      ]
    },
    {
      "cell_type": "code",
      "metadata": {
        "colab": {
          "base_uri": "https://localhost:8080/",
          "height": 297
        },
        "id": "YZza_dkpxj68",
        "outputId": "8b2484cd-9a2c-406e-b964-9bed4a2ba4a8"
      },
      "source": [
        "violent_crime.describe()"
      ],
      "execution_count": null,
      "outputs": [
        {
          "output_type": "execute_result",
          "data": {
            "text/html": [
              "<div>\n",
              "<style scoped>\n",
              "    .dataframe tbody tr th:only-of-type {\n",
              "        vertical-align: middle;\n",
              "    }\n",
              "\n",
              "    .dataframe tbody tr th {\n",
              "        vertical-align: top;\n",
              "    }\n",
              "\n",
              "    .dataframe thead th {\n",
              "        text-align: right;\n",
              "    }\n",
              "</style>\n",
              "<table border=\"1\" class=\"dataframe\">\n",
              "  <thead>\n",
              "    <tr style=\"text-align: right;\">\n",
              "      <th></th>\n",
              "      <th>population</th>\n",
              "      <th>homicide</th>\n",
              "      <th>rape</th>\n",
              "      <th>robbery</th>\n",
              "      <th>aggravated_assault</th>\n",
              "    </tr>\n",
              "  </thead>\n",
              "  <tbody>\n",
              "    <tr>\n",
              "      <th>count</th>\n",
              "      <td>51.00</td>\n",
              "      <td>51.00</td>\n",
              "      <td>51.00</td>\n",
              "      <td>51.00</td>\n",
              "      <td>51.00</td>\n",
              "    </tr>\n",
              "    <tr>\n",
              "      <th>mean</th>\n",
              "      <td>6222248.67</td>\n",
              "      <td>304.07</td>\n",
              "      <td>2880.50</td>\n",
              "      <td>6702.81</td>\n",
              "      <td>15205.87</td>\n",
              "    </tr>\n",
              "    <tr>\n",
              "      <th>std</th>\n",
              "      <td>7071905.91</td>\n",
              "      <td>352.81</td>\n",
              "      <td>3052.62</td>\n",
              "      <td>9687.82</td>\n",
              "      <td>18662.24</td>\n",
              "    </tr>\n",
              "    <tr>\n",
              "      <th>min</th>\n",
              "      <td>574833.30</td>\n",
              "      <td>10.60</td>\n",
              "      <td>212.50</td>\n",
              "      <td>70.50</td>\n",
              "      <td>601.40</td>\n",
              "    </tr>\n",
              "    <tr>\n",
              "      <th>25%</th>\n",
              "      <td>1736264.40</td>\n",
              "      <td>55.00</td>\n",
              "      <td>937.40</td>\n",
              "      <td>1031.95</td>\n",
              "      <td>3655.90</td>\n",
              "    </tr>\n",
              "    <tr>\n",
              "      <th>50%</th>\n",
              "      <td>4399583.10</td>\n",
              "      <td>178.40</td>\n",
              "      <td>2045.40</td>\n",
              "      <td>3530.20</td>\n",
              "      <td>9942.40</td>\n",
              "    </tr>\n",
              "    <tr>\n",
              "      <th>75%</th>\n",
              "      <td>6893872.50</td>\n",
              "      <td>438.85</td>\n",
              "      <td>3182.80</td>\n",
              "      <td>7459.00</td>\n",
              "      <td>18980.00</td>\n",
              "    </tr>\n",
              "    <tr>\n",
              "      <th>max</th>\n",
              "      <td>38435871.00</td>\n",
              "      <td>1826.30</td>\n",
              "      <td>14651.70</td>\n",
              "      <td>55394.60</td>\n",
              "      <td>97693.60</td>\n",
              "    </tr>\n",
              "  </tbody>\n",
              "</table>\n",
              "</div>"
            ],
            "text/plain": [
              "       population  homicide     rape  robbery  aggravated_assault\n",
              "count       51.00     51.00    51.00    51.00               51.00\n",
              "mean   6222248.67    304.07  2880.50  6702.81            15205.87\n",
              "std    7071905.91    352.81  3052.62  9687.82            18662.24\n",
              "min     574833.30     10.60   212.50    70.50              601.40\n",
              "25%    1736264.40     55.00   937.40  1031.95             3655.90\n",
              "50%    4399583.10    178.40  2045.40  3530.20             9942.40\n",
              "75%    6893872.50    438.85  3182.80  7459.00            18980.00\n",
              "max   38435871.00   1826.30 14651.70 55394.60            97693.60"
            ]
          },
          "metadata": {
            "tags": []
          },
          "execution_count": 61
        }
      ]
    },
    {
      "cell_type": "markdown",
      "metadata": {
        "id": "jpUcWMlPBUDb"
      },
      "source": [
        "강력범죄의 경우 압도적으로 가장 작은 표준편차를 가진 것은 살인죄였다.<br>\n",
        "살인죄 대부분이 평균에 집중되어 있었기 때문이다.<br>\n",
        "강간죄는 살인죄의 표준편차보다 9배나 큰 폭의 편차를 가지고 있었다.<br>\n",
        "\n"
      ]
    },
    {
      "cell_type": "code",
      "metadata": {
        "colab": {
          "base_uri": "https://localhost:8080/",
          "height": 406
        },
        "id": "ccMbEbI28ex0",
        "outputId": "afb62286-e315-429b-cc3f-1698feb1d4b9"
      },
      "source": [
        "### KDE of Homicide\n",
        "\n",
        "plt.figure(figsize=(8,6))\n",
        "sns.kdeplot(data = violent_crime, x = 'homicide', color = 'blue', shade = True)\n",
        "\n",
        "plt.title('KDE of homicide', fontsize = 15, fontweight = 'bold')\n",
        "plt.show()"
      ],
      "execution_count": null,
      "outputs": [
        {
          "output_type": "display_data",
          "data": {
            "image/png": "[encoded data removed]",
            "text/plain": [
              "<Figure size 576x432 with 1 Axes>"
            ]
          },
          "metadata": {
            "tags": [],
            "needs_background": "light"
          }
        }
      ]
    },
    {
      "cell_type": "code",
      "metadata": {
        "colab": {
          "base_uri": "https://localhost:8080/",
          "height": 406
        },
        "id": "QgITToPw9gO_",
        "outputId": "5e77d33c-3cde-425a-d773-2bf780db1c07"
      },
      "source": [
        "### KDE of Rape\n",
        "\n",
        "plt.figure(figsize=(8,6))\n",
        "sns.kdeplot(data = violent_crime, x = 'rape', color = 'orange', shade = True)\n",
        "\n",
        "plt.title('KDE of Rape', fontsize = 15, fontweight = 'bold')\n",
        "plt.show()"
      ],
      "execution_count": null,
      "outputs": [
        {
          "output_type": "display_data",
          "data": {
            "image/png": "[encoded data removed]",
            "text/plain": [
              "<Figure size 576x432 with 1 Axes>"
            ]
          },
          "metadata": {
            "tags": [],
            "needs_background": "light"
          }
        }
      ]
    },
    {
      "cell_type": "code",
      "metadata": {
        "colab": {
          "base_uri": "https://localhost:8080/",
          "height": 406
        },
        "id": "TIV5Ezcu-oM3",
        "outputId": "b08e71e2-2a01-42e3-e394-e5716a44adbc"
      },
      "source": [
        "### KDE of Robbery\n",
        "\n",
        "plt.figure(figsize=(8,6))\n",
        "sns.kdeplot(data = violent_crime, x = 'robbery', color = 'green', shade = True)\n",
        "\n",
        "plt.title('KDE of Robbery', fontsize = 15, fontweight = 'bold')\n",
        "plt.show()"
      ],
      "execution_count": null,
      "outputs": [
        {
          "output_type": "display_data",
          "data": {
            "image/png": "[encoded data removed]",
            "text/plain": [
              "<Figure size 576x432 with 1 Axes>"
            ]
          },
          "metadata": {
            "tags": [],
            "needs_background": "light"
          }
        }
      ]
    },
    {
      "cell_type": "code",
      "metadata": {
        "colab": {
          "base_uri": "https://localhost:8080/",
          "height": 407
        },
        "id": "PwSjYEYA-qEn",
        "outputId": "5fcd4a4f-781d-42f6-c04f-f0453d6e59bb"
      },
      "source": [
        "### KDE of Aggravated Assault\n",
        "\n",
        "plt.figure(figsize=(8,6))\n",
        "sns.kdeplot(data = violent_crime, x = 'aggravated_assault', color = 'red', shade = True)\n",
        "\n",
        "plt.title('KDE of Aggravated Assault', fontsize = 15, fontweight = 'bold')\n",
        "plt.show()"
      ],
      "execution_count": null,
      "outputs": [
        {
          "output_type": "display_data",
          "data": {
            "image/png": "[encoded data removed]",
            "text/plain": [
              "<Figure size 576x432 with 1 Axes>"
            ]
          },
          "metadata": {
            "tags": [],
            "needs_background": "light"
          }
        }
      ]
    },
    {
      "cell_type": "markdown",
      "metadata": {
        "id": "PPaQb-tRH8Eo"
      },
      "source": [
        "다음은 본격적으로 인구 수에 따른 각 범죄 발생률의 인과관계 여부를 분석하고자 한다."
      ]
    },
    {
      "cell_type": "markdown",
      "metadata": {
        "id": "n4n_gvlIIS0s"
      },
      "source": [
        "독립변수는 오직 인구 수 하나이기 때문에 단순 회귀 분석 모델인 OLS로 진행하였다. "
      ]
    },
    {
      "cell_type": "markdown",
      "metadata": {
        "id": "0S_KPa4eRSJj"
      },
      "source": [
        "(1) 살인죄"
      ]
    },
    {
      "cell_type": "code",
      "metadata": {
        "id": "WnGgLEhXs7iN"
      },
      "source": [
        "### Simple Linear Regression Stats model used by OLS(Ordinary Least Square): homicide\n",
        "\n",
        "ols_model = ols('homicide ~ population', data = violent_crime)\n",
        "homicide_fit = ols_model.fit()"
      ],
      "execution_count": null,
      "outputs": []
    },
    {
      "cell_type": "code",
      "metadata": {
        "colab": {
          "base_uri": "https://localhost:8080/",
          "height": 295
        },
        "id": "iY6tAX8-tJpA",
        "outputId": "d4c0a10a-d740-45b9-abd0-b323abfa868c"
      },
      "source": [
        "### seaborn regplot: homicide\n",
        "\n",
        "sns.regplot(x = violent_crime['population'], y = violent_crime['homicide'])\n",
        "plt.title('Regression Line of Population - homicide')\n",
        "plt.show()"
      ],
      "execution_count": null,
      "outputs": [
        {
          "output_type": "display_data",
          "data": {
            "image/png": "[encoded data removed]",
            "text/plain": [
              "<Figure size 432x288 with 1 Axes>"
            ]
          },
          "metadata": {
            "tags": [],
            "needs_background": "light"
          }
        }
      ]
    },
    {
      "cell_type": "code",
      "metadata": {
        "colab": {
          "base_uri": "https://localhost:8080/"
        },
        "id": "DN_WDePVtctt",
        "outputId": "8b3c1fb5-8043-406d-a2fc-b7549f677d6f"
      },
      "source": [
        "print(homicide_fit.summary())"
      ],
      "execution_count": null,
      "outputs": [
        {
          "output_type": "stream",
          "text": [
            "                            OLS Regression Results                            \n",
            "==============================================================================\n",
            "Dep. Variable:               homicide   R-squared:                       0.920\n",
            "Model:                            OLS   Adj. R-squared:                  0.919\n",
            "Method:                 Least Squares   F-statistic:                     567.1\n",
            "Date:                Tue, 06 Jul 2021   Prob (F-statistic):           1.36e-28\n",
            "Time:                        06:43:44   Log-Likelihood:                -306.47\n",
            "No. Observations:                  51   AIC:                             616.9\n",
            "Df Residuals:                      49   BIC:                             620.8\n",
            "Df Model:                           1                                         \n",
            "Covariance Type:            nonrobust                                         \n",
            "==============================================================================\n",
            "                 coef    std err          t      P>|t|      [0.025      0.975]\n",
            "------------------------------------------------------------------------------\n",
            "Intercept      6.2506     18.827      0.332      0.741     -31.584      44.085\n",
            "population  4.786e-05   2.01e-06     23.814      0.000    4.38e-05    5.19e-05\n",
            "==============================================================================\n",
            "Omnibus:                        2.800   Durbin-Watson:                   2.429\n",
            "Prob(Omnibus):                  0.247   Jarque-Bera (JB):                2.051\n",
            "Skew:                           0.174   Prob(JB):                        0.359\n",
            "Kurtosis:                       3.918   Cond. No.                     1.25e+07\n",
            "==============================================================================\n",
            "\n",
            "Warnings:\n",
            "[1] Standard Errors assume that the covariance matrix of the errors is correctly specified.\n",
            "[2] The condition number is large, 1.25e+07. This might indicate that there are\n",
            "strong multicollinearity or other numerical problems.\n"
          ],
          "name": "stdout"
        }
      ]
    },
    {
      "cell_type": "markdown",
      "metadata": {
        "id": "w7fQI_t1JjCJ"
      },
      "source": [
        "OLS 단일 회귀 모델 분석 결과, 살인죄 = 0.00004786 * 인구 수 + 6.2506 식이 도출되었다.<br>\n",
        "인구 10만 명씩 늘어날수록 약 5건 가량 살인죄가 증가하고 있었다.<br>\n",
        "절편의 경우 유의수준보다 큰 값을 지녀 통계적으로 유의미하지 않았지만<br>\n",
        "결정계수는 유의수준보다 작아 인구 수가 증가할 때마다 살인죄가 0.00004786씩 증가한다는 건 통계적으로 유의미한 예측이었다.<br> \n",
        "본 모델의 R 제곱값을 통해 살인죄의 분산을 인구 수가 92%나 설명하고 있었다.<br>\n",
        "F-통계량 값이 유의수준보다 한참 작은 것으로 보아 본 모델은 집계된 해당 데이터뿐만 아니라 모집단에서도 유의미한 것임을 확인할 수 있었다.\n",
        "또한 DW 검정값이 2.429이므로 잔차 간 자기 상관성이 존재하지 않아 계산된 R 제곱값, F-통계량, 결정계수 등의 통계가 왜곡되지 않았음을 알 수 있다."
      ]
    },
    {
      "cell_type": "markdown",
      "metadata": {
        "id": "YKp_vEKcRb3e"
      },
      "source": [
        "(2) 강간죄"
      ]
    },
    {
      "cell_type": "code",
      "metadata": {
        "id": "mAkEFB4Y_USg"
      },
      "source": [
        "### Simple Linear Regression Stats model used by OLS(Ordinary Least Square): rape\n",
        "\n",
        "ols_model = ols('rape ~ population', data = violent_crime)\n",
        "rape_fit = ols_model.fit()"
      ],
      "execution_count": null,
      "outputs": []
    },
    {
      "cell_type": "code",
      "metadata": {
        "colab": {
          "base_uri": "https://localhost:8080/",
          "height": 295
        },
        "id": "1tobQENS_eUm",
        "outputId": "a53dad28-fe57-41ef-fe4f-4153e9d05096"
      },
      "source": [
        "### seaborn regplot: rape\n",
        "\n",
        "sns.regplot(x = violent_crime['population'], y = violent_crime['rape'])\n",
        "plt.title('Regression Line of Population - rape')\n",
        "plt.show()"
      ],
      "execution_count": null,
      "outputs": [
        {
          "output_type": "display_data",
          "data": {
            "image/png": "[encoded data removed]",
            "text/plain": [
              "<Figure size 432x288 with 1 Axes>"
            ]
          },
          "metadata": {
            "tags": [],
            "needs_background": "light"
          }
        }
      ]
    },
    {
      "cell_type": "code",
      "metadata": {
        "colab": {
          "base_uri": "https://localhost:8080/"
        },
        "id": "tYsLaTfi_iWx",
        "outputId": "46063a77-102d-4ff9-81a8-7b0cd3971e4f"
      },
      "source": [
        "print(rape_fit.summary())"
      ],
      "execution_count": null,
      "outputs": [
        {
          "output_type": "stream",
          "text": [
            "                            OLS Regression Results                            \n",
            "==============================================================================\n",
            "Dep. Variable:                   rape   R-squared:                       0.899\n",
            "Model:                            OLS   Adj. R-squared:                  0.897\n",
            "Method:                 Least Squares   F-statistic:                     438.3\n",
            "Date:                Tue, 06 Jul 2021   Prob (F-statistic):           4.31e-26\n",
            "Time:                        06:43:44   Log-Likelihood:                -422.50\n",
            "No. Observations:                  51   AIC:                             849.0\n",
            "Df Residuals:                      49   BIC:                             852.9\n",
            "Df Model:                           1                                         \n",
            "Covariance Type:            nonrobust                                         \n",
            "==============================================================================\n",
            "                 coef    std err          t      P>|t|      [0.025      0.975]\n",
            "------------------------------------------------------------------------------\n",
            "Intercept    333.2409    183.166      1.819      0.075     -34.845     701.327\n",
            "population     0.0004   1.96e-05     20.936      0.000       0.000       0.000\n",
            "==============================================================================\n",
            "Omnibus:                       21.337   Durbin-Watson:                   2.013\n",
            "Prob(Omnibus):                  0.000   Jarque-Bera (JB):               50.227\n",
            "Skew:                           1.091   Prob(JB):                     1.24e-11\n",
            "Kurtosis:                       7.344   Cond. No.                     1.25e+07\n",
            "==============================================================================\n",
            "\n",
            "Warnings:\n",
            "[1] Standard Errors assume that the covariance matrix of the errors is correctly specified.\n",
            "[2] The condition number is large, 1.25e+07. This might indicate that there are\n",
            "strong multicollinearity or other numerical problems.\n"
          ],
          "name": "stdout"
        }
      ]
    },
    {
      "cell_type": "markdown",
      "metadata": {
        "id": "Xv0MiEyxRedA"
      },
      "source": [
        "OLS 단일 회귀 모델 분석 결과, 강간죄 = 0.0004 * 인구 수 + 333.2409 식이 도출되었다.<br>\n",
        "인구 10만 명씩 늘어날수록 약 40건 가량 강간죄가 증가하고 있었다.<br>\n",
        "절편의 경우 유의수준보다 큰 값을 지녀 통계적으로 유의미하지 않았지만<br>\n",
        "결정계수는 유의수준보다 작아 인구 수가 증가할 때마다 강간죄가 0.0004씩 증가한다는 건 통계적으로 유의미한 예측이었다.<br> \n",
        "본 모델의 R 제곱값을 통해 강간죄의 분산을 인구 수가 약 90%나 설명하고 있었다.<br>\n",
        "F-통계량 값이 유의수준보다 한참 작은 것으로 보아 본 모델은 집계된 해당 데이터뿐만 아니라 모집단에서도 유의미한 것임을 확인할 수 있었다.\n",
        "또한 DW 검정값이 2.013이므로 잔차 간 자기 상관성이 존재하지 않아 계산된 R 제곱값, F-통계량, 결정계수 등의 통계가 왜곡되지 않았음을 알 수 있다."
      ]
    },
    {
      "cell_type": "markdown",
      "metadata": {
        "id": "TdrIiWkVRiK5"
      },
      "source": [
        "(3) 강도죄"
      ]
    },
    {
      "cell_type": "code",
      "metadata": {
        "id": "EbXJz1dY_nr2"
      },
      "source": [
        "### Simple Linear Regression Stats model used by OLS(Ordinary Least Square): robbery\n",
        "\n",
        "ols_model = ols('robbery ~ population', data = violent_crime)\n",
        "robbery_fit = ols_model.fit()"
      ],
      "execution_count": null,
      "outputs": []
    },
    {
      "cell_type": "code",
      "metadata": {
        "colab": {
          "base_uri": "https://localhost:8080/",
          "height": 295
        },
        "id": "ukq1gN3m_17n",
        "outputId": "b8db0685-1997-4b0c-dace-a4016ac7b119"
      },
      "source": [
        "### seaborn regplot: robbery\n",
        "\n",
        "sns.regplot(x = violent_crime['population'], y = violent_crime['robbery'])\n",
        "plt.title('Regression Line of Population - robbery')\n",
        "plt.show()"
      ],
      "execution_count": null,
      "outputs": [
        {
          "output_type": "display_data",
          "data": {
            "image/png": "[encoded data removed]",
            "text/plain": [
              "<Figure size 432x288 with 1 Axes>"
            ]
          },
          "metadata": {
            "tags": [],
            "needs_background": "light"
          }
        }
      ]
    },
    {
      "cell_type": "code",
      "metadata": {
        "colab": {
          "base_uri": "https://localhost:8080/"
        },
        "id": "5XlIKjso_7RQ",
        "outputId": "60a500e5-c640-4780-9be1-dacb4e31c518"
      },
      "source": [
        "print(robbery_fit.summary())"
      ],
      "execution_count": null,
      "outputs": [
        {
          "output_type": "stream",
          "text": [
            "                            OLS Regression Results                            \n",
            "==============================================================================\n",
            "Dep. Variable:                robbery   R-squared:                       0.965\n",
            "Model:                            OLS   Adj. R-squared:                  0.964\n",
            "Method:                 Least Squares   F-statistic:                     1335.\n",
            "Date:                Tue, 06 Jul 2021   Prob (F-statistic):           3.26e-37\n",
            "Time:                        06:43:45   Log-Likelihood:                -454.77\n",
            "No. Observations:                  51   AIC:                             913.5\n",
            "Df Residuals:                      49   BIC:                             917.4\n",
            "Df Model:                           1                                         \n",
            "Covariance Type:            nonrobust                                         \n",
            "==============================================================================\n",
            "                 coef    std err          t      P>|t|      [0.025      0.975]\n",
            "------------------------------------------------------------------------------\n",
            "Intercept  -1668.8308    344.916     -4.838      0.000   -2361.966    -975.696\n",
            "population     0.0013   3.68e-05     36.540      0.000       0.001       0.001\n",
            "==============================================================================\n",
            "Omnibus:                        7.245   Durbin-Watson:                   2.077\n",
            "Prob(Omnibus):                  0.027   Jarque-Bera (JB):                6.994\n",
            "Skew:                           0.598   Prob(JB):                       0.0303\n",
            "Kurtosis:                       4.364   Cond. No.                     1.25e+07\n",
            "==============================================================================\n",
            "\n",
            "Warnings:\n",
            "[1] Standard Errors assume that the covariance matrix of the errors is correctly specified.\n",
            "[2] The condition number is large, 1.25e+07. This might indicate that there are\n",
            "strong multicollinearity or other numerical problems.\n"
          ],
          "name": "stdout"
        }
      ]
    },
    {
      "cell_type": "markdown",
      "metadata": {
        "id": "edLoD4AzSG4J"
      },
      "source": [
        "OLS 단일 회귀 모델 분석 결과, 강도죄 = 0.0013 * 인구 수 - 1668.8308 식이 도출되었다.<br>\n",
        "인구 10만 명씩 늘어날수록 약 130건 가량 강도죄가 증가하고 있었다.<br>\n",
        "절편 및 결정계수 모두 유의수준보다 작아 통계적으로 유의미했다.<br>\n",
        "즉 인구 수가 증가할 때마다 강도죄가 0.0013씩 증가한다는 건 통계적으로 유의미한 예측이었다.<br> \n",
        "본 모델의 R 제곱값을 통해 강도죄의 분산을 인구 수가 약 96%나 설명하고 있었다.<br>\n",
        "F-통계량 값이 유의수준보다 한참 작은 것으로 보아 본 모델은 집계된 해당 데이터뿐만 아니라 모집단에서도 유의미한 것임을 확인할 수 있었다.\n",
        "또한 DW 검정값이 2.077이므로 잔차 간 자기 상관성이 존재하지 않아 계산된 R 제곱값, F-통계량, 결정계수 등의 통계가 왜곡되지 않았음을 알 수 있다."
      ]
    },
    {
      "cell_type": "markdown",
      "metadata": {
        "id": "d5azOe0hSHpb"
      },
      "source": [
        "(4) 가중 폭행죄"
      ]
    },
    {
      "cell_type": "code",
      "metadata": {
        "id": "4X5ER9DI_9_b"
      },
      "source": [
        "### Simple Linear Regression Stats model used by OLS(Ordinary Least Square): aggravated_assault\n",
        "\n",
        "ols_model = ols('aggravated_assault ~ population', data = violent_crime)\n",
        "aggravated_assault_fit = ols_model.fit()"
      ],
      "execution_count": null,
      "outputs": []
    },
    {
      "cell_type": "code",
      "metadata": {
        "colab": {
          "base_uri": "https://localhost:8080/",
          "height": 295
        },
        "id": "gKbVCTwBAJoi",
        "outputId": "883cb27a-906a-48c2-f8c1-a0b224df00f7"
      },
      "source": [
        "### seaborn regplot: aggravated_assault\n",
        "\n",
        "sns.regplot(x = violent_crime['population'], y = violent_crime['aggravated_assault'])\n",
        "plt.title('Regression Line of Population - aggravated assault')\n",
        "plt.show()"
      ],
      "execution_count": null,
      "outputs": [
        {
          "output_type": "display_data",
          "data": {
            "image/png": "[encoded data removed]",
            "text/plain": [
              "<Figure size 432x288 with 1 Axes>"
            ]
          },
          "metadata": {
            "tags": [],
            "needs_background": "light"
          }
        }
      ]
    },
    {
      "cell_type": "code",
      "metadata": {
        "colab": {
          "base_uri": "https://localhost:8080/"
        },
        "id": "Wd_JaJrXAVId",
        "outputId": "a274fc72-d69c-4d0e-da5b-170be1edb5cf"
      },
      "source": [
        "print(aggravated_assault_fit.summary())"
      ],
      "execution_count": null,
      "outputs": [
        {
          "output_type": "stream",
          "text": [
            "                            OLS Regression Results                            \n",
            "==============================================================================\n",
            "Dep. Variable:     aggravated_assault   R-squared:                       0.925\n",
            "Model:                            OLS   Adj. R-squared:                  0.924\n",
            "Method:                 Least Squares   F-statistic:                     607.3\n",
            "Date:                Tue, 06 Jul 2021   Prob (F-statistic):           2.90e-29\n",
            "Time:                        06:43:45   Log-Likelihood:                -507.24\n",
            "No. Observations:                  51   AIC:                             1018.\n",
            "Df Residuals:                      49   BIC:                             1022.\n",
            "Df Model:                           1                                         \n",
            "Covariance Type:            nonrobust                                         \n",
            "==============================================================================\n",
            "                 coef    std err          t      P>|t|      [0.025      0.975]\n",
            "------------------------------------------------------------------------------\n",
            "Intercept   -589.2846    964.955     -0.611      0.544   -2528.434    1349.865\n",
            "population     0.0025      0.000     24.643      0.000       0.002       0.003\n",
            "==============================================================================\n",
            "Omnibus:                        4.078   Durbin-Watson:                   2.026\n",
            "Prob(Omnibus):                  0.130   Jarque-Bera (JB):                3.931\n",
            "Skew:                           0.200   Prob(JB):                        0.140\n",
            "Kurtosis:                       4.300   Cond. No.                     1.25e+07\n",
            "==============================================================================\n",
            "\n",
            "Warnings:\n",
            "[1] Standard Errors assume that the covariance matrix of the errors is correctly specified.\n",
            "[2] The condition number is large, 1.25e+07. This might indicate that there are\n",
            "strong multicollinearity or other numerical problems.\n"
          ],
          "name": "stdout"
        }
      ]
    },
    {
      "cell_type": "markdown",
      "metadata": {
        "id": "WcnwlC4qS8Ll"
      },
      "source": [
        "OLS 단일 회귀 모델 분석 결과, 가중 폭행죄 = 0.0025 * 인구 수 - 589.2846 식이 도출되었다.<br>\n",
        "인구 10만 명씩 늘어날수록 약 250건 가량 가중 폭행죄가 증가하고 있었다.<br>\n",
        "절편의 경우 유의수준보다 큰 값을 지녀 통계적으로 유의미하지 않았지만<br>\n",
        "결정계수는 유의수준보다 작아 인구 수가 증가할 때마다 가중 폭행죄가 0.0025씩 증가한다는 건 통계적으로 유의미한 예측이었다.<br> \n",
        "본 모델의 R 제곱값을 통해 가중 폭행죄의 분산을 인구 수가 약 93%나 설명하고 있었다.<br>\n",
        "F-통계량 값이 유의수준보다 한참 작은 것으로 보아 본 모델은 집계된 해당 데이터뿐만 아니라 모집단에서도 유의미한 것임을 확인할 수 있었다.\n",
        "또한 DW 검정값이 2.026이므로 잔차 간 자기 상관성이 존재하지 않아 계산된 R 제곱값, F-통계량, 결정계수 등의 통계가 왜곡되지 않았음을 알 수 있다."
      ]
    },
    {
      "cell_type": "markdown",
      "metadata": {
        "id": "slvcMhbyjqkC"
      },
      "source": [
        "#### **property_crime**"
      ]
    },
    {
      "cell_type": "markdown",
      "metadata": {
        "id": "b3sR4Y0SHwnA"
      },
      "source": [
        "재산범죄의 회귀분석에 앞서 10년 간 집계된 주거 침입 절도죄, 절도죄, 차량 절도죄의 데이터 분포를 확인하고자 한다.<br>\n"
      ]
    },
    {
      "cell_type": "code",
      "metadata": {
        "colab": {
          "base_uri": "https://localhost:8080/",
          "height": 392
        },
        "id": "fFYnQCH2Bbhm",
        "outputId": "9d784a6f-d225-40b0-c3cf-ad67c3fe80a1"
      },
      "source": [
        "### KDE of Property Crime All Categories\n",
        "\n",
        "plt.figure(figsize=(8,6))\n",
        "sns.kdeplot(data = property_crime[['burglary',\t'larceny',\t'motor_vehicle_theft']], shade = True)\n",
        "\n",
        "plt.title('KDE of Property Crime All Categories', fontsize = 15, fontweight = 'bold')\n",
        "plt.show()"
      ],
      "execution_count": null,
      "outputs": [
        {
          "output_type": "display_data",
          "data": {
            "image/png": "[encoded data removed]",
            "text/plain": [
              "<Figure size 576x432 with 1 Axes>"
            ]
          },
          "metadata": {
            "tags": [],
            "needs_background": "light"
          }
        }
      ]
    },
    {
      "cell_type": "code",
      "metadata": {
        "colab": {
          "base_uri": "https://localhost:8080/",
          "height": 297
        },
        "id": "UkIxbk6fsmDr",
        "outputId": "de718ac2-f6c2-42e1-9e4f-7eecfce5b9ff"
      },
      "source": [
        "property_crime.describe()"
      ],
      "execution_count": null,
      "outputs": [
        {
          "output_type": "execute_result",
          "data": {
            "text/html": [
              "<div>\n",
              "<style scoped>\n",
              "    .dataframe tbody tr th:only-of-type {\n",
              "        vertical-align: middle;\n",
              "    }\n",
              "\n",
              "    .dataframe tbody tr th {\n",
              "        vertical-align: top;\n",
              "    }\n",
              "\n",
              "    .dataframe thead th {\n",
              "        text-align: right;\n",
              "    }\n",
              "</style>\n",
              "<table border=\"1\" class=\"dataframe\">\n",
              "  <thead>\n",
              "    <tr style=\"text-align: right;\">\n",
              "      <th></th>\n",
              "      <th>population</th>\n",
              "      <th>burglary</th>\n",
              "      <th>larceny</th>\n",
              "      <th>motor_vehicle_theft</th>\n",
              "    </tr>\n",
              "  </thead>\n",
              "  <tbody>\n",
              "    <tr>\n",
              "      <th>count</th>\n",
              "      <td>51.00</td>\n",
              "      <td>51.00</td>\n",
              "      <td>51.00</td>\n",
              "      <td>51.00</td>\n",
              "    </tr>\n",
              "    <tr>\n",
              "      <th>mean</th>\n",
              "      <td>6222248.67</td>\n",
              "      <td>35388.55</td>\n",
              "      <td>115303.28</td>\n",
              "      <td>14445.49</td>\n",
              "    </tr>\n",
              "    <tr>\n",
              "      <th>std</th>\n",
              "      <td>7071905.91</td>\n",
              "      <td>41604.52</td>\n",
              "      <td>128674.92</td>\n",
              "      <td>24072.81</td>\n",
              "    </tr>\n",
              "    <tr>\n",
              "      <th>min</th>\n",
              "      <td>574833.30</td>\n",
              "      <td>1860.10</td>\n",
              "      <td>8885.60</td>\n",
              "      <td>333.60</td>\n",
              "    </tr>\n",
              "    <tr>\n",
              "      <th>25%</th>\n",
              "      <td>1736264.40</td>\n",
              "      <td>7459.20</td>\n",
              "      <td>29185.80</td>\n",
              "      <td>4019.20</td>\n",
              "    </tr>\n",
              "    <tr>\n",
              "      <th>50%</th>\n",
              "      <td>4399583.10</td>\n",
              "      <td>24887.80</td>\n",
              "      <td>90657.40</td>\n",
              "      <td>9097.60</td>\n",
              "    </tr>\n",
              "    <tr>\n",
              "      <th>75%</th>\n",
              "      <td>6893872.50</td>\n",
              "      <td>42601.35</td>\n",
              "      <td>139775.40</td>\n",
              "      <td>15030.30</td>\n",
              "    </tr>\n",
              "    <tr>\n",
              "      <th>max</th>\n",
              "      <td>38435871.00</td>\n",
              "      <td>209665.60</td>\n",
              "      <td>621951.00</td>\n",
              "      <td>162028.40</td>\n",
              "    </tr>\n",
              "  </tbody>\n",
              "</table>\n",
              "</div>"
            ],
            "text/plain": [
              "       population  burglary   larceny  motor_vehicle_theft\n",
              "count       51.00     51.00     51.00                51.00\n",
              "mean   6222248.67  35388.55 115303.28             14445.49\n",
              "std    7071905.91  41604.52 128674.92             24072.81\n",
              "min     574833.30   1860.10   8885.60               333.60\n",
              "25%    1736264.40   7459.20  29185.80              4019.20\n",
              "50%    4399583.10  24887.80  90657.40              9097.60\n",
              "75%    6893872.50  42601.35 139775.40             15030.30\n",
              "max   38435871.00 209665.60 621951.00            162028.40"
            ]
          },
          "metadata": {
            "tags": []
          },
          "execution_count": 79
        }
      ]
    },
    {
      "cell_type": "markdown",
      "metadata": {
        "id": "hFLh-i6DH3qs"
      },
      "source": [
        "재산범죄의 경우 압도적으로 가장 작은 표준편차를 보인 것은 차량 절도죄였다.<br>\n",
        "차량 절도죄는 다른 재산범죄에 비해 평균으로 집중되어 인구 수에 따라 범죄 발생 변화 폭이 적은 편이었다.<br>\n"
      ]
    },
    {
      "cell_type": "code",
      "metadata": {
        "colab": {
          "base_uri": "https://localhost:8080/",
          "height": 406
        },
        "id": "JoI_pSxlBtpa",
        "outputId": "5af99cfc-90d8-4e9b-9ad9-59eab09547d4"
      },
      "source": [
        "### KDE of Burglary\n",
        "\n",
        "plt.figure(figsize=(8,6))\n",
        "sns.kdeplot(data = property_crime, x = 'burglary', color = 'blue', shade = True)\n",
        "\n",
        "plt.title('KDE of Burglary', fontsize = 15, fontweight = 'bold')\n",
        "plt.show()"
      ],
      "execution_count": null,
      "outputs": [
        {
          "output_type": "display_data",
          "data": {
            "image/png": "[encoded data removed]",
            "text/plain": [
              "<Figure size 576x432 with 1 Axes>"
            ]
          },
          "metadata": {
            "tags": [],
            "needs_background": "light"
          }
        }
      ]
    },
    {
      "cell_type": "code",
      "metadata": {
        "colab": {
          "base_uri": "https://localhost:8080/",
          "height": 406
        },
        "id": "OE-BjLHRCMLV",
        "outputId": "6590d1c0-687c-4434-a6f9-0a63ea17b098"
      },
      "source": [
        "### KDE of Larceny\n",
        "\n",
        "plt.figure(figsize=(8,6))\n",
        "sns.kdeplot(data = property_crime, x = 'larceny', color = 'orange', shade = True)\n",
        "\n",
        "plt.title('KDE of Larceny', fontsize = 15, fontweight = 'bold')\n",
        "plt.show()"
      ],
      "execution_count": null,
      "outputs": [
        {
          "output_type": "display_data",
          "data": {
            "image/png": "[encoded data removed]",
            "text/plain": [
              "<Figure size 576x432 with 1 Axes>"
            ]
          },
          "metadata": {
            "tags": [],
            "needs_background": "light"
          }
        }
      ]
    },
    {
      "cell_type": "code",
      "metadata": {
        "colab": {
          "base_uri": "https://localhost:8080/",
          "height": 407
        },
        "id": "SBthhcH_Caxm",
        "outputId": "f5caab11-7223-44fa-cdc9-19d7b8031b8f"
      },
      "source": [
        "### KDE of Motor Vehicle Theft\n",
        "\n",
        "plt.figure(figsize=(8,6))\n",
        "sns.kdeplot(data = property_crime, x = 'motor_vehicle_theft', color = 'green', shade = True)\n",
        "\n",
        "plt.title('KDE of Motor Vehicle Theft', fontsize = 15, fontweight = 'bold')\n",
        "plt.show()"
      ],
      "execution_count": null,
      "outputs": [
        {
          "output_type": "display_data",
          "data": {
            "image/png": "[encoded data removed]",
            "text/plain": [
              "<Figure size 576x432 with 1 Axes>"
            ]
          },
          "metadata": {
            "tags": [],
            "needs_background": "light"
          }
        }
      ]
    },
    {
      "cell_type": "markdown",
      "metadata": {
        "id": "UnHJfTVjTvdQ"
      },
      "source": [
        "(1) 주거 침입 절도죄"
      ]
    },
    {
      "cell_type": "code",
      "metadata": {
        "id": "IMw7c9sigVqw"
      },
      "source": [
        "### Simple Linear Regression Stats model used by OLS(Ordinary Least Square): burglary\n",
        "\n",
        "ols_model2 = ols('burglary ~ population', data = property_crime)\n",
        "burglary_fit = ols_model2.fit()"
      ],
      "execution_count": null,
      "outputs": []
    },
    {
      "cell_type": "code",
      "metadata": {
        "colab": {
          "base_uri": "https://localhost:8080/",
          "height": 295
        },
        "id": "RoXSRJf8-UIB",
        "outputId": "fa91d90c-f1c1-4d7d-c07e-25068cadf394"
      },
      "source": [
        "### seaborn regplot: burglary \n",
        "\n",
        "sns.regplot(x = property_crime['population'], y = property_crime['burglary'])\n",
        "plt.title('Regression Line of Population - burglary')\n",
        "plt.show()"
      ],
      "execution_count": null,
      "outputs": [
        {
          "output_type": "display_data",
          "data": {
            "image/png": "[encoded data removed]",
            "text/plain": [
              "<Figure size 432x288 with 1 Axes>"
            ]
          },
          "metadata": {
            "tags": [],
            "needs_background": "light"
          }
        }
      ]
    },
    {
      "cell_type": "code",
      "metadata": {
        "colab": {
          "base_uri": "https://localhost:8080/"
        },
        "id": "b7ECBr2wgfDE",
        "outputId": "8013f89c-1bdc-4b60-97b9-eea4181168fe"
      },
      "source": [
        "print(burglary_fit.summary())"
      ],
      "execution_count": null,
      "outputs": [
        {
          "output_type": "stream",
          "text": [
            "                            OLS Regression Results                            \n",
            "==============================================================================\n",
            "Dep. Variable:               burglary   R-squared:                       0.887\n",
            "Model:                            OLS   Adj. R-squared:                  0.884\n",
            "Method:                 Least Squares   F-statistic:                     383.1\n",
            "Date:                Tue, 06 Jul 2021   Prob (F-statistic):           8.29e-25\n",
            "Time:                        06:43:46   Log-Likelihood:                -558.79\n",
            "No. Observations:                  51   AIC:                             1122.\n",
            "Df Residuals:                      49   BIC:                             1125.\n",
            "Df Model:                           1                                         \n",
            "Covariance Type:            nonrobust                                         \n",
            "==============================================================================\n",
            "                 coef    std err          t      P>|t|      [0.025      0.975]\n",
            "------------------------------------------------------------------------------\n",
            "Intercept    920.8363   2651.255      0.347      0.730   -4407.060    6248.733\n",
            "population     0.0055      0.000     19.572      0.000       0.005       0.006\n",
            "==============================================================================\n",
            "Omnibus:                       21.472   Durbin-Watson:                   2.306\n",
            "Prob(Omnibus):                  0.000   Jarque-Bera (JB):               55.993\n",
            "Skew:                          -1.044   Prob(JB):                     6.94e-13\n",
            "Kurtosis:                       7.690   Cond. No.                     1.25e+07\n",
            "==============================================================================\n",
            "\n",
            "Warnings:\n",
            "[1] Standard Errors assume that the covariance matrix of the errors is correctly specified.\n",
            "[2] The condition number is large, 1.25e+07. This might indicate that there are\n",
            "strong multicollinearity or other numerical problems.\n"
          ],
          "name": "stdout"
        }
      ]
    },
    {
      "cell_type": "markdown",
      "metadata": {
        "id": "Ie3mjV-iT9SV"
      },
      "source": [
        "OLS 단일 회귀 모델 분석 결과, 주거 침입 절도죄 = 0.0055 * 인구 수 + 920.8363 식이 도출되었다.<br>\n",
        "인구 10만 명씩 늘어날수록 약 550건 가량 주거 침입 절도죄가 증가하고 있었다.<br>\n",
        "절편의 경우 유의수준보다 큰 값을 지녀 통계적으로 유의미하지 않았지만<br>\n",
        "결정계수는 유의수준보다 작아 인구 수가 증가할 때마다 주거 침입 절도죄가 0.0055씩 증가한다는 건 통계적으로 유의미한 예측이었다.<br> \n",
        "본 모델의 R 제곱값을 통해 살인죄의 분산을 인구 수가 약 89%나 설명하고 있었다.<br>\n",
        "F-통계량 값이 유의수준보다 한참 작은 것으로 보아 본 모델은 집계된 해당 데이터뿐만 아니라 모집단에서도 유의미한 것임을 확인할 수 있었다.\n",
        "또한 DW 검정값이 2.306이므로 잔차 간 자기 상관성이 존재하지 않아 계산된 R 제곱값, F-통계량, 결정계수 등의 통계가 왜곡되지 않았음을 알 수 있다."
      ]
    },
    {
      "cell_type": "markdown",
      "metadata": {
        "id": "5h7j8OfdTzJH"
      },
      "source": [
        "(2) 절도죄"
      ]
    },
    {
      "cell_type": "code",
      "metadata": {
        "id": "rwenasAcBCqA"
      },
      "source": [
        "### Simple Linear Regression Stats model used by OLS(Ordinary Least Square): larceny\n",
        "\n",
        "ols_model2 = ols('larceny ~ population', data = property_crime)\n",
        "larceny_fit = ols_model2.fit()"
      ],
      "execution_count": null,
      "outputs": []
    },
    {
      "cell_type": "code",
      "metadata": {
        "colab": {
          "base_uri": "https://localhost:8080/",
          "height": 295
        },
        "id": "QeW5tM84BITP",
        "outputId": "dfcee718-c123-4c6b-8c44-d7a0a69c9923"
      },
      "source": [
        "### seaborn regplot: larceny \n",
        "\n",
        "sns.regplot(x = property_crime['population'], y = property_crime['larceny'])\n",
        "plt.title('Regression Line of Population - larceny')\n",
        "plt.show()"
      ],
      "execution_count": null,
      "outputs": [
        {
          "output_type": "display_data",
          "data": {
            "image/png": "[encoded data removed]",
            "text/plain": [
              "<Figure size 432x288 with 1 Axes>"
            ]
          },
          "metadata": {
            "tags": [],
            "needs_background": "light"
          }
        }
      ]
    },
    {
      "cell_type": "code",
      "metadata": {
        "colab": {
          "base_uri": "https://localhost:8080/"
        },
        "id": "_qtMDzuVBMOa",
        "outputId": "3e3ce24c-a0c7-456e-f208-ffa7df7ca032"
      },
      "source": [
        "print(larceny_fit.summary())"
      ],
      "execution_count": null,
      "outputs": [
        {
          "output_type": "stream",
          "text": [
            "                            OLS Regression Results                            \n",
            "==============================================================================\n",
            "Dep. Variable:                larceny   R-squared:                       0.947\n",
            "Model:                            OLS   Adj. R-squared:                  0.946\n",
            "Method:                 Least Squares   F-statistic:                     876.2\n",
            "Date:                Tue, 06 Jul 2021   Prob (F-statistic):           6.35e-33\n",
            "Time:                        06:43:46   Log-Likelihood:                -596.95\n",
            "No. Observations:                  51   AIC:                             1198.\n",
            "Df Residuals:                      49   BIC:                             1202.\n",
            "Df Model:                           1                                         \n",
            "Covariance Type:            nonrobust                                         \n",
            "==============================================================================\n",
            "                 coef    std err          t      P>|t|      [0.025      0.975]\n",
            "------------------------------------------------------------------------------\n",
            "Intercept   5126.8770   5603.475      0.915      0.365   -6133.727    1.64e+04\n",
            "population     0.0177      0.001     29.601      0.000       0.017       0.019\n",
            "==============================================================================\n",
            "Omnibus:                       12.939   Durbin-Watson:                   1.830\n",
            "Prob(Omnibus):                  0.002   Jarque-Bera (JB):               27.003\n",
            "Skew:                           0.594   Prob(JB):                     1.37e-06\n",
            "Kurtosis:                       6.361   Cond. No.                     1.25e+07\n",
            "==============================================================================\n",
            "\n",
            "Warnings:\n",
            "[1] Standard Errors assume that the covariance matrix of the errors is correctly specified.\n",
            "[2] The condition number is large, 1.25e+07. This might indicate that there are\n",
            "strong multicollinearity or other numerical problems.\n"
          ],
          "name": "stdout"
        }
      ]
    },
    {
      "cell_type": "markdown",
      "metadata": {
        "id": "cE6BhTxIVMGl"
      },
      "source": [
        "OLS 단일 회귀 모델 분석 결과, 절도죄 = 0.0177 * 인구 수 + 5126.8770 식이 도출되었다.<br>\n",
        "인구 10만 명씩 늘어날수록 약 1770건 가량 절도죄가 증가하고 있었다.<br>\n",
        "절편의 경우 유의수준보다 큰 값을 지녀 통계적으로 유의미하지 않았지만<br>\n",
        "결정계수는 유의수준보다 작아 인구 수가 증가할 때마다 절도죄가 0.0177씩 증가한다는 건 통계적으로 유의미한 예측이었다.<br> \n",
        "본 모델의 R 제곱값을 통해 살인죄의 분산을 인구 수가 약 95%나 설명하고 있었다.<br>\n",
        "F-통계량 값이 유의수준보다 한참 작은 것으로 보아 본 모델은 집계된 해당 데이터뿐만 아니라 모집단에서도 유의미한 것임을 확인할 수 있었다.\n",
        "또한 DW 검정값이 1.830이므로 잔차 간 자기 상관성이 존재하지 않아 계산된 R 제곱값, F-통계량, 결정계수 등의 통계가 왜곡되지 않았음을 알 수 있다."
      ]
    },
    {
      "cell_type": "markdown",
      "metadata": {
        "id": "xu6SWaSST079"
      },
      "source": [
        "(3) 차량 절도죄"
      ]
    },
    {
      "cell_type": "code",
      "metadata": {
        "id": "uiSArn4QBO_x"
      },
      "source": [
        "### Simple Linear Regression Stats model used by OLS(Ordinary Least Square): motor_vehicle_theft\n",
        "\n",
        "ols_model2 = ols('motor_vehicle_theft ~ population', data = property_crime)\n",
        "motor_vehicle_theft_fit = ols_model2.fit()"
      ],
      "execution_count": null,
      "outputs": []
    },
    {
      "cell_type": "code",
      "metadata": {
        "colab": {
          "base_uri": "https://localhost:8080/",
          "height": 295
        },
        "id": "XyoH3MyEBWAh",
        "outputId": "4bf76924-3e9e-4abc-800c-3dc176e30b0e"
      },
      "source": [
        "### seaborn regplot: motor_vehicle_theft \n",
        "\n",
        "sns.regplot(x = property_crime['population'], y = property_crime['motor_vehicle_theft'])\n",
        "plt.title('Regression Line of Population - motor_vehicle_theft')\n",
        "plt.show()"
      ],
      "execution_count": null,
      "outputs": [
        {
          "output_type": "display_data",
          "data": {
            "image/png": "[encoded data removed]",
            "text/plain": [
              "<Figure size 432x288 with 1 Axes>"
            ]
          },
          "metadata": {
            "tags": [],
            "needs_background": "light"
          }
        }
      ]
    },
    {
      "cell_type": "code",
      "metadata": {
        "colab": {
          "base_uri": "https://localhost:8080/"
        },
        "id": "zKZ-NbAmBahl",
        "outputId": "2718b17c-62bb-4b36-a76f-bef9594c6c8a"
      },
      "source": [
        "print(motor_vehicle_theft_fit.summary())"
      ],
      "execution_count": null,
      "outputs": [
        {
          "output_type": "stream",
          "text": [
            "                             OLS Regression Results                            \n",
            "===============================================================================\n",
            "Dep. Variable:     motor_vehicle_theft   R-squared:                       0.801\n",
            "Model:                             OLS   Adj. R-squared:                  0.797\n",
            "Method:                  Least Squares   F-statistic:                     197.6\n",
            "Date:                 Tue, 06 Jul 2021   Prob (F-statistic):           8.05e-19\n",
            "Time:                         06:43:47   Log-Likelihood:                -545.18\n",
            "No. Observations:                   51   AIC:                             1094.\n",
            "Df Residuals:                       49   BIC:                             1098.\n",
            "Df Model:                            1                                         \n",
            "Covariance Type:             nonrobust                                         \n",
            "==============================================================================\n",
            "                 coef    std err          t      P>|t|      [0.025      0.975]\n",
            "------------------------------------------------------------------------------\n",
            "Intercept  -4514.5311   2030.459     -2.223      0.031   -8594.891    -434.171\n",
            "population     0.0030      0.000     14.058      0.000       0.003       0.003\n",
            "==============================================================================\n",
            "Omnibus:                       27.077   Durbin-Watson:                   2.015\n",
            "Prob(Omnibus):                  0.000   Jarque-Bera (JB):              220.539\n",
            "Skew:                           0.781   Prob(JB):                     1.29e-48\n",
            "Kurtosis:                      13.067   Cond. No.                     1.25e+07\n",
            "==============================================================================\n",
            "\n",
            "Warnings:\n",
            "[1] Standard Errors assume that the covariance matrix of the errors is correctly specified.\n",
            "[2] The condition number is large, 1.25e+07. This might indicate that there are\n",
            "strong multicollinearity or other numerical problems.\n"
          ],
          "name": "stdout"
        }
      ]
    },
    {
      "cell_type": "markdown",
      "metadata": {
        "id": "Cuobj7tYVuos"
      },
      "source": [
        "OLS 단일 회귀 모델 분석 결과, 차량 절도죄 = 0.0030 * 인구 수 - 4514.5311 식이 도출되었다.<br>\n",
        "인구 10만 명씩 늘어날수록 약 300건 가량 차량 절도죄가 증가하고 있었다.<br>\n",
        "절편 및 결정계수는 유의수준보다 작아 통계적으로 유의미했다.<br>\n",
        "즉 인구 수가 증가할 때마다 차량 절도죄가 0.0030씩 증가한다는 건 통계적으로 유의미한 예측이었다.<br> \n",
        "본 모델의 R 제곱값을 통해 살인죄의 분산을 인구 수가 약 80%나 설명하고 있었다.<br>\n",
        "F-통계량 값이 유의수준보다 한참 작은 것으로 보아 본 모델은 집계된 해당 데이터뿐만 아니라 모집단에서도 유의미한 것임을 확인할 수 있었다.\n",
        "또한 DW 검정값이 2.015이므로 잔차 간 자기 상관성이 존재하지 않아 계산된 R 제곱값, F-통계량, 결정계수 등의 통계가 왜곡되지 않았음을 알 수 있다."
      ]
    },
    {
      "cell_type": "markdown",
      "metadata": {
        "id": "14bWRbUMY6tK"
      },
      "source": [
        "### **2019년 인구 수를 통한 형법 범죄 발생 건수 예측**\n",
        "- sklearn의 LinearRegression 적용"
      ]
    },
    {
      "cell_type": "markdown",
      "metadata": {
        "id": "NOQMh9CqXElq"
      },
      "source": [
        "2009년부터 2018년 간 집계된 데이터를 단순 선형 회귀 모델을 통해 분석한 결과,<br>\n",
        "인구 수는 강력범죄 및 재산범죄를 예측하는 데 유의미한 변수임을 파악할 수 있었다.<br>\n",
        "따라서 2009년부터 2018년 간 데이터를 학습한 LinearRegression 모델을 바탕으로 2019년의 인구 수를 통해 각 범죄를 예측해보고자 한다."
      ]
    },
    {
      "cell_type": "code",
      "metadata": {
        "colab": {
          "base_uri": "https://localhost:8080/",
          "height": 204
        },
        "id": "XtGV-he1S6Wx",
        "outputId": "16ecd98e-c6dd-4ea9-fbb1-2727080a58bf"
      },
      "source": [
        "df_test.head()"
      ],
      "execution_count": null,
      "outputs": [
        {
          "output_type": "execute_result",
          "data": {
            "text/html": [
              "<div>\n",
              "<style scoped>\n",
              "    .dataframe tbody tr th:only-of-type {\n",
              "        vertical-align: middle;\n",
              "    }\n",
              "\n",
              "    .dataframe tbody tr th {\n",
              "        vertical-align: top;\n",
              "    }\n",
              "\n",
              "    .dataframe thead th {\n",
              "        text-align: right;\n",
              "    }\n",
              "</style>\n",
              "<table border=\"1\" class=\"dataframe\">\n",
              "  <thead>\n",
              "    <tr style=\"text-align: right;\">\n",
              "      <th></th>\n",
              "      <th>state_name</th>\n",
              "      <th>population</th>\n",
              "      <th>homicide</th>\n",
              "      <th>rape</th>\n",
              "      <th>robbery</th>\n",
              "      <th>aggravated_assault</th>\n",
              "      <th>burglary</th>\n",
              "      <th>larceny</th>\n",
              "      <th>motor_vehicle_theft</th>\n",
              "    </tr>\n",
              "  </thead>\n",
              "  <tbody>\n",
              "    <tr>\n",
              "      <th>0</th>\n",
              "      <td>Alabama</td>\n",
              "      <td>4903185</td>\n",
              "      <td>358</td>\n",
              "      <td>2068.00</td>\n",
              "      <td>3941</td>\n",
              "      <td>18679</td>\n",
              "      <td>26079</td>\n",
              "      <td>92477</td>\n",
              "      <td>12577</td>\n",
              "    </tr>\n",
              "    <tr>\n",
              "      <th>1</th>\n",
              "      <td>Alaska</td>\n",
              "      <td>731545</td>\n",
              "      <td>69</td>\n",
              "      <td>1088.00</td>\n",
              "      <td>826</td>\n",
              "      <td>4360</td>\n",
              "      <td>3563</td>\n",
              "      <td>15114</td>\n",
              "      <td>2617</td>\n",
              "    </tr>\n",
              "    <tr>\n",
              "      <th>2</th>\n",
              "      <td>Arizona</td>\n",
              "      <td>7278717</td>\n",
              "      <td>365</td>\n",
              "      <td>3662.00</td>\n",
              "      <td>6410</td>\n",
              "      <td>22704</td>\n",
              "      <td>28699</td>\n",
              "      <td>130788</td>\n",
              "      <td>18151</td>\n",
              "    </tr>\n",
              "    <tr>\n",
              "      <th>3</th>\n",
              "      <td>Arkansas</td>\n",
              "      <td>3017804</td>\n",
              "      <td>242</td>\n",
              "      <td>2331.00</td>\n",
              "      <td>1557</td>\n",
              "      <td>13513</td>\n",
              "      <td>18095</td>\n",
              "      <td>60735</td>\n",
              "      <td>7420</td>\n",
              "    </tr>\n",
              "    <tr>\n",
              "      <th>4</th>\n",
              "      <td>California</td>\n",
              "      <td>39512223</td>\n",
              "      <td>1690</td>\n",
              "      <td>14799.00</td>\n",
              "      <td>52301</td>\n",
              "      <td>105541</td>\n",
              "      <td>152555</td>\n",
              "      <td>626802</td>\n",
              "      <td>141757</td>\n",
              "    </tr>\n",
              "  </tbody>\n",
              "</table>\n",
              "</div>"
            ],
            "text/plain": [
              "   state_name  population  homicide  ...  burglary  larceny  motor_vehicle_theft\n",
              "0     Alabama     4903185       358  ...     26079    92477                12577\n",
              "1      Alaska      731545        69  ...      3563    15114                 2617\n",
              "2     Arizona     7278717       365  ...     28699   130788                18151\n",
              "3    Arkansas     3017804       242  ...     18095    60735                 7420\n",
              "4  California    39512223      1690  ...    152555   626802               141757\n",
              "\n",
              "[5 rows x 9 columns]"
            ]
          },
          "metadata": {
            "tags": []
          },
          "execution_count": 92
        }
      ]
    },
    {
      "cell_type": "code",
      "metadata": {
        "colab": {
          "base_uri": "https://localhost:8080/",
          "height": 297
        },
        "id": "4nAGs6grS8ab",
        "outputId": "54dbbc7b-db65-451c-d855-92b75d46b953"
      },
      "source": [
        "df_test.describe()"
      ],
      "execution_count": null,
      "outputs": [
        {
          "output_type": "execute_result",
          "data": {
            "text/html": [
              "<div>\n",
              "<style scoped>\n",
              "    .dataframe tbody tr th:only-of-type {\n",
              "        vertical-align: middle;\n",
              "    }\n",
              "\n",
              "    .dataframe tbody tr th {\n",
              "        vertical-align: top;\n",
              "    }\n",
              "\n",
              "    .dataframe thead th {\n",
              "        text-align: right;\n",
              "    }\n",
              "</style>\n",
              "<table border=\"1\" class=\"dataframe\">\n",
              "  <thead>\n",
              "    <tr style=\"text-align: right;\">\n",
              "      <th></th>\n",
              "      <th>population</th>\n",
              "      <th>homicide</th>\n",
              "      <th>rape</th>\n",
              "      <th>robbery</th>\n",
              "      <th>aggravated_assault</th>\n",
              "      <th>burglary</th>\n",
              "      <th>larceny</th>\n",
              "      <th>motor_vehicle_theft</th>\n",
              "    </tr>\n",
              "  </thead>\n",
              "  <tbody>\n",
              "    <tr>\n",
              "      <th>count</th>\n",
              "      <td>51.00</td>\n",
              "      <td>51.00</td>\n",
              "      <td>51.00</td>\n",
              "      <td>51.00</td>\n",
              "      <td>51.00</td>\n",
              "      <td>51.00</td>\n",
              "      <td>51.00</td>\n",
              "      <td>51.00</td>\n",
              "    </tr>\n",
              "    <tr>\n",
              "      <th>mean</th>\n",
              "      <td>6436069.08</td>\n",
              "      <td>322.06</td>\n",
              "      <td>2741.47</td>\n",
              "      <td>5254.67</td>\n",
              "      <td>16101.61</td>\n",
              "      <td>21915.61</td>\n",
              "      <td>99727.37</td>\n",
              "      <td>14154.61</td>\n",
              "    </tr>\n",
              "    <tr>\n",
              "      <th>std</th>\n",
              "      <td>7360660.47</td>\n",
              "      <td>355.15</td>\n",
              "      <td>3082.43</td>\n",
              "      <td>8564.03</td>\n",
              "      <td>19392.77</td>\n",
              "      <td>26944.92</td>\n",
              "      <td>117333.95</td>\n",
              "      <td>21980.67</td>\n",
              "    </tr>\n",
              "    <tr>\n",
              "      <th>min</th>\n",
              "      <td>578759.00</td>\n",
              "      <td>11.00</td>\n",
              "      <td>278.00</td>\n",
              "      <td>67.00</td>\n",
              "      <td>824.00</td>\n",
              "      <td>1275.00</td>\n",
              "      <td>6984.00</td>\n",
              "      <td>298.00</td>\n",
              "    </tr>\n",
              "    <tr>\n",
              "      <th>25%</th>\n",
              "      <td>1789606.00</td>\n",
              "      <td>64.50</td>\n",
              "      <td>768.00</td>\n",
              "      <td>844.50</td>\n",
              "      <td>3960.50</td>\n",
              "      <td>5042.50</td>\n",
              "      <td>28139.50</td>\n",
              "      <td>3801.00</td>\n",
              "    </tr>\n",
              "    <tr>\n",
              "      <th>50%</th>\n",
              "      <td>4467673.00</td>\n",
              "      <td>198.00</td>\n",
              "      <td>2068.00</td>\n",
              "      <td>2991.00</td>\n",
              "      <td>10987.00</td>\n",
              "      <td>15510.00</td>\n",
              "      <td>65620.00</td>\n",
              "      <td>10269.00</td>\n",
              "    </tr>\n",
              "    <tr>\n",
              "      <th>75%</th>\n",
              "      <td>7446805.00</td>\n",
              "      <td>518.00</td>\n",
              "      <td>2919.50</td>\n",
              "      <td>5540.00</td>\n",
              "      <td>19629.50</td>\n",
              "      <td>27189.50</td>\n",
              "      <td>115252.00</td>\n",
              "      <td>16464.50</td>\n",
              "    </tr>\n",
              "    <tr>\n",
              "      <th>max</th>\n",
              "      <td>39512223.00</td>\n",
              "      <td>1690.00</td>\n",
              "      <td>14824.00</td>\n",
              "      <td>52301.00</td>\n",
              "      <td>105541.00</td>\n",
              "      <td>152555.00</td>\n",
              "      <td>626802.00</td>\n",
              "      <td>141757.00</td>\n",
              "    </tr>\n",
              "  </tbody>\n",
              "</table>\n",
              "</div>"
            ],
            "text/plain": [
              "       population  homicide     rape  ...  burglary   larceny  motor_vehicle_theft\n",
              "count       51.00     51.00    51.00  ...     51.00     51.00                51.00\n",
              "mean   6436069.08    322.06  2741.47  ...  21915.61  99727.37             14154.61\n",
              "std    7360660.47    355.15  3082.43  ...  26944.92 117333.95             21980.67\n",
              "min     578759.00     11.00   278.00  ...   1275.00   6984.00               298.00\n",
              "25%    1789606.00     64.50   768.00  ...   5042.50  28139.50              3801.00\n",
              "50%    4467673.00    198.00  2068.00  ...  15510.00  65620.00             10269.00\n",
              "75%    7446805.00    518.00  2919.50  ...  27189.50 115252.00             16464.50\n",
              "max   39512223.00   1690.00 14824.00  ... 152555.00 626802.00            141757.00\n",
              "\n",
              "[8 rows x 8 columns]"
            ]
          },
          "metadata": {
            "tags": []
          },
          "execution_count": 93
        }
      ]
    },
    {
      "cell_type": "markdown",
      "metadata": {
        "id": "iKGX7lQYZZYN"
      },
      "source": [
        "#### **violent_2019**"
      ]
    },
    {
      "cell_type": "code",
      "metadata": {
        "id": "QAxhZ5zHUtJB"
      },
      "source": [
        "violent_2019 = df_test[['state_name',\t'population',\t'homicide',\t'rape',\t'robbery',\t'aggravated_assault']]"
      ],
      "execution_count": null,
      "outputs": []
    },
    {
      "cell_type": "code",
      "metadata": {
        "colab": {
          "base_uri": "https://localhost:8080/",
          "height": 204
        },
        "id": "jdCyHVYyVk5N",
        "outputId": "c31af2f4-6405-4201-bb27-7f15458dd7ba"
      },
      "source": [
        "violent_2019.head()"
      ],
      "execution_count": null,
      "outputs": [
        {
          "output_type": "execute_result",
          "data": {
            "text/html": [
              "<div>\n",
              "<style scoped>\n",
              "    .dataframe tbody tr th:only-of-type {\n",
              "        vertical-align: middle;\n",
              "    }\n",
              "\n",
              "    .dataframe tbody tr th {\n",
              "        vertical-align: top;\n",
              "    }\n",
              "\n",
              "    .dataframe thead th {\n",
              "        text-align: right;\n",
              "    }\n",
              "</style>\n",
              "<table border=\"1\" class=\"dataframe\">\n",
              "  <thead>\n",
              "    <tr style=\"text-align: right;\">\n",
              "      <th></th>\n",
              "      <th>state_name</th>\n",
              "      <th>population</th>\n",
              "      <th>homicide</th>\n",
              "      <th>rape</th>\n",
              "      <th>robbery</th>\n",
              "      <th>aggravated_assault</th>\n",
              "    </tr>\n",
              "  </thead>\n",
              "  <tbody>\n",
              "    <tr>\n",
              "      <th>0</th>\n",
              "      <td>Alabama</td>\n",
              "      <td>4903185</td>\n",
              "      <td>358</td>\n",
              "      <td>2068.00</td>\n",
              "      <td>3941</td>\n",
              "      <td>18679</td>\n",
              "    </tr>\n",
              "    <tr>\n",
              "      <th>1</th>\n",
              "      <td>Alaska</td>\n",
              "      <td>731545</td>\n",
              "      <td>69</td>\n",
              "      <td>1088.00</td>\n",
              "      <td>826</td>\n",
              "      <td>4360</td>\n",
              "    </tr>\n",
              "    <tr>\n",
              "      <th>2</th>\n",
              "      <td>Arizona</td>\n",
              "      <td>7278717</td>\n",
              "      <td>365</td>\n",
              "      <td>3662.00</td>\n",
              "      <td>6410</td>\n",
              "      <td>22704</td>\n",
              "    </tr>\n",
              "    <tr>\n",
              "      <th>3</th>\n",
              "      <td>Arkansas</td>\n",
              "      <td>3017804</td>\n",
              "      <td>242</td>\n",
              "      <td>2331.00</td>\n",
              "      <td>1557</td>\n",
              "      <td>13513</td>\n",
              "    </tr>\n",
              "    <tr>\n",
              "      <th>4</th>\n",
              "      <td>California</td>\n",
              "      <td>39512223</td>\n",
              "      <td>1690</td>\n",
              "      <td>14799.00</td>\n",
              "      <td>52301</td>\n",
              "      <td>105541</td>\n",
              "    </tr>\n",
              "  </tbody>\n",
              "</table>\n",
              "</div>"
            ],
            "text/plain": [
              "   state_name  population  homicide     rape  robbery  aggravated_assault\n",
              "0     Alabama     4903185       358  2068.00     3941               18679\n",
              "1      Alaska      731545        69  1088.00      826                4360\n",
              "2     Arizona     7278717       365  3662.00     6410               22704\n",
              "3    Arkansas     3017804       242  2331.00     1557               13513\n",
              "4  California    39512223      1690 14799.00    52301              105541"
            ]
          },
          "metadata": {
            "tags": []
          },
          "execution_count": 95
        }
      ]
    },
    {
      "cell_type": "code",
      "metadata": {
        "colab": {
          "base_uri": "https://localhost:8080/"
        },
        "id": "yNP913dkVmex",
        "outputId": "514829d9-bdf8-4c46-ba7e-d5115816a515"
      },
      "source": [
        "violent_2019.shape"
      ],
      "execution_count": null,
      "outputs": [
        {
          "output_type": "execute_result",
          "data": {
            "text/plain": [
              "(51, 6)"
            ]
          },
          "metadata": {
            "tags": []
          },
          "execution_count": 96
        }
      ]
    },
    {
      "cell_type": "markdown",
      "metadata": {
        "id": "yytuycv8Wq07"
      },
      "source": [
        "(1) 살인죄"
      ]
    },
    {
      "cell_type": "code",
      "metadata": {
        "colab": {
          "base_uri": "https://localhost:8080/"
        },
        "id": "DTIWw7OQAuA7",
        "outputId": "419bee60-1808-49e0-b787-3b8ea8fe6dfd"
      },
      "source": [
        "### homicide\n",
        "\n",
        "reg_model = LinearRegression(n_jobs = -1)\n",
        "\n",
        "feature = ['population']\n",
        "target = ['homicide']\n",
        "\n",
        "X_train = violent_crime[feature]\n",
        "y_train = violent_crime[target]\n",
        "\n",
        "reg_model.fit(X_train, y_train)"
      ],
      "execution_count": null,
      "outputs": [
        {
          "output_type": "execute_result",
          "data": {
            "text/plain": [
              "LinearRegression(copy_X=True, fit_intercept=True, n_jobs=-1, normalize=False)"
            ]
          },
          "metadata": {
            "tags": []
          },
          "execution_count": 97
        }
      ]
    },
    {
      "cell_type": "code",
      "metadata": {
        "colab": {
          "base_uri": "https://localhost:8080/"
        },
        "id": "oR9Mvtp4JqTp",
        "outputId": "6cf32856-10ed-4671-fcee-b8a4b5b03c13"
      },
      "source": [
        "reg_model.coef_"
      ],
      "execution_count": null,
      "outputs": [
        {
          "output_type": "execute_result",
          "data": {
            "text/plain": [
              "array([[4.78634039e-05]])"
            ]
          },
          "metadata": {
            "tags": []
          },
          "execution_count": 98
        }
      ]
    },
    {
      "cell_type": "code",
      "metadata": {
        "colab": {
          "base_uri": "https://localhost:8080/"
        },
        "id": "gwrD0ThRkkyz",
        "outputId": "c314831e-b893-4fcc-abcc-537c850e7d89"
      },
      "source": [
        "reg_model.intercept_"
      ],
      "execution_count": null,
      "outputs": [
        {
          "output_type": "execute_result",
          "data": {
            "text/plain": [
              "array([6.25062618])"
            ]
          },
          "metadata": {
            "tags": []
          },
          "execution_count": 99
        }
      ]
    },
    {
      "cell_type": "code",
      "metadata": {
        "id": "Ql9XohtmkuSd"
      },
      "source": [
        "X_test = [[x] for x in violent_2019['population']]\n",
        "y_pred = reg_model.predict(X_test)\n",
        "y_test = violent_2019[target]"
      ],
      "execution_count": null,
      "outputs": []
    },
    {
      "cell_type": "code",
      "metadata": {
        "colab": {
          "base_uri": "https://localhost:8080/"
        },
        "id": "Eh1dl2MqkvuH",
        "outputId": "34ea1da6-6b74-45fa-b51a-f565a4e7b7e2"
      },
      "source": [
        "reg_model.predict(X_test)"
      ],
      "execution_count": null,
      "outputs": [
        {
          "output_type": "execute_result",
          "data": {
            "text/plain": [
              "array([[ 240.93375015],\n",
              "       [  41.26485998],\n",
              "       [ 354.6347977 ],\n",
              "       [ 150.69299787],\n",
              "       [1897.4401139 ],\n",
              "       [ 281.8833332 ],\n",
              "       [ 176.89739782],\n",
              "       [  52.8582858 ],\n",
              "       [  40.03017561],\n",
              "       [1034.24822668],\n",
              "       [ 514.43663142],\n",
              "       [  74.01907957],\n",
              "       [  91.78564004],\n",
              "       [ 612.76711262],\n",
              "       [ 328.4775432 ],\n",
              "       [ 157.26301587],\n",
              "       [ 145.6917508 ],\n",
              "       [ 220.08866339],\n",
              "       [ 228.75773097],\n",
              "       [  70.58918804],\n",
              "       [ 295.61744976],\n",
              "       [ 336.14928103],\n",
              "       [ 484.25559628],\n",
              "       [ 276.18261034],\n",
              "       [ 148.69924778],\n",
              "       [ 300.00882134],\n",
              "       [  57.40597926],\n",
              "       [  98.83797756],\n",
              "       [ 153.67737683],\n",
              "       [  71.33102294],\n",
              "       [ 431.38247351],\n",
              "       [ 106.61199948],\n",
              "       [ 937.36427327],\n",
              "       [ 508.24602662],\n",
              "       [  42.72550747],\n",
              "       [ 565.7307405 ],\n",
              "       [ 195.64472731],\n",
              "       [ 208.12587568],\n",
              "       [ 618.99739618],\n",
              "       [  56.95524958],\n",
              "       [ 252.68560384],\n",
              "       [  48.5934172 ],\n",
              "       [ 333.11813952],\n",
              "       [1394.09218939],\n",
              "       [ 159.69868877],\n",
              "       [  36.11686371],\n",
              "       [ 414.78961942],\n",
              "       [ 370.72532536],\n",
              "       [  92.02888186],\n",
              "       [ 284.9321363 ],\n",
              "       [  33.95200195]])"
            ]
          },
          "metadata": {
            "tags": []
          },
          "execution_count": 101
        }
      ]
    },
    {
      "cell_type": "code",
      "metadata": {
        "colab": {
          "base_uri": "https://localhost:8080/"
        },
        "id": "tu4HGojpk6Fa",
        "outputId": "5a4c614c-6605-41c2-9d56-177ab2ed0929"
      },
      "source": [
        "r2_score(y_test, y_pred)"
      ],
      "execution_count": null,
      "outputs": [
        {
          "output_type": "execute_result",
          "data": {
            "text/plain": [
              "0.8640625274639059"
            ]
          },
          "metadata": {
            "tags": []
          },
          "execution_count": 102
        }
      ]
    },
    {
      "cell_type": "code",
      "metadata": {
        "colab": {
          "base_uri": "https://localhost:8080/",
          "height": 295
        },
        "id": "j1ox11FTk6xF",
        "outputId": "0bcd713a-aad6-457f-88a8-830545dd67ef"
      },
      "source": [
        "### visualization: homicide\n",
        "\n",
        "plt.scatter(X_test, y_test, color = 'dodgerblue', marker = 'o', linewidth = 1.5)\n",
        "\n",
        "plt.scatter(X_test, y_pred, color = 'crimson', marker = '8', linewidth = 1.5)\n",
        "\n",
        "plt.xlabel('population')\n",
        "plt.ylabel('homicide')\n",
        "plt.title('Prediction of Homicide', fontsize = 13, fontweight = 'bold')\n",
        "plt.show()"
      ],
      "execution_count": null,
      "outputs": [
        {
          "output_type": "display_data",
          "data": {
            "image/png": "[encoded data removed]",
            "text/plain": [
              "<Figure size 432x288 with 1 Axes>"
            ]
          },
          "metadata": {
            "tags": [],
            "needs_background": "light"
          }
        }
      ]
    },
    {
      "cell_type": "markdown",
      "metadata": {
        "id": "ICW-OKnRaZSj"
      },
      "source": [
        "2019년 살인죄 예측은 약 86%의 정확도를 보였다.<br>\n",
        "14% 가량은 인구 수만으로 예측하기엔 정확도가 떨어진 것이다.<br>"
      ]
    },
    {
      "cell_type": "markdown",
      "metadata": {
        "id": "5VRdrW6tWtpm"
      },
      "source": [
        "(2) 강간죄"
      ]
    },
    {
      "cell_type": "code",
      "metadata": {
        "colab": {
          "base_uri": "https://localhost:8080/"
        },
        "id": "FvA25NV_BfHP",
        "outputId": "91a40f39-82cd-442e-dd82-d1b7a5d79c9b"
      },
      "source": [
        "### rape\n",
        "\n",
        "reg_model = LinearRegression(n_jobs = -1)\n",
        "\n",
        "feature = ['population']\n",
        "target = ['rape']\n",
        "\n",
        "X_train = violent_crime[feature]\n",
        "y_train = violent_crime[target]\n",
        "\n",
        "reg_model.fit(X_train, y_train)"
      ],
      "execution_count": null,
      "outputs": [
        {
          "output_type": "execute_result",
          "data": {
            "text/plain": [
              "LinearRegression(copy_X=True, fit_intercept=True, n_jobs=-1, normalize=False)"
            ]
          },
          "metadata": {
            "tags": []
          },
          "execution_count": 104
        }
      ]
    },
    {
      "cell_type": "code",
      "metadata": {
        "colab": {
          "base_uri": "https://localhost:8080/"
        },
        "id": "FoU9sUDrJrM2",
        "outputId": "10419084-7459-41c4-e078-cc1781aaa409"
      },
      "source": [
        "reg_model.coef_"
      ],
      "execution_count": null,
      "outputs": [
        {
          "output_type": "execute_result",
          "data": {
            "text/plain": [
              "array([[0.00040938]])"
            ]
          },
          "metadata": {
            "tags": []
          },
          "execution_count": 105
        }
      ]
    },
    {
      "cell_type": "code",
      "metadata": {
        "colab": {
          "base_uri": "https://localhost:8080/"
        },
        "id": "8IYdANeElQH3",
        "outputId": "9935a700-e8a5-4edf-e3e5-f3a9404122c6"
      },
      "source": [
        "reg_model.intercept_"
      ],
      "execution_count": null,
      "outputs": [
        {
          "output_type": "execute_result",
          "data": {
            "text/plain": [
              "array([333.24092007])"
            ]
          },
          "metadata": {
            "tags": []
          },
          "execution_count": 106
        }
      ]
    },
    {
      "cell_type": "code",
      "metadata": {
        "id": "UQVRiCPMlUk9"
      },
      "source": [
        "X_test = [[x] for x in violent_2019['population']]\n",
        "y_pred = reg_model.predict(X_test)\n",
        "y_test = violent_2019[target]"
      ],
      "execution_count": null,
      "outputs": []
    },
    {
      "cell_type": "code",
      "metadata": {
        "colab": {
          "base_uri": "https://localhost:8080/"
        },
        "id": "aiEbnzXTlWyU",
        "outputId": "a1347759-d5c3-4c69-ae13-0b17d997b7bb"
      },
      "source": [
        "reg_model.predict(X_test)"
      ],
      "execution_count": null,
      "outputs": [
        {
          "output_type": "execute_result",
          "data": {
            "text/plain": [
              "array([[ 2340.502791  ],\n",
              "       [  632.72021473],\n",
              "       [ 3312.99614109],\n",
              "       [ 1568.66705699],\n",
              "       [16508.72250262],\n",
              "       [ 2690.74756066],\n",
              "       [ 1792.7952004 ],\n",
              "       [  731.87963113],\n",
              "       [  622.15986932],\n",
              "       [ 9125.7793525 ],\n",
              "       [ 4679.79287668],\n",
              "       [  912.86944311],\n",
              "       [ 1064.8281303 ],\n",
              "       [ 5520.82065212],\n",
              "       [ 3089.27123616],\n",
              "       [ 1624.86089996],\n",
              "       [ 1525.89102612],\n",
              "       [ 2162.21324411],\n",
              "       [ 2236.36041117],\n",
              "       [  883.53333083],\n",
              "       [ 2808.21646103],\n",
              "       [ 3154.88816918],\n",
              "       [ 4421.65228258],\n",
              "       [ 2641.98886241],\n",
              "       [ 1551.61436711],\n",
              "       [ 2845.77618234],\n",
              "       [  770.77638485],\n",
              "       [ 1125.1472873 ],\n",
              "       [ 1594.19266782],\n",
              "       [  889.87829879],\n",
              "       [ 3969.42460829],\n",
              "       [ 1191.63906364],\n",
              "       [ 8297.12383475],\n",
              "       [ 4626.84418249],\n",
              "       [  645.21323927],\n",
              "       [ 5118.51513172],\n",
              "       [ 1953.14247644],\n",
              "       [ 2059.89464855],\n",
              "       [ 5574.10872165],\n",
              "       [  766.92126108],\n",
              "       [ 2441.0172525 ],\n",
              "       [  695.401899  ],\n",
              "       [ 3128.96259488],\n",
              "       [12203.55100324],\n",
              "       [ 1645.69338784],\n",
              "       [  588.68902729],\n",
              "       [ 3827.50471743],\n",
              "       [ 3450.61959741],\n",
              "       [ 1066.90859531],\n",
              "       [ 2716.82419588],\n",
              "       [  570.17280683]])"
            ]
          },
          "metadata": {
            "tags": []
          },
          "execution_count": 108
        }
      ]
    },
    {
      "cell_type": "code",
      "metadata": {
        "colab": {
          "base_uri": "https://localhost:8080/"
        },
        "id": "Iq7qTIN3lZAY",
        "outputId": "0b9ac363-b4ad-40b1-c6da-4deb4123ffc4"
      },
      "source": [
        "r2_score(y_test, y_pred)"
      ],
      "execution_count": null,
      "outputs": [
        {
          "output_type": "execute_result",
          "data": {
            "text/plain": [
              "0.9076933614549448"
            ]
          },
          "metadata": {
            "tags": []
          },
          "execution_count": 109
        }
      ]
    },
    {
      "cell_type": "code",
      "metadata": {
        "colab": {
          "base_uri": "https://localhost:8080/",
          "height": 295
        },
        "id": "XO7L18k9lvT-",
        "outputId": "e4555dec-9ce5-47a4-c10f-f81a707c64af"
      },
      "source": [
        "### visualization: rape\n",
        "\n",
        "plt.scatter(X_test, y_test, color = 'dodgerblue', marker = 'o', linewidth = 1.5)\n",
        "\n",
        "plt.scatter(X_test, y_pred, color = 'crimson', marker = '8', linewidth = 1.5)\n",
        "\n",
        "plt.xlabel('population')\n",
        "plt.ylabel('rape')\n",
        "plt.title('Prediction of Rape', fontsize = 13, fontweight = 'bold')\n",
        "plt.show()"
      ],
      "execution_count": null,
      "outputs": [
        {
          "output_type": "display_data",
          "data": {
            "image/png": "[encoded data removed]",
            "text/plain": [
              "<Figure size 432x288 with 1 Axes>"
            ]
          },
          "metadata": {
            "tags": [],
            "needs_background": "light"
          }
        }
      ]
    },
    {
      "cell_type": "markdown",
      "metadata": {
        "id": "S4_Es47UbZa5"
      },
      "source": [
        "2019년 강간죄 예측은 약 91%의 정확도를 보였다.<br>\n",
        "9% 가량은 인구 수만으로 예측하기엔 정확도가 다소 떨어졌다."
      ]
    },
    {
      "cell_type": "markdown",
      "metadata": {
        "id": "D9in-z4MWwqz"
      },
      "source": [
        "(3) 강도죄"
      ]
    },
    {
      "cell_type": "code",
      "metadata": {
        "colab": {
          "base_uri": "https://localhost:8080/"
        },
        "id": "cUBeZ3I6BfAE",
        "outputId": "c0cbc91a-8e99-40ff-a0f7-ee0c450c0869"
      },
      "source": [
        "### robbery\n",
        "\n",
        "reg_model = LinearRegression(n_jobs = -1)\n",
        "\n",
        "feature = ['population']\n",
        "target = ['robbery']\n",
        "\n",
        "X_train = violent_crime[feature]\n",
        "y_train = violent_crime[target]\n",
        "\n",
        "reg_model.fit(X_train, y_train)"
      ],
      "execution_count": null,
      "outputs": [
        {
          "output_type": "execute_result",
          "data": {
            "text/plain": [
              "LinearRegression(copy_X=True, fit_intercept=True, n_jobs=-1, normalize=False)"
            ]
          },
          "metadata": {
            "tags": []
          },
          "execution_count": 111
        }
      ]
    },
    {
      "cell_type": "code",
      "metadata": {
        "colab": {
          "base_uri": "https://localhost:8080/"
        },
        "id": "F9aZ7AuOJrsE",
        "outputId": "3c4503a4-89b1-46f4-f4e4-12ceea7590ca"
      },
      "source": [
        "reg_model.coef_"
      ],
      "execution_count": null,
      "outputs": [
        {
          "output_type": "execute_result",
          "data": {
            "text/plain": [
              "array([[0.00134544]])"
            ]
          },
          "metadata": {
            "tags": []
          },
          "execution_count": 112
        }
      ]
    },
    {
      "cell_type": "code",
      "metadata": {
        "colab": {
          "base_uri": "https://localhost:8080/"
        },
        "id": "ndZLVop0lesL",
        "outputId": "6ad90b7a-ad6f-432b-f104-2743e2246722"
      },
      "source": [
        "reg_model.intercept_"
      ],
      "execution_count": null,
      "outputs": [
        {
          "output_type": "execute_result",
          "data": {
            "text/plain": [
              "array([-1668.83080611])"
            ]
          },
          "metadata": {
            "tags": []
          },
          "execution_count": 113
        }
      ]
    },
    {
      "cell_type": "code",
      "metadata": {
        "id": "Kclw_B31lhrP"
      },
      "source": [
        "X_test = [[x] for x in violent_2019['population']]\n",
        "y_pred = reg_model.predict(X_test)\n",
        "y_test = violent_2019[target]"
      ],
      "execution_count": null,
      "outputs": []
    },
    {
      "cell_type": "code",
      "metadata": {
        "colab": {
          "base_uri": "https://localhost:8080/"
        },
        "id": "1mH57Tculkb4",
        "outputId": "d65e8924-608c-46af-c00a-910232ca839b"
      },
      "source": [
        "reg_model.predict(X_test)"
      ],
      "execution_count": null,
      "outputs": [
        {
          "output_type": "execute_result",
          "data": {
            "text/plain": [
              "array([[ 4928.09181955],\n",
              "       [ -684.5836765 ],\n",
              "       [ 8124.2185818 ],\n",
              "       [ 2391.4319593 ],\n",
              "       [51492.3446133 ],\n",
              "       [ 6079.18111137],\n",
              "       [ 3128.03540988],\n",
              "       [ -358.69346403],\n",
              "       [ -719.29054888],\n",
              "       [27228.09418515],\n",
              "       [12616.23451671],\n",
              "       [  236.13464631],\n",
              "       [  735.55114807],\n",
              "       [15380.29596826],\n",
              "       [ 7388.94038588],\n",
              "       [ 2576.1146056 ],\n",
              "       [ 2250.84733009],\n",
              "       [ 4342.13820643],\n",
              "       [ 4585.82495757],\n",
              "       [  139.72068776],\n",
              "       [ 6465.24595817],\n",
              "       [ 7604.59228278],\n",
              "       [11767.84818979],\n",
              "       [ 5918.93427744],\n",
              "       [ 2335.38781412],\n",
              "       [ 6588.68703924],\n",
              "       [ -230.85818831],\n",
              "       [  933.79175503],\n",
              "       [ 2475.32259764],\n",
              "       [  160.57360352],\n",
              "       [10281.58921198],\n",
              "       [ 1152.31884911],\n",
              "       [24504.69450663],\n",
              "       [12442.21714321],\n",
              "       [ -643.52499979],\n",
              "       [14058.10755408],\n",
              "       [ 3655.02124495],\n",
              "       [ 4005.86526275],\n",
              "       [15555.42870838],\n",
              "       [ -243.52816107],\n",
              "       [ 5258.43542587],\n",
              "       [ -478.5785572 ],\n",
              "       [ 7519.38715327],\n",
              "       [37343.27732765],\n",
              "       [ 2644.58116327],\n",
              "       [ -829.29341312],\n",
              "       [ 9815.16549687],\n",
              "       [ 8576.52194392],\n",
              "       [  742.38865487],\n",
              "       [ 6164.88270684],\n",
              "       [ -890.14749273]])"
            ]
          },
          "metadata": {
            "tags": []
          },
          "execution_count": 115
        }
      ]
    },
    {
      "cell_type": "code",
      "metadata": {
        "colab": {
          "base_uri": "https://localhost:8080/"
        },
        "id": "X6Jm7R-_lmQs",
        "outputId": "a5e72d89-6aee-44e6-aa20-8f6cc6890127"
      },
      "source": [
        "r2_score(y_test, y_pred)"
      ],
      "execution_count": null,
      "outputs": [
        {
          "output_type": "execute_result",
          "data": {
            "text/plain": [
              "0.8458770140683446"
            ]
          },
          "metadata": {
            "tags": []
          },
          "execution_count": 116
        }
      ]
    },
    {
      "cell_type": "code",
      "metadata": {
        "colab": {
          "base_uri": "https://localhost:8080/",
          "height": 295
        },
        "id": "RTfPhthLlwMZ",
        "outputId": "87efcb6d-dd69-4ff9-968a-b126c8eb5a4e"
      },
      "source": [
        "### visualization: robbery\n",
        "\n",
        "plt.scatter(X_test, y_test, color = 'dodgerblue', marker = 'o', linewidth = 1.5)\n",
        "\n",
        "plt.scatter(X_test, y_pred, color = 'crimson', marker = '8', linewidth = 1.5)\n",
        "\n",
        "plt.xlabel('population')\n",
        "plt.ylabel('robbery')\n",
        "plt.title('Prediction of Robbery', fontsize = 13, fontweight = 'bold')\n",
        "plt.show()"
      ],
      "execution_count": null,
      "outputs": [
        {
          "output_type": "display_data",
          "data": {
            "image/png": "[encoded data removed]",
            "text/plain": [
              "<Figure size 432x288 with 1 Axes>"
            ]
          },
          "metadata": {
            "tags": [],
            "needs_background": "light"
          }
        }
      ]
    },
    {
      "cell_type": "markdown",
      "metadata": {
        "id": "yNZ-0QXueSyK"
      },
      "source": [
        "2019년 강도죄 예측은 약 85%의 정확도를 보였다.<br>\n",
        "15% 가량은 인구 수만으로 예측하기엔 정확도가 다소 떨어졌다."
      ]
    },
    {
      "cell_type": "markdown",
      "metadata": {
        "id": "RQyezIZrWzJ4"
      },
      "source": [
        "(4) 가중 폭행죄"
      ]
    },
    {
      "cell_type": "code",
      "metadata": {
        "colab": {
          "base_uri": "https://localhost:8080/"
        },
        "id": "zzpCvn6xBeyB",
        "outputId": "795ceece-6106-4c8d-cf83-0d1d7f68390c"
      },
      "source": [
        "### aggravated_assault\n",
        "\n",
        "reg_model = LinearRegression(n_jobs = -1)\n",
        "\n",
        "feature = ['population']\n",
        "target = ['aggravated_assault']\n",
        "\n",
        "X_train = violent_crime[feature]\n",
        "y_train = violent_crime[target]\n",
        "\n",
        "reg_model.fit(X_train, y_train)"
      ],
      "execution_count": null,
      "outputs": [
        {
          "output_type": "execute_result",
          "data": {
            "text/plain": [
              "LinearRegression(copy_X=True, fit_intercept=True, n_jobs=-1, normalize=False)"
            ]
          },
          "metadata": {
            "tags": []
          },
          "execution_count": 118
        }
      ]
    },
    {
      "cell_type": "code",
      "metadata": {
        "colab": {
          "base_uri": "https://localhost:8080/"
        },
        "id": "bhJRZTSGJsLU",
        "outputId": "e04210d9-e229-4827-e049-d7fe600ee8be"
      },
      "source": [
        "reg_model.coef_"
      ],
      "execution_count": null,
      "outputs": [
        {
          "output_type": "execute_result",
          "data": {
            "text/plain": [
              "array([[0.0025385]])"
            ]
          },
          "metadata": {
            "tags": []
          },
          "execution_count": 119
        }
      ]
    },
    {
      "cell_type": "code",
      "metadata": {
        "colab": {
          "base_uri": "https://localhost:8080/"
        },
        "id": "uVeBkubTlf6j",
        "outputId": "240eea37-e48a-49b6-ca6f-8df3662e923f"
      },
      "source": [
        "reg_model.intercept_"
      ],
      "execution_count": null,
      "outputs": [
        {
          "output_type": "execute_result",
          "data": {
            "text/plain": [
              "array([-589.28460767])"
            ]
          },
          "metadata": {
            "tags": []
          },
          "execution_count": 120
        }
      ]
    },
    {
      "cell_type": "code",
      "metadata": {
        "id": "ltIC4KFYlib6"
      },
      "source": [
        "X_test = [[x] for x in violent_2019['population']]\n",
        "y_pred = reg_model.predict(X_test)\n",
        "y_test = violent_2019[target]"
      ],
      "execution_count": null,
      "outputs": []
    },
    {
      "cell_type": "code",
      "metadata": {
        "colab": {
          "base_uri": "https://localhost:8080/"
        },
        "id": "UPFM1CnMlogC",
        "outputId": "41c6a1f4-e92e-49b5-aa9e-3f06e2d627bc"
      },
      "source": [
        "reg_model.predict(X_test)"
      ],
      "execution_count": null,
      "outputs": [
        {
          "output_type": "execute_result",
          "data": {
            "text/plain": [
              "array([[11857.43543409],\n",
              "       [ 1267.74012481],\n",
              "       [17887.71610966],\n",
              "       [ 7071.40156446],\n",
              "       [99712.37194997],\n",
              "       [14029.24901617],\n",
              "       [ 8461.18547606],\n",
              "       [ 1882.61231132],\n",
              "       [ 1202.25705815],\n",
              "       [53931.88470769],\n",
              "       [26363.01102179],\n",
              "       [ 3004.90210952],\n",
              "       [ 3947.17439835],\n",
              "       [31578.09402607],\n",
              "       [16500.43261752],\n",
              "       [ 7419.85088327],\n",
              "       [ 6806.15402084],\n",
              "       [10751.88956159],\n",
              "       [11211.66466302],\n",
              "       [ 2822.99341993],\n",
              "       [14757.65547761],\n",
              "       [16907.31305854],\n",
              "       [24762.32117022],\n",
              "       [13726.90387849],\n",
              "       [ 6965.66047508],\n",
              "       [14990.55749342],\n",
              "       [ 2123.80505808],\n",
              "       [ 4321.20415066],\n",
              "       [ 7229.68192468],\n",
              "       [ 2862.33758376],\n",
              "       [21958.12738835],\n",
              "       [ 4733.5093596 ],\n",
              "       [48793.52015745],\n",
              "       [26034.6843681 ],\n",
              "       [ 1345.20743545],\n",
              "       [29083.45979013],\n",
              "       [ 9455.47410536],\n",
              "       [10117.42779432],\n",
              "       [31908.52509371],\n",
              "       [ 2099.90003255],\n",
              "       [12480.71004541],\n",
              "       [ 1656.41954288],\n",
              "       [16746.55258682],\n",
              "       [73016.67012811],\n",
              "       [ 7549.02991475],\n",
              "       [  994.70954962],\n",
              "       [21078.10412111],\n",
              "       [18741.09785168],\n",
              "       [ 3960.07503971],\n",
              "       [14190.94619325],\n",
              "       [  879.89333374]])"
            ]
          },
          "metadata": {
            "tags": []
          },
          "execution_count": 122
        }
      ]
    },
    {
      "cell_type": "code",
      "metadata": {
        "colab": {
          "base_uri": "https://localhost:8080/"
        },
        "id": "Q0tqJPGflnLV",
        "outputId": "d9f44035-5e5d-4cf9-a941-da432af123a8"
      },
      "source": [
        "r2_score(y_test, y_pred)"
      ],
      "execution_count": null,
      "outputs": [
        {
          "output_type": "execute_result",
          "data": {
            "text/plain": [
              "0.934542813116817"
            ]
          },
          "metadata": {
            "tags": []
          },
          "execution_count": 123
        }
      ]
    },
    {
      "cell_type": "code",
      "metadata": {
        "colab": {
          "base_uri": "https://localhost:8080/",
          "height": 295
        },
        "id": "YLhNOI_Hlxmj",
        "outputId": "879cd130-13e4-41a7-a992-b897d5f31f42"
      },
      "source": [
        "### visualization: aggravated_assault\n",
        "\n",
        "plt.scatter(X_test, y_test, color = 'dodgerblue', marker = 'o', linewidth = 1.5)\n",
        "\n",
        "plt.scatter(X_test, y_pred, color = 'crimson', marker = '8', linewidth = 1.5)\n",
        "\n",
        "plt.xlabel('population')\n",
        "plt.ylabel('aggravated assault')\n",
        "plt.title('Prediction of Aggravated Assault', fontsize = 13, fontweight = 'bold')\n",
        "plt.show()"
      ],
      "execution_count": null,
      "outputs": [
        {
          "output_type": "display_data",
          "data": {
            "image/png": "[encoded data removed]",
            "text/plain": [
              "<Figure size 432x288 with 1 Axes>"
            ]
          },
          "metadata": {
            "tags": [],
            "needs_background": "light"
          }
        }
      ]
    },
    {
      "cell_type": "markdown",
      "metadata": {
        "id": "O1Es8X7legVz"
      },
      "source": [
        "2019년 가중 폭행죄 예측은 약 93%의 정확도를 보였다.<br>\n",
        "7% 가량은 인구 수만으로 예측하기엔 정확도가 다소 떨어졌다."
      ]
    },
    {
      "cell_type": "markdown",
      "metadata": {
        "id": "Cujl7lmZZdEk"
      },
      "source": [
        "#### **property_2019**"
      ]
    },
    {
      "cell_type": "code",
      "metadata": {
        "id": "FD92PUhiVLbC"
      },
      "source": [
        "property_2019 = df_test[['state_name',\t'population', 'burglary',\t'larceny',\t'motor_vehicle_theft']]"
      ],
      "execution_count": null,
      "outputs": []
    },
    {
      "cell_type": "code",
      "metadata": {
        "colab": {
          "base_uri": "https://localhost:8080/",
          "height": 204
        },
        "id": "vAs_WaNjWIiE",
        "outputId": "6804037d-695e-4816-b969-0bda2c5e1499"
      },
      "source": [
        "property_2019.head()"
      ],
      "execution_count": null,
      "outputs": [
        {
          "output_type": "execute_result",
          "data": {
            "text/html": [
              "<div>\n",
              "<style scoped>\n",
              "    .dataframe tbody tr th:only-of-type {\n",
              "        vertical-align: middle;\n",
              "    }\n",
              "\n",
              "    .dataframe tbody tr th {\n",
              "        vertical-align: top;\n",
              "    }\n",
              "\n",
              "    .dataframe thead th {\n",
              "        text-align: right;\n",
              "    }\n",
              "</style>\n",
              "<table border=\"1\" class=\"dataframe\">\n",
              "  <thead>\n",
              "    <tr style=\"text-align: right;\">\n",
              "      <th></th>\n",
              "      <th>state_name</th>\n",
              "      <th>population</th>\n",
              "      <th>burglary</th>\n",
              "      <th>larceny</th>\n",
              "      <th>motor_vehicle_theft</th>\n",
              "    </tr>\n",
              "  </thead>\n",
              "  <tbody>\n",
              "    <tr>\n",
              "      <th>0</th>\n",
              "      <td>Alabama</td>\n",
              "      <td>4903185</td>\n",
              "      <td>26079</td>\n",
              "      <td>92477</td>\n",
              "      <td>12577</td>\n",
              "    </tr>\n",
              "    <tr>\n",
              "      <th>1</th>\n",
              "      <td>Alaska</td>\n",
              "      <td>731545</td>\n",
              "      <td>3563</td>\n",
              "      <td>15114</td>\n",
              "      <td>2617</td>\n",
              "    </tr>\n",
              "    <tr>\n",
              "      <th>2</th>\n",
              "      <td>Arizona</td>\n",
              "      <td>7278717</td>\n",
              "      <td>28699</td>\n",
              "      <td>130788</td>\n",
              "      <td>18151</td>\n",
              "    </tr>\n",
              "    <tr>\n",
              "      <th>3</th>\n",
              "      <td>Arkansas</td>\n",
              "      <td>3017804</td>\n",
              "      <td>18095</td>\n",
              "      <td>60735</td>\n",
              "      <td>7420</td>\n",
              "    </tr>\n",
              "    <tr>\n",
              "      <th>4</th>\n",
              "      <td>California</td>\n",
              "      <td>39512223</td>\n",
              "      <td>152555</td>\n",
              "      <td>626802</td>\n",
              "      <td>141757</td>\n",
              "    </tr>\n",
              "  </tbody>\n",
              "</table>\n",
              "</div>"
            ],
            "text/plain": [
              "   state_name  population  burglary  larceny  motor_vehicle_theft\n",
              "0     Alabama     4903185     26079    92477                12577\n",
              "1      Alaska      731545      3563    15114                 2617\n",
              "2     Arizona     7278717     28699   130788                18151\n",
              "3    Arkansas     3017804     18095    60735                 7420\n",
              "4  California    39512223    152555   626802               141757"
            ]
          },
          "metadata": {
            "tags": []
          },
          "execution_count": 126
        }
      ]
    },
    {
      "cell_type": "code",
      "metadata": {
        "colab": {
          "base_uri": "https://localhost:8080/"
        },
        "id": "S8REC_JQWKUM",
        "outputId": "43af1d59-e02f-4392-8cc5-716e7be0957d"
      },
      "source": [
        "property_2019.shape"
      ],
      "execution_count": null,
      "outputs": [
        {
          "output_type": "execute_result",
          "data": {
            "text/plain": [
              "(51, 5)"
            ]
          },
          "metadata": {
            "tags": []
          },
          "execution_count": 127
        }
      ]
    },
    {
      "cell_type": "markdown",
      "metadata": {
        "id": "uvB5ahL6W4_F"
      },
      "source": [
        "(1) 주거 침입 절도죄"
      ]
    },
    {
      "cell_type": "code",
      "metadata": {
        "colab": {
          "base_uri": "https://localhost:8080/"
        },
        "id": "j7XtgeqMJVCk",
        "outputId": "2e4b3119-833e-425b-d5be-5f9b598c821d"
      },
      "source": [
        "### burglary\n",
        "\n",
        "reg_model2 = LinearRegression(n_jobs = -1)\n",
        "\n",
        "feature = ['population']\n",
        "target = ['burglary']\n",
        "\n",
        "X_train = property_crime[feature]\n",
        "y_train = property_crime[target]\n",
        "\n",
        "reg_model2.fit(X_train, y_train)"
      ],
      "execution_count": null,
      "outputs": [
        {
          "output_type": "execute_result",
          "data": {
            "text/plain": [
              "LinearRegression(copy_X=True, fit_intercept=True, n_jobs=-1, normalize=False)"
            ]
          },
          "metadata": {
            "tags": []
          },
          "execution_count": 128
        }
      ]
    },
    {
      "cell_type": "code",
      "metadata": {
        "colab": {
          "base_uri": "https://localhost:8080/"
        },
        "id": "YZMGXyP5mPms",
        "outputId": "f51c8149-4bfa-414d-dbe4-8f62da75bee6"
      },
      "source": [
        "reg_model2.coef_"
      ],
      "execution_count": null,
      "outputs": [
        {
          "output_type": "execute_result",
          "data": {
            "text/plain": [
              "array([[0.00553943]])"
            ]
          },
          "metadata": {
            "tags": []
          },
          "execution_count": 129
        }
      ]
    },
    {
      "cell_type": "code",
      "metadata": {
        "colab": {
          "base_uri": "https://localhost:8080/"
        },
        "id": "DzrS0I-omPfc",
        "outputId": "af940590-15df-47a0-8530-01281e1c08db"
      },
      "source": [
        "reg_model2.intercept_"
      ],
      "execution_count": null,
      "outputs": [
        {
          "output_type": "execute_result",
          "data": {
            "text/plain": [
              "array([920.83628245])"
            ]
          },
          "metadata": {
            "tags": []
          },
          "execution_count": 130
        }
      ]
    },
    {
      "cell_type": "code",
      "metadata": {
        "id": "X5nFHCXsmPWk"
      },
      "source": [
        "X_test = [[x] for x in property_2019['population']]\n",
        "y_pred = reg_model2.predict(X_test)\n",
        "y_test = property_2019[target]"
      ],
      "execution_count": null,
      "outputs": []
    },
    {
      "cell_type": "code",
      "metadata": {
        "colab": {
          "base_uri": "https://localhost:8080/"
        },
        "id": "tqHgxkiWmaQe",
        "outputId": "363359eb-7688-4d1f-c671-c7df492bfc70"
      },
      "source": [
        "reg_model2.predict(X_test)"
      ],
      "execution_count": null,
      "outputs": [
        {
          "output_type": "execute_result",
          "data": {
            "text/plain": [
              "array([[ 28081.69239947],\n",
              "       [  4973.17950183],\n",
              "       [ 41240.78854888],\n",
              "       [ 17637.75400702],\n",
              "       [219796.07834785],\n",
              "       [ 32820.958328  ],\n",
              "       [ 20670.49843529],\n",
              "       [  6314.93499501],\n",
              "       [  4830.28433382],\n",
              "       [119895.28337676],\n",
              "       [ 59735.32083412],\n",
              "       [  8763.96185738],\n",
              "       [ 10820.15995406],\n",
              "       [ 71115.51727482],\n",
              "       [ 38213.50046038],\n",
              "       [ 18398.12957428],\n",
              "       [ 17058.93883777],\n",
              "       [ 25669.20362549],\n",
              "       [ 26672.51094936],\n",
              "       [  8367.00621542],\n",
              "       [ 34410.46488295],\n",
              "       [ 39101.3826557 ],\n",
              "       [ 56242.34384095],\n",
              "       [ 32161.18991074],\n",
              "       [ 17407.00899913],\n",
              "       [ 34918.69661947],\n",
              "       [  6841.25851393],\n",
              "       [ 11636.35636983],\n",
              "       [ 17983.1486231 ],\n",
              "       [  8452.86186006],\n",
              "       [ 50123.11696205],\n",
              "       [ 12536.07632968],\n",
              "       [108682.4996267 ],\n",
              "       [ 59018.85633823],\n",
              "       [  5142.22632469],\n",
              "       [ 65671.80187674],\n",
              "       [ 22840.20501731],\n",
              "       [ 24284.70034151],\n",
              "       [ 71836.57395921],\n",
              "       [  6789.09369003],\n",
              "       [ 29441.78341002],\n",
              "       [  5821.34397523],\n",
              "       [ 38750.57601531],\n",
              "       [161541.52504437],\n",
              "       [ 18680.02015073],\n",
              "       [  4377.38043643],\n",
              "       [ 48202.75679801],\n",
              "       [ 43103.01238216],\n",
              "       [ 10848.31134357],\n",
              "       [ 33173.8090185 ],\n",
              "       [  4126.83196188]])"
            ]
          },
          "metadata": {
            "tags": []
          },
          "execution_count": 132
        }
      ]
    },
    {
      "cell_type": "code",
      "metadata": {
        "colab": {
          "base_uri": "https://localhost:8080/"
        },
        "id": "TXm6Zw8-mcq8",
        "outputId": "09cd00b0-7dec-4b9c-98e2-7987533820a2"
      },
      "source": [
        "r2_score(y_test, y_pred)"
      ],
      "execution_count": null,
      "outputs": [
        {
          "output_type": "execute_result",
          "data": {
            "text/plain": [
              "0.23728308054912428"
            ]
          },
          "metadata": {
            "tags": []
          },
          "execution_count": 133
        }
      ]
    },
    {
      "cell_type": "code",
      "metadata": {
        "colab": {
          "base_uri": "https://localhost:8080/",
          "height": 295
        },
        "id": "ezn-WP1CmhpH",
        "outputId": "6ba712d3-a120-4912-be46-55ddc9602717"
      },
      "source": [
        "### visualization\n",
        "\n",
        "plt.scatter(X_test, y_test, color ='dodgerblue', marker = 'o', linewidth = 1.5)\n",
        "\n",
        "plt.scatter(X_test, y_pred, color ='crimson', marker = '8', linewidth = 1.5)\n",
        "\n",
        "plt.xlabel('population')\n",
        "plt.ylabel('burglary')\n",
        "plt.title('Prediction of Burglary', fontsize = 13, fontweight = 'bold')\n",
        "plt.show()"
      ],
      "execution_count": null,
      "outputs": [
        {
          "output_type": "display_data",
          "data": {
            "image/png": "[encoded data removed]",
            "text/plain": [
              "<Figure size 432x288 with 1 Axes>"
            ]
          },
          "metadata": {
            "tags": [],
            "needs_background": "light"
          }
        }
      ]
    },
    {
      "cell_type": "markdown",
      "metadata": {
        "id": "PTD0zLvOevdE"
      },
      "source": [
        "2019년 주거 침입 절도죄 예측은 약 24%라는 현저히 낮은 정확도를 보였다.<br>\n",
        "주거 침입 절도죄의 76% 가량은 인구 수만으로 예측하기엔 정확도가 상당히 떨어졌다."
      ]
    },
    {
      "cell_type": "markdown",
      "metadata": {
        "id": "0chkxUDAW7xL"
      },
      "source": [
        "(2) 절도죄"
      ]
    },
    {
      "cell_type": "code",
      "metadata": {
        "colab": {
          "base_uri": "https://localhost:8080/"
        },
        "id": "svKWsI6oJWdZ",
        "outputId": "dd22d52f-af3e-41c7-e77b-55b67f4f71cb"
      },
      "source": [
        "### larceny\n",
        "\n",
        "reg_model2 = LinearRegression(n_jobs = -1)\n",
        "\n",
        "feature = ['population']\n",
        "target = ['larceny']\n",
        "\n",
        "X_train = property_crime[feature]\n",
        "y_train = property_crime[target]\n",
        "\n",
        "reg_model2.fit(X_train, y_train)"
      ],
      "execution_count": null,
      "outputs": [
        {
          "output_type": "execute_result",
          "data": {
            "text/plain": [
              "LinearRegression(copy_X=True, fit_intercept=True, n_jobs=-1, normalize=False)"
            ]
          },
          "metadata": {
            "tags": []
          },
          "execution_count": 135
        }
      ]
    },
    {
      "cell_type": "code",
      "metadata": {
        "colab": {
          "base_uri": "https://localhost:8080/"
        },
        "id": "hgCUbV0vmtZc",
        "outputId": "711671ad-dfd9-4b0d-a715-f9e46a22b2d5"
      },
      "source": [
        "reg_model2.coef_"
      ],
      "execution_count": null,
      "outputs": [
        {
          "output_type": "execute_result",
          "data": {
            "text/plain": [
              "array([[0.01770685]])"
            ]
          },
          "metadata": {
            "tags": []
          },
          "execution_count": 136
        }
      ]
    },
    {
      "cell_type": "code",
      "metadata": {
        "colab": {
          "base_uri": "https://localhost:8080/"
        },
        "id": "VYzx-cKimuj_",
        "outputId": "e032ab80-d3f8-43ea-ec9f-1837eeb2c13b"
      },
      "source": [
        "reg_model2.intercept_"
      ],
      "execution_count": null,
      "outputs": [
        {
          "output_type": "execute_result",
          "data": {
            "text/plain": [
              "array([5126.87704969])"
            ]
          },
          "metadata": {
            "tags": []
          },
          "execution_count": 137
        }
      ]
    },
    {
      "cell_type": "code",
      "metadata": {
        "id": "ixxVBtOPmuhu"
      },
      "source": [
        "X_test = [[x] for x in property_2019['population']]\n",
        "y_pred = reg_model2.predict(X_test)\n",
        "y_test = property_2019[target]"
      ],
      "execution_count": null,
      "outputs": []
    },
    {
      "cell_type": "code",
      "metadata": {
        "colab": {
          "base_uri": "https://localhost:8080/"
        },
        "id": "-TepCHIsmufx",
        "outputId": "970d2d2b-e532-4c23-cb58-a127af27c54a"
      },
      "source": [
        "reg_model2.predict(X_test)"
      ],
      "execution_count": null,
      "outputs": [
        {
          "output_type": "execute_result",
          "data": {
            "text/plain": [
              "array([[ 91946.82370661],\n",
              "       [ 18080.23244565],\n",
              "       [134010.00539807],\n",
              "       [ 58562.67078398],\n",
              "       [704763.76473727],\n",
              "       [107095.9343729 ],\n",
              "       [ 68256.86850558],\n",
              "       [ 22369.16722158],\n",
              "       [ 17623.46662018],\n",
              "       [385429.88023056],\n",
              "       [193127.96175157],\n",
              "       [ 30197.50593949],\n",
              "       [ 36770.16360169],\n",
              "       [229504.8728353 ],\n",
              "       [124333.24892078],\n",
              "       [ 60993.21884566],\n",
              "       [ 56712.4823399 ],\n",
              "       [ 84235.27935158],\n",
              "       [ 87442.36118888],\n",
              "       [ 28928.63328275],\n",
              "       [112176.80788135],\n",
              "       [127171.37318693],\n",
              "       [181962.62605984],\n",
              "       [104986.97806662],\n",
              "       [ 57825.09207178],\n",
              "       [113801.37568083],\n",
              "       [ 24051.56558339],\n",
              "       [ 39379.14356069],\n",
              "       [ 59666.72810875],\n",
              "       [ 29203.07170456],\n",
              "       [162402.4564938 ],\n",
              "       [ 42255.10735891],\n",
              "       [349588.10547717],\n",
              "       [190837.77586614],\n",
              "       [ 18620.59229586],\n",
              "       [212103.98243475],\n",
              "       [ 75192.35716986],\n",
              "       [ 79809.70083728],\n",
              "       [231809.73769691],\n",
              "       [ 23884.82020509],\n",
              "       [ 96294.36814614],\n",
              "       [ 20791.39861875],\n",
              "       [126050.01627263],\n",
              "       [518552.50583801],\n",
              "       [ 61894.28487631],\n",
              "       [ 16175.75480864],\n",
              "       [156264.00613398],\n",
              "       [139962.62239852],\n",
              "       [ 36860.14979819],\n",
              "       [108223.82511375],\n",
              "       [ 15374.87411838]])"
            ]
          },
          "metadata": {
            "tags": []
          },
          "execution_count": 139
        }
      ]
    },
    {
      "cell_type": "code",
      "metadata": {
        "colab": {
          "base_uri": "https://localhost:8080/"
        },
        "id": "cmdMJgr1mucg",
        "outputId": "9c2ce076-238d-4b2f-fb51-eaf29c485d76"
      },
      "source": [
        "r2_score(y_test, y_pred)"
      ],
      "execution_count": null,
      "outputs": [
        {
          "output_type": "execute_result",
          "data": {
            "text/plain": [
              "0.9161365636076509"
            ]
          },
          "metadata": {
            "tags": []
          },
          "execution_count": 140
        }
      ]
    },
    {
      "cell_type": "code",
      "metadata": {
        "colab": {
          "base_uri": "https://localhost:8080/",
          "height": 295
        },
        "id": "KOsPBfc9m-ca",
        "outputId": "9caf9c4e-8440-4bf8-9c61-9776f3f6c770"
      },
      "source": [
        "### visualization\n",
        "\n",
        "plt.scatter(X_test, y_test, color ='dodgerblue', marker = 'o', linewidth = 1.5)\n",
        "\n",
        "plt.scatter(X_test, y_pred, color ='crimson', marker = '8', linewidth = 1.5)\n",
        "\n",
        "plt.xlabel('population')\n",
        "plt.ylabel('larceny')\n",
        "plt.title('Prediction of Larceny', fontsize = 13, fontweight = 'bold')\n",
        "plt.show()"
      ],
      "execution_count": null,
      "outputs": [
        {
          "output_type": "display_data",
          "data": {
            "image/png": "[encoded data removed]",
            "text/plain": [
              "<Figure size 432x288 with 1 Axes>"
            ]
          },
          "metadata": {
            "tags": [],
            "needs_background": "light"
          }
        }
      ]
    },
    {
      "cell_type": "markdown",
      "metadata": {
        "id": "B0LVLU-FfN61"
      },
      "source": [
        "2019년 절도죄 예측은 약 92%의 정확도를 보였다.<br>\n",
        "8% 가량은 인구 수만으로 예측하기엔 정확도가 다소 떨어졌다."
      ]
    },
    {
      "cell_type": "markdown",
      "metadata": {
        "id": "FVcPUMAyW9uL"
      },
      "source": [
        "(3) 차량 절도죄"
      ]
    },
    {
      "cell_type": "code",
      "metadata": {
        "colab": {
          "base_uri": "https://localhost:8080/"
        },
        "id": "DeO-drnFJXR0",
        "outputId": "97e7313e-4b85-46ee-ae67-09141222c62c"
      },
      "source": [
        "### motor_vehicle_theft\n",
        "\n",
        "reg_model2 = LinearRegression(n_jobs = -1)\n",
        "\n",
        "feature = ['population']\n",
        "target = ['motor_vehicle_theft']\n",
        "\n",
        "X_train = property_crime[feature]\n",
        "y_train = property_crime[target]\n",
        "\n",
        "reg_model2.fit(X_train, y_train)"
      ],
      "execution_count": null,
      "outputs": [
        {
          "output_type": "execute_result",
          "data": {
            "text/plain": [
              "LinearRegression(copy_X=True, fit_intercept=True, n_jobs=-1, normalize=False)"
            ]
          },
          "metadata": {
            "tags": []
          },
          "execution_count": 142
        }
      ]
    },
    {
      "cell_type": "code",
      "metadata": {
        "colab": {
          "base_uri": "https://localhost:8080/"
        },
        "id": "VAAi0ckjmt7h",
        "outputId": "0960ad05-b1ba-4173-90a4-0155e666101c"
      },
      "source": [
        "reg_model2.coef_"
      ],
      "execution_count": null,
      "outputs": [
        {
          "output_type": "execute_result",
          "data": {
            "text/plain": [
              "array([[0.00304713]])"
            ]
          },
          "metadata": {
            "tags": []
          },
          "execution_count": 143
        }
      ]
    },
    {
      "cell_type": "code",
      "metadata": {
        "colab": {
          "base_uri": "https://localhost:8080/"
        },
        "id": "GdHgGgo6mvGl",
        "outputId": "3318dd50-99da-44c6-e850-e42fe74fc17e"
      },
      "source": [
        "reg_model2.intercept_"
      ],
      "execution_count": null,
      "outputs": [
        {
          "output_type": "execute_result",
          "data": {
            "text/plain": [
              "array([-4514.53107952])"
            ]
          },
          "metadata": {
            "tags": []
          },
          "execution_count": 144
        }
      ]
    },
    {
      "cell_type": "code",
      "metadata": {
        "id": "6-2y11CamvD5"
      },
      "source": [
        "X_test = [[x] for x in property_2019['population']]\n",
        "y_pred = reg_model2.predict(X_test)\n",
        "y_test = property_2019[target]"
      ],
      "execution_count": null,
      "outputs": []
    },
    {
      "cell_type": "code",
      "metadata": {
        "colab": {
          "base_uri": "https://localhost:8080/"
        },
        "id": "kSiEws3wmvAy",
        "outputId": "e6c27925-3c55-4dfe-e811-b43c49459138"
      },
      "source": [
        "reg_model2.predict(X_test)"
      ],
      "execution_count": null,
      "outputs": [
        {
          "output_type": "execute_result",
          "data": {
            "text/plain": [
              "array([[ 10426.13041421],\n",
              "       [ -2285.41547151],\n",
              "       [ 17664.69462901],\n",
              "       [  4681.12195385],\n",
              "       [115884.50520153],\n",
              "       [ 13033.10891525],\n",
              "       [  6349.37599211],\n",
              "       [ -1547.34173243],\n",
              "       [ -2364.01933898],\n",
              "       [ 60931.01057724],\n",
              "       [ 27838.17904232],\n",
              "       [  -200.17943452],\n",
              "       [   930.89535907],\n",
              "       [ 34098.20494209],\n",
              "       [ 15999.44201769],\n",
              "       [  5099.38984311],\n",
              "       [  4362.72692705],\n",
              "       [  9099.06701186],\n",
              "       [  9650.96696065],\n",
              "       [  -418.53705363],\n",
              "       [ 13907.4657204 ],\n",
              "       [ 16487.84883629],\n",
              "       [ 25916.7599738 ],\n",
              "       [ 12670.18307286],\n",
              "       [  4554.19358902],\n",
              "       [ 14187.03416637],\n",
              "       [ -1257.82134698],\n",
              "       [  1379.86921718],\n",
              "       [  4871.11685012],\n",
              "       [  -371.30952449],\n",
              "       [ 22550.69165081],\n",
              "       [  1874.78776104],\n",
              "       [ 54763.07515981],\n",
              "       [ 27444.06578391],\n",
              "       [ -2192.42608465],\n",
              "       [ 31103.72241619],\n",
              "       [  7542.88960755],\n",
              "       [  8337.47854006],\n",
              "       [ 34494.84427455],\n",
              "       [ -1286.51620742],\n",
              "       [ 11174.29016668],\n",
              "       [ -1818.85660336],\n",
              "       [ 16294.87689015],\n",
              "       [ 83839.80242685],\n",
              "       [  5254.45239574],\n",
              "       [ -2613.15301101],\n",
              "       [ 21494.33867602],\n",
              "       [ 18689.06793295],\n",
              "       [   946.38089382],\n",
              "       [ 13227.20525382],\n",
              "       [ -2750.97487973]])"
            ]
          },
          "metadata": {
            "tags": []
          },
          "execution_count": 146
        }
      ]
    },
    {
      "cell_type": "code",
      "metadata": {
        "colab": {
          "base_uri": "https://localhost:8080/"
        },
        "id": "SjNhyd_dmu-R",
        "outputId": "bd8af389-7405-439e-fce1-4eea1e511598"
      },
      "source": [
        "r2_score(y_test, y_pred)"
      ],
      "execution_count": null,
      "outputs": [
        {
          "output_type": "execute_result",
          "data": {
            "text/plain": [
              "0.793211521004604"
            ]
          },
          "metadata": {
            "tags": []
          },
          "execution_count": 147
        }
      ]
    },
    {
      "cell_type": "code",
      "metadata": {
        "colab": {
          "base_uri": "https://localhost:8080/",
          "height": 295
        },
        "id": "EiaKQBSKm_QN",
        "outputId": "497ea176-2a69-42de-f2fc-833e71c1d9b9"
      },
      "source": [
        "### visualization\n",
        "\n",
        "plt.scatter(X_test, y_test, color ='dodgerblue', marker = 'o', linewidth = 1.5)\n",
        "\n",
        "plt.scatter(X_test, y_pred, color ='crimson', marker = '8', linewidth = 1.5)\n",
        "\n",
        "plt.xlabel('population')\n",
        "plt.ylabel('motor vehicle theft')\n",
        "plt.title('Prediction of Motor Vehicle Theft', fontsize = 13, fontweight = 'bold')\n",
        "plt.show()"
      ],
      "execution_count": null,
      "outputs": [
        {
          "output_type": "display_data",
          "data": {
            "image/png": "[encoded data removed]",
            "text/plain": [
              "<Figure size 432x288 with 1 Axes>"
            ]
          },
          "metadata": {
            "tags": [],
            "needs_background": "light"
          }
        }
      ]
    },
    {
      "cell_type": "markdown",
      "metadata": {
        "id": "WpqymtMFfU5X"
      },
      "source": [
        "2019년 차량 절도죄 예측은 약 79%의 정확도를 보였다.<br>\n",
        "21% 가량은 인구 수만으로 예측하기엔 정확도가 다소 떨어졌다."
      ]
    },
    {
      "cell_type": "markdown",
      "metadata": {
        "id": "qvyIp5XiRmLZ"
      },
      "source": [
        "### **5. 정리**<br> "
      ]
    },
    {
      "cell_type": "markdown",
      "metadata": {
        "id": "ywBjYf0TiWb0"
      },
      "source": [
        "적은 예산 확보 속에서 오직 인구 수만으로 2019년 범죄 발생을 예측해본 결과는 다음과 같다.<br>\n",
        "- 90% 이상의 높은 정확도를 보인 범죄<br>\n",
        " 1. aggravated assault(가중 폭행죄): 93%\n",
        " 2. larceny(절도죄): 92%\n",
        " 3. rape(강간죄): 91%<br>\n",
        " <br>\n",
        "- 80% 이상의 정확도를 보인 범죄<br>\n",
        " 1. homicide(살인죄): 86%\n",
        " 2. robbery(강도죄): 85%<br>\n",
        "<br>\n",
        "- 70% 이상 80% 미만의 정확도를 보인 범죄<br>\n",
        " 1. motor vehicle theft(차량 절도죄): 79%<br>\n",
        "<br>\n",
        "- 50%의 정확도에도 미치지 못한 범죄<br>\n",
        " 1. burglary(주거 침입 절도죄): 24%<br>\n",
        "<br>\n",
        "\n",
        "인구 수는 형사 범죄 중 특히 강력 범죄를 예측하는 데 있어 탁월한 편이었다.<br>\n",
        "가중 폭행죄뿐만 아니라 심지어 강간죄에서도 91%라는 높은 예측도를 보였기 때문이다.<br>\n",
        "다소 놀라운 점은 비교적 범죄 성립 요건이 까다롭지 않은 절도죄를 제외한 재산범죄에서는 정확도가 높지 않았다는 것에 있다.<br>\n",
        "<br>\n",
        "다시 말해 인구 수의 규모만으로도 단순 재산범죄인 절도죄와 강력범죄인 가중 폭행죄, 강간죄, 살인죄 및 강도죄가 발생되는 데에 큰 영향을 미치고 있었다.<br>\n",
        "물론 차량 절도죄 역시 인구 수가 많아질수록 범죄 발발의 79%가 예측 가능할 정도로 영향을 받고 있었다.<br>\n",
        "다만 주거 침입 절도죄의 경우 인구 수만으로는 범죄 발생을 예측할 수 없었다.<br>\n",
        "주거 침입 절도죄는 인구 수뿐만 아니라 다른 요인들에 의해 범죄가 유발되는 모양이었다.<br>  \n"
      ]
    },
    {
      "cell_type": "markdown",
      "metadata": {
        "id": "xKlDIdVgK4jg"
      },
      "source": [
        "이를 바탕으로 본 부서는 인구 수를 통해 강력범죄 및 절도죄 발생을 높은 수준으로 예견하여<br>\n",
        "각 도시의 인구 규모에 맞는 부서 인원 배치 및 자원을 활용해 범죄 예방에 탁월한 업무 능력을 보여줄 수 있었다.<br>\n",
        "그 결과 정부로부터 더 많은 차기 예산안을 약속 받을 수 있었다.    "
      ]
    }
  ]
}